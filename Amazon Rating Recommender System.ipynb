{
 "cells": [
  {
   "cell_type": "code",
   "execution_count": 1,
   "metadata": {},
   "outputs": [
    {
     "name": "stderr",
     "output_type": "stream",
     "text": [
      "C:\\Users\\Bhaskara\\Anaconda3\\lib\\site-packages\\sklearn\\externals\\joblib\\__init__.py:15: FutureWarning: sklearn.externals.joblib is deprecated in 0.21 and will be removed in 0.23. Please import this functionality directly from joblib, which can be installed with: pip install joblib. If this warning is raised when loading pickled models, you may need to re-serialize those models with scikit-learn 0.21+.\n",
      "  warnings.warn(msg, category=FutureWarning)\n"
     ]
    }
   ],
   "source": [
    "# importing libraries\n",
    "import numpy as np \n",
    "import pandas as pd \n",
    "import os\n",
    "from IPython.core.interactiveshell import InteractiveShell\n",
    "InteractiveShell.ast_node_interactivity = \"all\"\n",
    "import math\n",
    "import json\n",
    "import time\n",
    "import matplotlib.pyplot as plt\n",
    "import seaborn as sns\n",
    "from sklearn.metrics.pairwise import cosine_similarity\n",
    "from sklearn.model_selection import train_test_split\n",
    "from sklearn.neighbors import NearestNeighbors\n",
    "from sklearn.externals import joblib\n",
    "import scipy.sparse\n",
    "from scipy.sparse import csr_matrix\n",
    "from scipy.sparse.linalg import svds\n",
    "import warnings; warnings.simplefilter('ignore')\n",
    "%matplotlib inline"
   ]
  },
  {
   "cell_type": "code",
   "execution_count": 4,
   "metadata": {},
   "outputs": [],
   "source": [
    "# loading dataset & renaming its columns\n",
    "amazon = pd.read_csv(\"Amazon_Ratings.csv\", names=['userID', 'productID','Rating','timestamp'])"
   ]
  },
  {
   "cell_type": "markdown",
   "metadata": {},
   "source": [
    "# 1) Data Description"
   ]
  },
  {
   "cell_type": "code",
   "execution_count": 5,
   "metadata": {},
   "outputs": [
    {
     "data": {
      "text/html": [
       "<div>\n",
       "<style scoped>\n",
       "    .dataframe tbody tr th:only-of-type {\n",
       "        vertical-align: middle;\n",
       "    }\n",
       "\n",
       "    .dataframe tbody tr th {\n",
       "        vertical-align: top;\n",
       "    }\n",
       "\n",
       "    .dataframe thead th {\n",
       "        text-align: right;\n",
       "    }\n",
       "</style>\n",
       "<table border=\"1\" class=\"dataframe\">\n",
       "  <thead>\n",
       "    <tr style=\"text-align: right;\">\n",
       "      <th></th>\n",
       "      <th>userID</th>\n",
       "      <th>productID</th>\n",
       "      <th>Rating</th>\n",
       "      <th>timestamp</th>\n",
       "    </tr>\n",
       "  </thead>\n",
       "  <tbody>\n",
       "    <tr>\n",
       "      <td>0</td>\n",
       "      <td>AKM1MP6P0OYPR</td>\n",
       "      <td>0132793040</td>\n",
       "      <td>5.0</td>\n",
       "      <td>1365811200</td>\n",
       "    </tr>\n",
       "    <tr>\n",
       "      <td>1</td>\n",
       "      <td>A2CX7LUOHB2NDG</td>\n",
       "      <td>0321732944</td>\n",
       "      <td>5.0</td>\n",
       "      <td>1341100800</td>\n",
       "    </tr>\n",
       "    <tr>\n",
       "      <td>2</td>\n",
       "      <td>A2NWSAGRHCP8N5</td>\n",
       "      <td>0439886341</td>\n",
       "      <td>1.0</td>\n",
       "      <td>1367193600</td>\n",
       "    </tr>\n",
       "    <tr>\n",
       "      <td>3</td>\n",
       "      <td>A2WNBOD3WNDNKT</td>\n",
       "      <td>0439886341</td>\n",
       "      <td>3.0</td>\n",
       "      <td>1374451200</td>\n",
       "    </tr>\n",
       "    <tr>\n",
       "      <td>4</td>\n",
       "      <td>A1GI0U4ZRJA8WN</td>\n",
       "      <td>0439886341</td>\n",
       "      <td>1.0</td>\n",
       "      <td>1334707200</td>\n",
       "    </tr>\n",
       "  </tbody>\n",
       "</table>\n",
       "</div>"
      ],
      "text/plain": [
       "           userID   productID  Rating   timestamp\n",
       "0   AKM1MP6P0OYPR  0132793040     5.0  1365811200\n",
       "1  A2CX7LUOHB2NDG  0321732944     5.0  1341100800\n",
       "2  A2NWSAGRHCP8N5  0439886341     1.0  1367193600\n",
       "3  A2WNBOD3WNDNKT  0439886341     3.0  1374451200\n",
       "4  A1GI0U4ZRJA8WN  0439886341     1.0  1334707200"
      ]
     },
     "execution_count": 5,
     "metadata": {},
     "output_type": "execute_result"
    }
   ],
   "source": [
    "# dataset head\n",
    "amazon.head()"
   ]
  },
  {
   "cell_type": "code",
   "execution_count": 7,
   "metadata": {},
   "outputs": [
    {
     "data": {
      "text/plain": [
       "(7824482, 4)"
      ]
     },
     "execution_count": 7,
     "metadata": {},
     "output_type": "execute_result"
    }
   ],
   "source": [
    "# dataset's shape\n",
    "amazon.shape"
   ]
  },
  {
   "cell_type": "code",
   "execution_count": 30,
   "metadata": {},
   "outputs": [],
   "source": [
    "# taking a subset of the dataset\n",
    "data = amazon.iloc[:1048576,0:]\n",
    "\n",
    "# dropping timestamp columns\n",
    "data = data.drop('timestamp', axis=1)"
   ]
  },
  {
   "cell_type": "code",
   "execution_count": 31,
   "metadata": {},
   "outputs": [
    {
     "name": "stdout",
     "output_type": "stream",
     "text": [
      "<class 'pandas.core.frame.DataFrame'>\n",
      "RangeIndex: 1048576 entries, 0 to 1048575\n",
      "Data columns (total 3 columns):\n",
      "userID       1048576 non-null object\n",
      "productID    1048576 non-null object\n",
      "Rating       1048576 non-null float64\n",
      "dtypes: float64(1), object(2)\n",
      "memory usage: 24.0+ MB\n"
     ]
    }
   ],
   "source": [
    "# checking the dataset \n",
    "data.info()"
   ]
  },
  {
   "cell_type": "code",
   "execution_count": 13,
   "metadata": {},
   "outputs": [
    {
     "data": {
      "text/plain": [
       "count    1.048576e+06\n",
       "mean     3.973380e+00\n",
       "std      1.399329e+00\n",
       "min      1.000000e+00\n",
       "25%      3.000000e+00\n",
       "50%      5.000000e+00\n",
       "75%      5.000000e+00\n",
       "max      5.000000e+00\n",
       "Name: Rating, dtype: float64"
      ]
     },
     "execution_count": 13,
     "metadata": {},
     "output_type": "execute_result"
    }
   ],
   "source": [
    "# rating summary\n",
    "data.describe()['Rating']"
   ]
  },
  {
   "cell_type": "code",
   "execution_count": 18,
   "metadata": {},
   "outputs": [
    {
     "name": "stdout",
     "output_type": "stream",
     "text": [
      "Minimun rating is: 1.0\n",
      "Maximum rating is: 5.0\n"
     ]
    }
   ],
   "source": [
    "# rechecking the minimum and maximum ratings\n",
    "print('Minimun rating is: {}'.format(data.Rating.min()))\n",
    "print('Maximum rating is: {}'.format(data.Rating.max()))"
   ]
  },
  {
   "cell_type": "code",
   "execution_count": 32,
   "metadata": {},
   "outputs": [
    {
     "data": {
      "text/plain": [
       "userID       0\n",
       "productID    0\n",
       "Rating       0\n",
       "dtype: int64"
      ]
     },
     "execution_count": 32,
     "metadata": {},
     "output_type": "execute_result"
    }
   ],
   "source": [
    "# rechecking null values\n",
    "data.isnull().sum()"
   ]
  },
  {
   "cell_type": "code",
   "execution_count": 26,
   "metadata": {},
   "outputs": [
    {
     "data": {
      "text/plain": [
       "<matplotlib.axes._subplots.AxesSubplot at 0x13702f25888>"
      ]
     },
     "execution_count": 26,
     "metadata": {},
     "output_type": "execute_result"
    },
    {
     "data": {
      "text/plain": [
       "Text(0, 0.5, 'Total number of ratings')"
      ]
     },
     "execution_count": 26,
     "metadata": {},
     "output_type": "execute_result"
    },
    {
     "data": {
      "text/plain": [
       "Text(0.5, 1.0, 'Rating Count')"
      ]
     },
     "execution_count": 26,
     "metadata": {},
     "output_type": "execute_result"
    },
    {
     "data": {
      "image/png": "[encoded data removed]",
      "text/plain": [
       "<Figure size 432x288 with 1 Axes>"
      ]
     },
     "metadata": {},
     "output_type": "display_data"
    }
   ],
   "source": [
    "# on rating count by range\n",
    "sns.set_style('whitegrid')\n",
    "sns.countplot(data=data, x='Rating')\n",
    "plt.ylabel(\"Total number of ratings\")\n",
    "plt.title('Rating Count')"
   ]
  },
  {
   "cell_type": "code",
   "execution_count": 29,
   "metadata": {},
   "outputs": [
    {
     "name": "stdout",
     "output_type": "stream",
     "text": [
      "Total count of ratings  :  1048576\n",
      "Total count of users    :  786330\n",
      "Total count of products :  61894\n"
     ]
    }
   ],
   "source": [
    "# on total rating, user and product count\n",
    "print(\"Total count of ratings  : \", data.shape[0])\n",
    "print(\"Total count of users    : \",  len(np.unique(data.userID)))\n",
    "print(\"Total count of products : \", len(np.unique(data.productID)))"
   ]
  },
  {
   "cell_type": "code",
   "execution_count": 84,
   "metadata": {},
   "outputs": [
    {
     "data": {
      "text/plain": [
       "userID\n",
       "A5JLAU2ARJ0BO     412\n",
       "A231WM2Z2JL0U3    249\n",
       "A25HBO5V8S8SEA    164\n",
       "A6FIAB28IS79      146\n",
       "AT6CZDCP4TRGA     128\n",
       "Name: Rating, dtype: int64"
      ]
     },
     "execution_count": 84,
     "metadata": {},
     "output_type": "execute_result"
    }
   ],
   "source": [
    "# analysis of products rated by user \n",
    "rated_products_per_user = data.groupby('userID')['Rating'].count().sort_values(ascending=False)\n",
    "rated_products_per_user.head()"
   ]
  },
  {
   "cell_type": "code",
   "execution_count": 85,
   "metadata": {},
   "outputs": [
    {
     "data": {
      "text/plain": [
       "count    786330.000000\n",
       "mean          1.333506\n",
       "std           1.385612\n",
       "min           1.000000\n",
       "25%           1.000000\n",
       "50%           1.000000\n",
       "75%           1.000000\n",
       "max         412.000000\n",
       "Name: Rating, dtype: float64"
      ]
     },
     "execution_count": 85,
     "metadata": {},
     "output_type": "execute_result"
    }
   ],
   "source": [
    "# its summary\n",
    "rated_products_per_user.describe()"
   ]
  },
  {
   "cell_type": "code",
   "execution_count": 86,
   "metadata": {},
   "outputs": [
    {
     "name": "stdout",
     "output_type": "stream",
     "text": [
      "There are 38 very active users that rates products >= 50 times\n"
     ]
    }
   ],
   "source": [
    "# users who rates >= 50 times\n",
    "print('There are {} very active users that rates products >= 50 times'.format(sum(rated_products_per_user >= 50)))"
   ]
  },
  {
   "cell_type": "code",
   "execution_count": 40,
   "metadata": {},
   "outputs": [
    {
     "data": {
      "text/plain": [
       "productID\n",
       "B0002L5R78    9487\n",
       "B0001FTVEK    5345\n",
       "B000I68BD4    4903\n",
       "B000BQ7GW8    4275\n",
       "B00007E7JU    3523\n",
       "Name: Rating, dtype: int64"
      ]
     },
     "execution_count": 40,
     "metadata": {},
     "output_type": "execute_result"
    }
   ],
   "source": [
    "# analysis of products rated by product\n",
    "rated_products_per_product = data.groupby('productID')['Rating'].count().sort_values(ascending=False)\n",
    "rated_products_per_product.head()"
   ]
  },
  {
   "cell_type": "code",
   "execution_count": 41,
   "metadata": {},
   "outputs": [
    {
     "data": {
      "text/plain": [
       "count    61894.000000\n",
       "mean        16.941481\n",
       "std         89.706837\n",
       "min          1.000000\n",
       "25%          1.000000\n",
       "50%          3.000000\n",
       "75%          9.000000\n",
       "max       9487.000000\n",
       "Name: Rating, dtype: float64"
      ]
     },
     "execution_count": 41,
     "metadata": {},
     "output_type": "execute_result"
    }
   ],
   "source": [
    "# its summary\n",
    "rated_products_per_product.describe()"
   ]
  },
  {
   "cell_type": "code",
   "execution_count": 90,
   "metadata": {},
   "outputs": [
    {
     "name": "stdout",
     "output_type": "stream",
     "text": [
      "There are 3813 popular products rated >= 50 times by users\n"
     ]
    }
   ],
   "source": [
    "# product that is rated >= 50 times\n",
    "print('There are {} popular products rated >= 50 times by users'.format(sum(rated_products_per_product >= 50)))"
   ]
  },
  {
   "cell_type": "markdown",
   "metadata": {},
   "source": [
    "# 2) Popularity Based Recommendation\n",
    "Popularity based recommendation system works with the trend. It basically uses the items which are in trend right now. For example, if any product which is usually bought by every new user then there are chances that it may suggest that item to the user who just signed up. The problems with popularity based recommendation system is that the personalization is not available with this method i.e. even though you know the behaviour of the user you cannot recommend items accordingly."
   ]
  },
  {
   "cell_type": "code",
   "execution_count": 112,
   "metadata": {},
   "outputs": [
    {
     "data": {
      "text/html": [
       "<div>\n",
       "<style scoped>\n",
       "    .dataframe tbody tr th:only-of-type {\n",
       "        vertical-align: middle;\n",
       "    }\n",
       "\n",
       "    .dataframe tbody tr th {\n",
       "        vertical-align: top;\n",
       "    }\n",
       "\n",
       "    .dataframe thead th {\n",
       "        text-align: right;\n",
       "    }\n",
       "</style>\n",
       "<table border=\"1\" class=\"dataframe\">\n",
       "  <thead>\n",
       "    <tr style=\"text-align: right;\">\n",
       "      <th></th>\n",
       "      <th>userID</th>\n",
       "      <th>productID</th>\n",
       "      <th>Rating</th>\n",
       "    </tr>\n",
       "  </thead>\n",
       "  <tbody>\n",
       "    <tr>\n",
       "      <td>183</td>\n",
       "      <td>A1BKC6B7YHYTVV</td>\n",
       "      <td>0972683275</td>\n",
       "      <td>4.0</td>\n",
       "    </tr>\n",
       "    <tr>\n",
       "      <td>184</td>\n",
       "      <td>AWVFSIB42LHKJ</td>\n",
       "      <td>0972683275</td>\n",
       "      <td>4.0</td>\n",
       "    </tr>\n",
       "    <tr>\n",
       "      <td>185</td>\n",
       "      <td>A36MQBNADRH8YY</td>\n",
       "      <td>0972683275</td>\n",
       "      <td>5.0</td>\n",
       "    </tr>\n",
       "    <tr>\n",
       "      <td>186</td>\n",
       "      <td>A3SRXMPLAEZ6DP</td>\n",
       "      <td>0972683275</td>\n",
       "      <td>4.0</td>\n",
       "    </tr>\n",
       "    <tr>\n",
       "      <td>187</td>\n",
       "      <td>A20XXTXWF2TCPY</td>\n",
       "      <td>0972683275</td>\n",
       "      <td>5.0</td>\n",
       "    </tr>\n",
       "  </tbody>\n",
       "</table>\n",
       "</div>"
      ],
      "text/plain": [
       "             userID   productID  Rating\n",
       "183  A1BKC6B7YHYTVV  0972683275     4.0\n",
       "184   AWVFSIB42LHKJ  0972683275     4.0\n",
       "185  A36MQBNADRH8YY  0972683275     5.0\n",
       "186  A3SRXMPLAEZ6DP  0972683275     4.0\n",
       "187  A20XXTXWF2TCPY  0972683275     5.0"
      ]
     },
     "execution_count": 112,
     "metadata": {},
     "output_type": "execute_result"
    }
   ],
   "source": [
    "# getting the new dataframe which contains products who has 50 or more ratings\n",
    "popular_data = data.groupby('productID').filter(lambda x: x['Rating'].count() >= 50)\n",
    "popular_data.head()"
   ]
  },
  {
   "cell_type": "code",
   "execution_count": 60,
   "metadata": {},
   "outputs": [
    {
     "data": {
      "text/html": [
       "<div>\n",
       "<style scoped>\n",
       "    .dataframe tbody tr th:only-of-type {\n",
       "        vertical-align: middle;\n",
       "    }\n",
       "\n",
       "    .dataframe tbody tr th {\n",
       "        vertical-align: top;\n",
       "    }\n",
       "\n",
       "    .dataframe thead th {\n",
       "        text-align: right;\n",
       "    }\n",
       "</style>\n",
       "<table border=\"1\" class=\"dataframe\">\n",
       "  <thead>\n",
       "    <tr style=\"text-align: right;\">\n",
       "      <th></th>\n",
       "      <th>Rating</th>\n",
       "    </tr>\n",
       "  </thead>\n",
       "  <tbody>\n",
       "    <tr>\n",
       "      <td>count</td>\n",
       "      <td>677947.000000</td>\n",
       "    </tr>\n",
       "    <tr>\n",
       "      <td>mean</td>\n",
       "      <td>4.049815</td>\n",
       "    </tr>\n",
       "    <tr>\n",
       "      <td>std</td>\n",
       "      <td>1.354329</td>\n",
       "    </tr>\n",
       "    <tr>\n",
       "      <td>min</td>\n",
       "      <td>1.000000</td>\n",
       "    </tr>\n",
       "    <tr>\n",
       "      <td>25%</td>\n",
       "      <td>4.000000</td>\n",
       "    </tr>\n",
       "    <tr>\n",
       "      <td>50%</td>\n",
       "      <td>5.000000</td>\n",
       "    </tr>\n",
       "    <tr>\n",
       "      <td>75%</td>\n",
       "      <td>5.000000</td>\n",
       "    </tr>\n",
       "    <tr>\n",
       "      <td>max</td>\n",
       "      <td>5.000000</td>\n",
       "    </tr>\n",
       "  </tbody>\n",
       "</table>\n",
       "</div>"
      ],
      "text/plain": [
       "              Rating\n",
       "count  677947.000000\n",
       "mean        4.049815\n",
       "std         1.354329\n",
       "min         1.000000\n",
       "25%         4.000000\n",
       "50%         5.000000\n",
       "75%         5.000000\n",
       "max         5.000000"
      ]
     },
     "execution_count": 60,
     "metadata": {},
     "output_type": "execute_result"
    }
   ],
   "source": [
    "# popular data summary\n",
    "popular_data.describe()"
   ]
  },
  {
   "cell_type": "code",
   "execution_count": 61,
   "metadata": {
    "scrolled": true
   },
   "outputs": [
    {
     "data": {
      "text/html": [
       "<div>\n",
       "<style scoped>\n",
       "    .dataframe tbody tr th:only-of-type {\n",
       "        vertical-align: middle;\n",
       "    }\n",
       "\n",
       "    .dataframe tbody tr th {\n",
       "        vertical-align: top;\n",
       "    }\n",
       "\n",
       "    .dataframe thead th {\n",
       "        text-align: right;\n",
       "    }\n",
       "</style>\n",
       "<table border=\"1\" class=\"dataframe\">\n",
       "  <thead>\n",
       "    <tr style=\"text-align: right;\">\n",
       "      <th></th>\n",
       "      <th>Rating</th>\n",
       "      <th>Rating Count</th>\n",
       "    </tr>\n",
       "    <tr>\n",
       "      <th>productID</th>\n",
       "      <th></th>\n",
       "      <th></th>\n",
       "    </tr>\n",
       "  </thead>\n",
       "  <tbody>\n",
       "    <tr>\n",
       "      <td>0972683275</td>\n",
       "      <td>4.470980</td>\n",
       "      <td>1051</td>\n",
       "    </tr>\n",
       "    <tr>\n",
       "      <td>1400501466</td>\n",
       "      <td>3.560000</td>\n",
       "      <td>250</td>\n",
       "    </tr>\n",
       "    <tr>\n",
       "      <td>1400501520</td>\n",
       "      <td>4.243902</td>\n",
       "      <td>82</td>\n",
       "    </tr>\n",
       "    <tr>\n",
       "      <td>1400501776</td>\n",
       "      <td>3.884892</td>\n",
       "      <td>139</td>\n",
       "    </tr>\n",
       "    <tr>\n",
       "      <td>1400532620</td>\n",
       "      <td>3.684211</td>\n",
       "      <td>171</td>\n",
       "    </tr>\n",
       "  </tbody>\n",
       "</table>\n",
       "</div>"
      ],
      "text/plain": [
       "              Rating  Rating Count\n",
       "productID                         \n",
       "0972683275  4.470980          1051\n",
       "1400501466  3.560000           250\n",
       "1400501520  4.243902            82\n",
       "1400501776  3.884892           139\n",
       "1400532620  3.684211           171"
      ]
     },
     "execution_count": 61,
     "metadata": {},
     "output_type": "execute_result"
    }
   ],
   "source": [
    "# creating popular product mean & count dataframe\n",
    "mypopular_product = pd.DataFrame(popular_data.groupby('productID')['Rating'].mean())\n",
    "mypopular_product['Rating Count'] = pd.DataFrame(popular_data.groupby('productID')['Rating'].count())\n",
    "mypopular_product.head()"
   ]
  },
  {
   "cell_type": "code",
   "execution_count": 63,
   "metadata": {},
   "outputs": [
    {
     "data": {
      "text/plain": [
       "4.947368421052632"
      ]
     },
     "execution_count": 63,
     "metadata": {},
     "output_type": "execute_result"
    }
   ],
   "source": [
    "# highest rating\n",
    "mypopular_product['Rating'].max()"
   ]
  },
  {
   "cell_type": "code",
   "execution_count": 62,
   "metadata": {},
   "outputs": [
    {
     "data": {
      "text/plain": [
       "9487"
      ]
     },
     "execution_count": 62,
     "metadata": {},
     "output_type": "execute_result"
    }
   ],
   "source": [
    "# highest count\n",
    "mypopular_product['Rating Count'].max()"
   ]
  },
  {
   "cell_type": "code",
   "execution_count": 67,
   "metadata": {},
   "outputs": [
    {
     "data": {
      "text/plain": [
       "<matplotlib.axes._subplots.AxesSubplot at 0x1370e551108>"
      ]
     },
     "execution_count": 67,
     "metadata": {},
     "output_type": "execute_result"
    },
    {
     "data": {
      "text/plain": [
       "Text(0, 0.5, 'total count')"
      ]
     },
     "execution_count": 67,
     "metadata": {},
     "output_type": "execute_result"
    },
    {
     "data": {
      "text/plain": [
       "Text(0.5, 0, 'rating range')"
      ]
     },
     "execution_count": 67,
     "metadata": {},
     "output_type": "execute_result"
    },
    {
     "data": {
      "text/plain": [
       "Text(0.5, 1.0, 'Rating Distribution')"
      ]
     },
     "execution_count": 67,
     "metadata": {},
     "output_type": "execute_result"
    },
    {
     "data": {
      "image/png": "[encoded data removed]",
      "text/plain": [
       "<Figure size 432x288 with 1 Axes>"
      ]
     },
     "metadata": {},
     "output_type": "display_data"
    }
   ],
   "source": [
    "# on popular rating count by range\n",
    "mypopular_product['Rating'].hist(bins=50)\n",
    "plt.ylabel(\"total count\")\n",
    "plt.xlabel(\"rating range\")\n",
    "plt.title('Rating Distribution')"
   ]
  },
  {
   "cell_type": "code",
   "execution_count": 69,
   "metadata": {},
   "outputs": [
    {
     "data": {
      "text/plain": [
       "<matplotlib.axes._subplots.AxesSubplot at 0x1370e5f2fc8>"
      ]
     },
     "execution_count": 69,
     "metadata": {},
     "output_type": "execute_result"
    },
    {
     "data": {
      "text/plain": [
       "Text(0, 0.5, 'total count')"
      ]
     },
     "execution_count": 69,
     "metadata": {},
     "output_type": "execute_result"
    },
    {
     "data": {
      "text/plain": [
       "Text(0.5, 0, 'rating count range')"
      ]
     },
     "execution_count": 69,
     "metadata": {},
     "output_type": "execute_result"
    },
    {
     "data": {
      "text/plain": [
       "Text(0.5, 1.0, 'Rating Count Distribution')"
      ]
     },
     "execution_count": 69,
     "metadata": {},
     "output_type": "execute_result"
    },
    {
     "data": {
      "image/png": "[encoded data removed]",
      "text/plain": [
       "<Figure size 432x288 with 1 Axes>"
      ]
     },
     "metadata": {},
     "output_type": "display_data"
    }
   ],
   "source": [
    "# on popular rating count by count\n",
    "mypopular_product['Rating Count'].hist(bins=50)\n",
    "plt.ylabel(\"total count\")\n",
    "plt.xlabel(\"rating count range\")\n",
    "plt.title('Rating Count Distribution')"
   ]
  },
  {
   "cell_type": "code",
   "execution_count": 70,
   "metadata": {},
   "outputs": [
    {
     "data": {
      "text/plain": [
       "<seaborn.axisgrid.JointGrid at 0x1370e664c88>"
      ]
     },
     "execution_count": 70,
     "metadata": {},
     "output_type": "execute_result"
    },
    {
     "data": {
      "image/png": "[encoded data removed]",
      "text/plain": [
       "<Figure size 432x432 with 3 Axes>"
      ]
     },
     "metadata": {},
     "output_type": "display_data"
    }
   ],
   "source": [
    "# its jointplot\n",
    "sns.jointplot(x='Rating', y='Rating Count', data=mypopular_product)"
   ]
  },
  {
   "cell_type": "code",
   "execution_count": 80,
   "metadata": {},
   "outputs": [
    {
     "data": {
      "text/plain": [
       "<matplotlib.axes._subplots.AxesSubplot at 0x13729f26fc8>"
      ]
     },
     "execution_count": 80,
     "metadata": {},
     "output_type": "execute_result"
    },
    {
     "data": {
      "image/png": "[encoded data removed]",
      "text/plain": [
       "<Figure size 432x288 with 1 Axes>"
      ]
     },
     "metadata": {},
     "output_type": "display_data"
    }
   ],
   "source": [
    "# top 30 most popular by count\n",
    "mypopular_product.drop('Rating',axis=1).sort_values('Rating Count', ascending=False).head(30).plot(kind='bar')"
   ]
  },
  {
   "cell_type": "code",
   "execution_count": 83,
   "metadata": {},
   "outputs": [
    {
     "data": {
      "text/html": [
       "<div>\n",
       "<style scoped>\n",
       "    .dataframe tbody tr th:only-of-type {\n",
       "        vertical-align: middle;\n",
       "    }\n",
       "\n",
       "    .dataframe tbody tr th {\n",
       "        vertical-align: top;\n",
       "    }\n",
       "\n",
       "    .dataframe thead th {\n",
       "        text-align: right;\n",
       "    }\n",
       "</style>\n",
       "<table border=\"1\" class=\"dataframe\">\n",
       "  <thead>\n",
       "    <tr style=\"text-align: right;\">\n",
       "      <th></th>\n",
       "      <th>Rating</th>\n",
       "      <th>Rating Count</th>\n",
       "    </tr>\n",
       "    <tr>\n",
       "      <th>productID</th>\n",
       "      <th></th>\n",
       "      <th></th>\n",
       "    </tr>\n",
       "  </thead>\n",
       "  <tbody>\n",
       "    <tr>\n",
       "      <td>B0002L5R78</td>\n",
       "      <td>4.448614</td>\n",
       "      <td>9487</td>\n",
       "    </tr>\n",
       "    <tr>\n",
       "      <td>B0001FTVEK</td>\n",
       "      <td>4.007109</td>\n",
       "      <td>5345</td>\n",
       "    </tr>\n",
       "    <tr>\n",
       "      <td>B000I68BD4</td>\n",
       "      <td>3.501530</td>\n",
       "      <td>4903</td>\n",
       "    </tr>\n",
       "    <tr>\n",
       "      <td>B000BQ7GW8</td>\n",
       "      <td>4.553216</td>\n",
       "      <td>4275</td>\n",
       "    </tr>\n",
       "    <tr>\n",
       "      <td>B00007E7JU</td>\n",
       "      <td>4.565995</td>\n",
       "      <td>3523</td>\n",
       "    </tr>\n",
       "    <tr>\n",
       "      <td>B000BKJZ9Q</td>\n",
       "      <td>4.440509</td>\n",
       "      <td>3219</td>\n",
       "    </tr>\n",
       "    <tr>\n",
       "      <td>B000B9RI14</td>\n",
       "      <td>4.775701</td>\n",
       "      <td>2996</td>\n",
       "    </tr>\n",
       "    <tr>\n",
       "      <td>B000A6PPOK</td>\n",
       "      <td>3.950495</td>\n",
       "      <td>2828</td>\n",
       "    </tr>\n",
       "    <tr>\n",
       "      <td>B00007M1TZ</td>\n",
       "      <td>3.976610</td>\n",
       "      <td>2608</td>\n",
       "    </tr>\n",
       "    <tr>\n",
       "      <td>B00004ZCJE</td>\n",
       "      <td>4.123675</td>\n",
       "      <td>2547</td>\n",
       "    </tr>\n",
       "  </tbody>\n",
       "</table>\n",
       "</div>"
      ],
      "text/plain": [
       "              Rating  Rating Count\n",
       "productID                         \n",
       "B0002L5R78  4.448614          9487\n",
       "B0001FTVEK  4.007109          5345\n",
       "B000I68BD4  3.501530          4903\n",
       "B000BQ7GW8  4.553216          4275\n",
       "B00007E7JU  4.565995          3523\n",
       "B000BKJZ9Q  4.440509          3219\n",
       "B000B9RI14  4.775701          2996\n",
       "B000A6PPOK  3.950495          2828\n",
       "B00007M1TZ  3.976610          2608\n",
       "B00004ZCJE  4.123675          2547"
      ]
     },
     "execution_count": 83,
     "metadata": {},
     "output_type": "execute_result"
    }
   ],
   "source": [
    "# top 10 most popular by count (recommended)\n",
    "mypopular_product.sort_values('Rating Count', ascending=False).head(10)"
   ]
  },
  {
   "cell_type": "markdown",
   "metadata": {},
   "source": [
    "# 3) Collaberative Filtering.\n",
    "Collaborative filtering (CF) is commonly used for recommender systems. These techniques aim to fill in the missing entries of a user-item association matrix. CF is based on the idea that the best recommendations come from people who have similar tastes. In other words, it uses historical item ratings of like-minded people to predict how someone would rate an item. CF has two sub-categories that are generally called memory-based and model-based approaches. Let's use those approaches."
   ]
  },
  {
   "cell_type": "markdown",
   "metadata": {},
   "source": [
    "## 3.1) Memory-based Collaborative Filtering (Item-Item Recommendation) "
   ]
  },
  {
   "cell_type": "code",
   "execution_count": 92,
   "metadata": {},
   "outputs": [],
   "source": [
    "# importing libraries\n",
    "from surprise import KNNWithMeans\n",
    "from surprise import Dataset\n",
    "from surprise import accuracy\n",
    "from surprise import Reader\n",
    "import os\n",
    "from surprise.model_selection import train_test_split"
   ]
  },
  {
   "cell_type": "code",
   "execution_count": 94,
   "metadata": {},
   "outputs": [],
   "source": [
    "# reading the dataset\n",
    "reader = Reader(rating_scale=(1,5))\n",
    "mydata = Dataset.load_from_df(popular_data, reader)"
   ]
  },
  {
   "cell_type": "code",
   "execution_count": 97,
   "metadata": {},
   "outputs": [],
   "source": [
    "# splitting the dataset\n",
    "trainset, testset = train_test_split(mydata, test_size=0.2, random_state=101)"
   ]
  },
  {
   "cell_type": "code",
   "execution_count": 98,
   "metadata": {
    "scrolled": true
   },
   "outputs": [
    {
     "name": "stdout",
     "output_type": "stream",
     "text": [
      "Estimating biases using als...\n",
      "Computing the pearson_baseline similarity matrix...\n",
      "Done computing similarity matrix.\n"
     ]
    },
    {
     "data": {
      "text/plain": [
       "<surprise.prediction_algorithms.knns.KNNWithMeans at 0x13770ca5f88>"
      ]
     },
     "execution_count": 98,
     "metadata": {},
     "output_type": "execute_result"
    }
   ],
   "source": [
    "# use user_based true/false to switch between user-based or item-based collaborative filtering\n",
    "algo = KNNWithMeans(k=5, sim_options={'name':'pearson_baseline', 'user_based': False})\n",
    "algo.fit(trainset)"
   ]
  },
  {
   "cell_type": "code",
   "execution_count": 110,
   "metadata": {},
   "outputs": [
    {
     "name": "stdout",
     "output_type": "stream",
     "text": [
      "Item-Based Model (Test Set)\n",
      "RMSE: 1.3454559486090034\n"
     ]
    }
   ],
   "source": [
    "# get RMSE\n",
    "print('Item-Based Model (Test Set)')\n",
    "print('RMSE:',accuracy.rmse(test_pred, verbose=False))"
   ]
  },
  {
   "cell_type": "code",
   "execution_count": 100,
   "metadata": {},
   "outputs": [
    {
     "data": {
      "text/plain": [
       "[Prediction(uid='A3SYK7QNR78S7Q', iid='B00006I5JA', r_ui=5.0, est=4.050105373397964, details={'was_impossible': True, 'reason': 'User and/or item is unkown.'}),\n",
       " Prediction(uid='A3F6LN580OK6WL', iid='B00012O6QQ', r_ui=4.0, est=4.050105373397964, details={'was_impossible': True, 'reason': 'User and/or item is unkown.'}),\n",
       " Prediction(uid='A2IOT0LVACXBVQ', iid='B000HDQ2G6', r_ui=5.0, est=4.050105373397964, details={'was_impossible': True, 'reason': 'User and/or item is unkown.'}),\n",
       " Prediction(uid='A362Y9GGATXOOW', iid='B000BQ7GW8', r_ui=5.0, est=4.050105373397964, details={'was_impossible': True, 'reason': 'User and/or item is unkown.'}),\n",
       " Prediction(uid='AX5EPK0DQP23Z', iid='B000AAZQJU', r_ui=3.0, est=4.130718954248366, details={'actual_k': 0, 'was_impossible': False}),\n",
       " Prediction(uid='A17TD4LQHXD5M9', iid='B0001FTVEK', r_ui=4.0, est=4.050105373397964, details={'was_impossible': True, 'reason': 'User and/or item is unkown.'}),\n",
       " Prediction(uid='A349L2AJSRESFM', iid='B0002EXJ8Y', r_ui=5.0, est=4.050105373397964, details={'was_impossible': True, 'reason': 'User and/or item is unkown.'}),\n",
       " Prediction(uid='A29NTHIYI5LEQC', iid='B00005QXWI', r_ui=5.0, est=3.7746478873239435, details={'actual_k': 0, 'was_impossible': False}),\n",
       " Prediction(uid='A37V7AMCAEOB5C', iid='B000BR3OHI', r_ui=5.0, est=4.050105373397964, details={'was_impossible': True, 'reason': 'User and/or item is unkown.'}),\n",
       " Prediction(uid='A3MLBYUTDM7J4S', iid='B0002ZW5W4', r_ui=2.0, est=4.050105373397964, details={'was_impossible': True, 'reason': 'User and/or item is unkown.'}),\n",
       " Prediction(uid='A25KBAAD0QE36G', iid='B000I1YIDQ', r_ui=5.0, est=4.050105373397964, details={'was_impossible': True, 'reason': 'User and/or item is unkown.'}),\n",
       " Prediction(uid='A35WVXKOUV7WL4', iid='B0007VPFI4', r_ui=5.0, est=4.10431654676259, details={'actual_k': 0, 'was_impossible': False}),\n",
       " Prediction(uid='A49PFFC5D3FEQ', iid='B000065BPB', r_ui=4.0, est=4.050105373397964, details={'was_impossible': True, 'reason': 'User and/or item is unkown.'}),\n",
       " Prediction(uid='A1IN15K0CELR10', iid='B000F2BLTM', r_ui=5.0, est=4.050105373397964, details={'was_impossible': True, 'reason': 'User and/or item is unkown.'}),\n",
       " Prediction(uid='A2RUIWIF88LVHJ', iid='B000ID6DTG', r_ui=5.0, est=4.050105373397964, details={'was_impossible': True, 'reason': 'User and/or item is unkown.'}),\n",
       " Prediction(uid='AX14B3XZHCRCF', iid='B000ENP9GS', r_ui=1.0, est=4.050105373397964, details={'was_impossible': True, 'reason': 'User and/or item is unkown.'}),\n",
       " Prediction(uid='A1ASWDAEDTTY5I', iid='B000EXS1BS', r_ui=5.0, est=4.368715083798882, details={'actual_k': 0, 'was_impossible': False}),\n",
       " Prediction(uid='A3EB4KOK3Q0S38', iid='B0002L5R78', r_ui=5.0, est=4.050105373397964, details={'was_impossible': True, 'reason': 'User and/or item is unkown.'}),\n",
       " Prediction(uid='A379D24QUVV1X3', iid='B0001FXLW8', r_ui=5.0, est=4.477876106194691, details={'actual_k': 0, 'was_impossible': False}),\n",
       " Prediction(uid='APM28FSAL4T2I', iid='B000B9RI14', r_ui=4.0, est=4.779423868312757, details={'actual_k': 0, 'was_impossible': False}),\n",
       " Prediction(uid='A1MDPMQ63MZHZV', iid='B000IBROQE', r_ui=1.0, est=2.3628894214310168, details={'actual_k': 1, 'was_impossible': False}),\n",
       " Prediction(uid='AXPZKM7B18RHW', iid='B000AOAAN8', r_ui=2.0, est=4.050105373397964, details={'was_impossible': True, 'reason': 'User and/or item is unkown.'}),\n",
       " Prediction(uid='AKNL50C3P1P86', iid='B0007WZLDC', r_ui=5.0, est=4.301204819277109, details={'actual_k': 0, 'was_impossible': False}),\n",
       " Prediction(uid='A3OZ87GVUU6Y6M', iid='B000093UDQ', r_ui=4.0, est=4.050105373397964, details={'was_impossible': True, 'reason': 'User and/or item is unkown.'}),\n",
       " Prediction(uid='A2AK9QCWJ7PJHV', iid='B00000J1QR', r_ui=5.0, est=4.050105373397964, details={'was_impossible': True, 'reason': 'User and/or item is unkown.'}),\n",
       " Prediction(uid='A20NCRP7KQWTWC', iid='B0007KK2DS', r_ui=5.0, est=4.050105373397964, details={'was_impossible': True, 'reason': 'User and/or item is unkown.'}),\n",
       " Prediction(uid='A24S8NXD78T8L8', iid='B0002EQUL2', r_ui=5.0, est=4.050105373397964, details={'was_impossible': True, 'reason': 'User and/or item is unkown.'}),\n",
       " Prediction(uid='A14PYX9PQZNUBW', iid='B000EVEH6I', r_ui=5.0, est=4.050105373397964, details={'was_impossible': True, 'reason': 'User and/or item is unkown.'}),\n",
       " Prediction(uid='A2ADAP9F4QCAXQ', iid='B000A5TBM8', r_ui=5.0, est=4.222222222222222, details={'actual_k': 0, 'was_impossible': False}),\n",
       " Prediction(uid='A32U7KIJFZ777W', iid='B00013VHAS', r_ui=5.0, est=4.050105373397964, details={'was_impossible': True, 'reason': 'User and/or item is unkown.'}),\n",
       " Prediction(uid='A13SUT1WHJMV', iid='B0001XGQTA', r_ui=5.0, est=4.050105373397964, details={'was_impossible': True, 'reason': 'User and/or item is unkown.'}),\n",
       " Prediction(uid='A19PK8CJOTW7IM', iid='B000F744T6', r_ui=5.0, est=4.050105373397964, details={'was_impossible': True, 'reason': 'User and/or item is unkown.'}),\n",
       " Prediction(uid='A1SUA0JA6994EB', iid='B000G3FNVM', r_ui=5.0, est=4.050105373397964, details={'was_impossible': True, 'reason': 'User and/or item is unkown.'}),\n",
       " Prediction(uid='AEQ5O09E7ERTB', iid='B00009RL1W', r_ui=4.0, est=4.050105373397964, details={'was_impossible': True, 'reason': 'User and/or item is unkown.'}),\n",
       " Prediction(uid='A3FCNL0RCQZSD', iid='B00007E7JU', r_ui=4.0, est=4.050105373397964, details={'was_impossible': True, 'reason': 'User and/or item is unkown.'}),\n",
       " Prediction(uid='A3IU8OXY6JUJBX', iid='B000AUIM9G', r_ui=4.0, est=4.050105373397964, details={'was_impossible': True, 'reason': 'User and/or item is unkown.'}),\n",
       " Prediction(uid='A1Y08L76OB69AG', iid='B00032BOLO', r_ui=4.0, est=4.050105373397964, details={'was_impossible': True, 'reason': 'User and/or item is unkown.'}),\n",
       " Prediction(uid='AVYAGQ0FZLRZ0', iid='B000069E1V', r_ui=5.0, est=4.0256410256410255, details={'actual_k': 0, 'was_impossible': False}),\n",
       " Prediction(uid='A25PM9JGHPU8EI', iid='B0007S8C7I', r_ui=2.0, est=3.8870967741935485, details={'actual_k': 0, 'was_impossible': False}),\n",
       " Prediction(uid='AXUWN6O2XVZ54', iid='B0009HGVZW', r_ui=5.0, est=4.050105373397964, details={'was_impossible': True, 'reason': 'User and/or item is unkown.'}),\n",
       " Prediction(uid='A1F1JQFZZ4QNF0', iid='B00000JBAT', r_ui=4.0, est=4.050105373397964, details={'was_impossible': True, 'reason': 'User and/or item is unkown.'}),\n",
       " Prediction(uid='AUNN3FM9O545R', iid='B000I97FJ2', r_ui=4.0, est=4.050105373397964, details={'was_impossible': True, 'reason': 'User and/or item is unkown.'}),\n",
       " Prediction(uid='A3CILUJQ5UYGGC', iid='B000HKGK8Y', r_ui=5.0, est=4.050105373397964, details={'was_impossible': True, 'reason': 'User and/or item is unkown.'}),\n",
       " Prediction(uid='AZHJKXOQPCB5F', iid='B0002GX0ZE', r_ui=5.0, est=4.050105373397964, details={'was_impossible': True, 'reason': 'User and/or item is unkown.'}),\n",
       " Prediction(uid='A23TMTF1MBKZ62', iid='B000HRYV38', r_ui=5.0, est=4.050105373397964, details={'was_impossible': True, 'reason': 'User and/or item is unkown.'}),\n",
       " Prediction(uid='A3UZIDSMI6M7AJ', iid='B000FJUMWC', r_ui=5.0, est=4.050105373397964, details={'was_impossible': True, 'reason': 'User and/or item is unkown.'}),\n",
       " Prediction(uid='A15C84JFFID4AI', iid='B0007GIXQA', r_ui=1.0, est=4.050105373397964, details={'was_impossible': True, 'reason': 'User and/or item is unkown.'}),\n",
       " Prediction(uid='A1MF5SU8WDREUJ', iid='B000ALLMI8', r_ui=5.0, est=4.050105373397964, details={'was_impossible': True, 'reason': 'User and/or item is unkown.'}),\n",
       " Prediction(uid='A32JK4TH3PZI66', iid='B000652M6Y', r_ui=5.0, est=4.087981598619897, details={'actual_k': 0, 'was_impossible': False}),\n",
       " Prediction(uid='AWBE0RQG73F3', iid='B000E43GOO', r_ui=4.0, est=4.050105373397964, details={'was_impossible': True, 'reason': 'User and/or item is unkown.'}),\n",
       " Prediction(uid='A11KSOBTZA7T9J', iid='B00017LSPI', r_ui=5.0, est=4.050105373397964, details={'was_impossible': True, 'reason': 'User and/or item is unkown.'}),\n",
       " Prediction(uid='AYTTTRA7JKSHO', iid='B000089GN3', r_ui=5.0, est=4.050105373397964, details={'was_impossible': True, 'reason': 'User and/or item is unkown.'}),\n",
       " Prediction(uid='A20D5E26OIOVZ3', iid='B000EUCMV6', r_ui=3.0, est=2.4901960784313726, details={'actual_k': 0, 'was_impossible': False}),\n",
       " Prediction(uid='AY4Q5G7QX4G7', iid='B00009UT3F', r_ui=5.0, est=4.050105373397964, details={'was_impossible': True, 'reason': 'User and/or item is unkown.'}),\n",
       " Prediction(uid='A300Q0NETYXJOQ', iid='B00006B83E', r_ui=5.0, est=4.050105373397964, details={'was_impossible': True, 'reason': 'User and/or item is unkown.'}),\n",
       " Prediction(uid='AZUWN4E4RV8D1', iid='B00007AP2O', r_ui=1.0, est=4.050105373397964, details={'was_impossible': True, 'reason': 'User and/or item is unkown.'}),\n",
       " Prediction(uid='AGS1U76LCIY03', iid='B0006I09OS', r_ui=3.0, est=4.050105373397964, details={'was_impossible': True, 'reason': 'User and/or item is unkown.'}),\n",
       " Prediction(uid='AUDTC87J3TLEQ', iid='B00007EDM8', r_ui=4.0, est=4.050105373397964, details={'was_impossible': True, 'reason': 'User and/or item is unkown.'}),\n",
       " Prediction(uid='A3LTLNVVVZTHIM', iid='B0002U1TJY', r_ui=4.0, est=4.050105373397964, details={'was_impossible': True, 'reason': 'User and/or item is unkown.'}),\n",
       " Prediction(uid='A26998POEBWDWH', iid='B000H12VI6', r_ui=5.0, est=4.050105373397964, details={'was_impossible': True, 'reason': 'User and/or item is unkown.'}),\n",
       " Prediction(uid='AQFD5HF64XRAZ', iid='B000FBK3QK', r_ui=5.0, est=4.050105373397964, details={'was_impossible': True, 'reason': 'User and/or item is unkown.'}),\n",
       " Prediction(uid='A3SEU8LKFTR907', iid='B000FGEC94', r_ui=5.0, est=4.050105373397964, details={'was_impossible': True, 'reason': 'User and/or item is unkown.'}),\n",
       " Prediction(uid='A1SJX1DIB8ANLJ', iid='B000BUEMOO', r_ui=3.0, est=4.050105373397964, details={'was_impossible': True, 'reason': 'User and/or item is unkown.'}),\n",
       " Prediction(uid='A3JPRI2P0BAVTI', iid='B00005T3BD', r_ui=5.0, est=4.050105373397964, details={'was_impossible': True, 'reason': 'User and/or item is unkown.'}),\n",
       " Prediction(uid='A2EW0LJBF5514B', iid='B00006IJO4', r_ui=4.0, est=4.319148936170213, details={'actual_k': 0, 'was_impossible': False}),\n",
       " Prediction(uid='A3SY7IB3HSANBY', iid='B00005A1K1', r_ui=4.0, est=4.25615763546798, details={'actual_k': 0, 'was_impossible': False}),\n",
       " Prediction(uid='A1AYK7XBVLM6S9', iid='B000FJ89UO', r_ui=5.0, est=4.050105373397964, details={'was_impossible': True, 'reason': 'User and/or item is unkown.'}),\n",
       " Prediction(uid='A1HWBLEF7S77TH', iid='B000EQ24Z4', r_ui=3.0, est=3.4324324324324325, details={'actual_k': 0, 'was_impossible': False}),\n",
       " Prediction(uid='A1WLOTC91BTM8W', iid='B000056SSM', r_ui=1.0, est=4.050105373397964, details={'was_impossible': True, 'reason': 'User and/or item is unkown.'}),\n",
       " Prediction(uid='A20ZROE42BA8LR', iid='B00004RIUB', r_ui=4.0, est=4.050105373397964, details={'was_impossible': True, 'reason': 'User and/or item is unkown.'}),\n",
       " Prediction(uid='A2UQWDU9C3LQ3R', iid='B000BDH2Y8', r_ui=5.0, est=4.050105373397964, details={'was_impossible': True, 'reason': 'User and/or item is unkown.'}),\n",
       " Prediction(uid='AINLA3BDYC455', iid='B0007M3PK8', r_ui=2.0, est=4.050105373397964, details={'was_impossible': True, 'reason': 'User and/or item is unkown.'}),\n",
       " Prediction(uid='A1TQLSTR35U79R', iid='B00007IFED', r_ui=5.0, est=4.050105373397964, details={'was_impossible': True, 'reason': 'User and/or item is unkown.'}),\n",
       " Prediction(uid='A1IGPYU6LEKESM', iid='B000CSWCQA', r_ui=4.0, est=4.050105373397964, details={'was_impossible': True, 'reason': 'User and/or item is unkown.'}),\n",
       " Prediction(uid='AAC02C2PWZPTS', iid='B000AU5N2A', r_ui=5.0, est=4.050105373397964, details={'was_impossible': True, 'reason': 'User and/or item is unkown.'}),\n",
       " Prediction(uid='A25AXL9N6ZLAOE', iid='B00017LSPI', r_ui=5.0, est=4.050105373397964, details={'was_impossible': True, 'reason': 'User and/or item is unkown.'}),\n",
       " Prediction(uid='AYA443F99AP3P', iid='B0007U9KAY', r_ui=5.0, est=4.050105373397964, details={'was_impossible': True, 'reason': 'User and/or item is unkown.'}),\n",
       " Prediction(uid='A15QMH1N557LB4', iid='B000EBPJCO', r_ui=5.0, est=4.050105373397964, details={'was_impossible': True, 'reason': 'User and/or item is unkown.'}),\n",
       " Prediction(uid='A1GVY0SASDZ7W8', iid='B000CMS5B2', r_ui=5.0, est=4.050105373397964, details={'was_impossible': True, 'reason': 'User and/or item is unkown.'}),\n",
       " Prediction(uid='A27WO09H4ZPRXD', iid='B0007YFQH6', r_ui=5.0, est=4.050105373397964, details={'was_impossible': True, 'reason': 'User and/or item is unkown.'}),\n",
       " Prediction(uid='A12OPFEXX5OA98', iid='B00006343O', r_ui=5.0, est=4.050105373397964, details={'was_impossible': True, 'reason': 'User and/or item is unkown.'}),\n",
       " Prediction(uid='A163N9IQDFS5VG', iid='B00001W0EQ', r_ui=5.0, est=4.050105373397964, details={'was_impossible': True, 'reason': 'User and/or item is unkown.'}),\n",
       " Prediction(uid='A1EX8XJGE93S6W', iid='B0001VGFKW', r_ui=5.0, est=4.050105373397964, details={'was_impossible': True, 'reason': 'User and/or item is unkown.'}),\n",
       " Prediction(uid='A2FHU8LEBFB1BB', iid='B00008SCFL', r_ui=4.0, est=4.050105373397964, details={'was_impossible': True, 'reason': 'User and/or item is unkown.'}),\n",
       " Prediction(uid='A2VM2DSEFKT3WF', iid='B000GIT002', r_ui=5.0, est=4.050105373397964, details={'was_impossible': True, 'reason': 'User and/or item is unkown.'}),\n",
       " Prediction(uid='A18HNBI9ZQO8RQ', iid='B00002EQCW', r_ui=4.0, est=4.050105373397964, details={'was_impossible': True, 'reason': 'User and/or item is unkown.'}),\n",
       " Prediction(uid='A1TI5300VRSK9C', iid='B000EPNDEG', r_ui=5.0, est=4.050105373397964, details={'was_impossible': True, 'reason': 'User and/or item is unkown.'}),\n",
       " Prediction(uid='A3CZU3TS8KGIM9', iid='B000092TT0', r_ui=5.0, est=4.050105373397964, details={'was_impossible': True, 'reason': 'User and/or item is unkown.'}),\n",
       " Prediction(uid='A3BG9BQQ1I6GE7', iid='B000BO3CW8', r_ui=5.0, est=4.050105373397964, details={'was_impossible': True, 'reason': 'User and/or item is unkown.'}),\n",
       " Prediction(uid='A2JQC9OSYGON30', iid='B000ETXOC8', r_ui=5.0, est=4.078947368421052, details={'actual_k': 0, 'was_impossible': False}),\n",
       " Prediction(uid='A70ABVHRLJKA2', iid='B0000BZ2WA', r_ui=5.0, est=4.050105373397964, details={'was_impossible': True, 'reason': 'User and/or item is unkown.'}),\n",
       " Prediction(uid='A1PLV8YPNDIDQG', iid='B0002SQ2P2', r_ui=5.0, est=4.050105373397964, details={'was_impossible': True, 'reason': 'User and/or item is unkown.'}),\n",
       " Prediction(uid='AI8EMB0HUC6Z5', iid='B000CSWCQA', r_ui=4.0, est=4.189584441681235, details={'actual_k': 2, 'was_impossible': False}),\n",
       " Prediction(uid='A12ZY657CDHTLD', iid='B0002SQ0A4', r_ui=5.0, est=4.611702127659575, details={'actual_k': 0, 'was_impossible': False}),\n",
       " Prediction(uid='A2BHJ7NZ51J4FO', iid='B00068DIB4', r_ui=4.0, est=4.050105373397964, details={'was_impossible': True, 'reason': 'User and/or item is unkown.'}),\n",
       " Prediction(uid='A16I7TH03ZUMDG', iid='B00029X1O6', r_ui=3.0, est=4.275510204081633, details={'actual_k': 0, 'was_impossible': False}),\n",
       " Prediction(uid='A3TT1LS5W6VS1B', iid='B000EPNB52', r_ui=5.0, est=4.050105373397964, details={'was_impossible': True, 'reason': 'User and/or item is unkown.'}),\n",
       " Prediction(uid='A3U6CIL39FGAD7', iid='B00012F6A6', r_ui=5.0, est=4.050105373397964, details={'was_impossible': True, 'reason': 'User and/or item is unkown.'}),\n",
       " Prediction(uid='A1O9K63KISUQ95', iid='B000C77XSS', r_ui=2.0, est=4.050105373397964, details={'was_impossible': True, 'reason': 'User and/or item is unkown.'}),\n",
       " Prediction(uid='A1KVDUUT277TOZ', iid='B000F49RAA', r_ui=5.0, est=4.253333333333333, details={'actual_k': 0, 'was_impossible': False}),\n",
       " Prediction(uid='A20KWXAV6MBWNV', iid='B000GVTX6U', r_ui=5.0, est=4.050105373397964, details={'was_impossible': True, 'reason': 'User and/or item is unkown.'}),\n",
       " Prediction(uid='A3FSKY78S62AD8', iid='B00005ATMB', r_ui=5.0, est=4.354399008674101, details={'actual_k': 0, 'was_impossible': False}),\n",
       " Prediction(uid='APP4B707AR8XY', iid='B000E8BGCO', r_ui=5.0, est=4.050105373397964, details={'was_impossible': True, 'reason': 'User and/or item is unkown.'}),\n",
       " Prediction(uid='ASM34MBSYVG6D', iid='B0007U00X0', r_ui=5.0, est=4.389578163771712, details={'actual_k': 0, 'was_impossible': False}),\n",
       " Prediction(uid='A23ROB9G17KLK9', iid='B0003QIXBY', r_ui=3.0, est=4.566326530612245, details={'actual_k': 0, 'was_impossible': False}),\n",
       " Prediction(uid='A7Z5ZEXQ91RA6', iid='B0002GRUJ6', r_ui=5.0, est=4.050105373397964, details={'was_impossible': True, 'reason': 'User and/or item is unkown.'}),\n",
       " Prediction(uid='A8BRYA01YL1RP', iid='B000812QC6', r_ui=5.0, est=4.050105373397964, details={'was_impossible': True, 'reason': 'User and/or item is unkown.'}),\n",
       " Prediction(uid='A1N9WV60I92DQ0', iid='B0001FTVEK', r_ui=3.0, est=4.050105373397964, details={'was_impossible': True, 'reason': 'User and/or item is unkown.'}),\n",
       " Prediction(uid='A25YI9NCHV25SN', iid='B00081NX5U', r_ui=1.0, est=4.050105373397964, details={'was_impossible': True, 'reason': 'User and/or item is unkown.'}),\n",
       " Prediction(uid='AEK8DNCCR1IIF', iid='B00009V4G9', r_ui=4.0, est=4.050105373397964, details={'was_impossible': True, 'reason': 'User and/or item is unkown.'}),\n",
       " Prediction(uid='A119OLMSAP83V9', iid='B00004SABB', r_ui=4.0, est=4.050105373397964, details={'was_impossible': True, 'reason': 'User and/or item is unkown.'}),\n",
       " Prediction(uid='A1THLMNCO7TFT6', iid='B0000UV0JA', r_ui=2.0, est=4.050105373397964, details={'was_impossible': True, 'reason': 'User and/or item is unkown.'}),\n",
       " Prediction(uid='A19YCOKGS71H32', iid='B0002K6XQI', r_ui=5.0, est=4.050105373397964, details={'was_impossible': True, 'reason': 'User and/or item is unkown.'}),\n",
       " Prediction(uid='A1W0BIMPM5OT3E', iid='B000FKP7TY', r_ui=5.0, est=4.717507881787913, details={'actual_k': 1, 'was_impossible': False}),\n",
       " Prediction(uid='A2H5E7FIUP3M17', iid='8862935293', r_ui=4.0, est=4.050105373397964, details={'was_impossible': True, 'reason': 'User and/or item is unkown.'}),\n",
       " Prediction(uid='A1934QQLM7C4EX', iid='B000F9YN22', r_ui=5.0, est=4.050105373397964, details={'was_impossible': True, 'reason': 'User and/or item is unkown.'}),\n",
       " Prediction(uid='A3PWD1Y34HCPBF', iid='B000CSOXTO', r_ui=4.0, est=4.050105373397964, details={'was_impossible': True, 'reason': 'User and/or item is unkown.'}),\n",
       " Prediction(uid='A1N73M40MPPWSR', iid='B00004SABB', r_ui=5.0, est=4.050105373397964, details={'was_impossible': True, 'reason': 'User and/or item is unkown.'}),\n",
       " Prediction(uid='A3L24WFKFRLJ86', iid='B00007EDZG', r_ui=5.0, est=4.050105373397964, details={'was_impossible': True, 'reason': 'User and/or item is unkown.'}),\n",
       " Prediction(uid='AZK0YDXI5R4KS', iid='B00007E8D2', r_ui=5.0, est=4.165137614678899, details={'actual_k': 0, 'was_impossible': False}),\n",
       " Prediction(uid='A1RN67A34O2O4I', iid='B0007TOR08', r_ui=1.0, est=4.771653543307087, details={'actual_k': 0, 'was_impossible': False}),\n",
       " Prediction(uid='A1UTBH5XVOIH57', iid='B000HAVVKG', r_ui=1.0, est=4.050105373397964, details={'was_impossible': True, 'reason': 'User and/or item is unkown.'}),\n",
       " Prediction(uid='A2IRE3DBPFWW8Q', iid='B00005LE6Z', r_ui=4.0, est=3.6938864628820953, details={'actual_k': 1, 'was_impossible': False}),\n",
       " Prediction(uid='A251CK46GYKTEV', iid='B00007FGU7', r_ui=5.0, est=4.050105373397964, details={'was_impossible': True, 'reason': 'User and/or item is unkown.'}),\n",
       " Prediction(uid='A1NBJW5O6FZMZX', iid='B0002LCV4U', r_ui=4.0, est=4.050105373397964, details={'was_impossible': True, 'reason': 'User and/or item is unkown.'}),\n",
       " Prediction(uid='A2MJN4TU0W77ED', iid='B0001DA0CO', r_ui=5.0, est=4.0, details={'actual_k': 0, 'was_impossible': False}),\n",
       " Prediction(uid='A1NEC442B8LRZ2', iid='B000BFNOT8', r_ui=5.0, est=4.050105373397964, details={'was_impossible': True, 'reason': 'User and/or item is unkown.'}),\n",
       " Prediction(uid='A3FUN5T01W35XV', iid='B0009RKLMG', r_ui=1.0, est=4.050105373397964, details={'was_impossible': True, 'reason': 'User and/or item is unkown.'}),\n",
       " Prediction(uid='A2HTT9NZGUSKJ2', iid='B0002K6XQI', r_ui=5.0, est=4.252173913043478, details={'actual_k': 0, 'was_impossible': False}),\n",
       " Prediction(uid='A6JCRE89HJXIP', iid='B000GZUN9W', r_ui=5.0, est=4.050105373397964, details={'was_impossible': True, 'reason': 'User and/or item is unkown.'}),\n",
       " Prediction(uid='A2PSD2R9A1CXG7', iid='B00009XVBY', r_ui=3.0, est=4.373922216107136, details={'actual_k': 1, 'was_impossible': False}),\n",
       " Prediction(uid='A2PLC2DZ02MTO7', iid='B000ELOQS2', r_ui=5.0, est=4.050105373397964, details={'was_impossible': True, 'reason': 'User and/or item is unkown.'}),\n",
       " Prediction(uid='A2IH4Z7CA8DHZ8', iid='B000BK393Y', r_ui=4.0, est=4.050105373397964, details={'was_impossible': True, 'reason': 'User and/or item is unkown.'}),\n",
       " Prediction(uid='ACSIGWVIYUPIU', iid='B000CFO3WY', r_ui=5.0, est=4.050105373397964, details={'was_impossible': True, 'reason': 'User and/or item is unkown.'}),\n",
       " Prediction(uid='A32DNVI8GASP1D', iid='B0009RKKV8', r_ui=2.0, est=4.050105373397964, details={'was_impossible': True, 'reason': 'User and/or item is unkown.'}),\n",
       " Prediction(uid='A1X5LSDPO3HDKI', iid='B000089GN2', r_ui=5.0, est=4.050105373397964, details={'was_impossible': True, 'reason': 'User and/or item is unkown.'}),\n",
       " Prediction(uid='A1CJVWIWCIKTA1', iid='B000EEXEIW', r_ui=1.0, est=4.050105373397964, details={'was_impossible': True, 'reason': 'User and/or item is unkown.'}),\n",
       " Prediction(uid='A1VTX2NGMCYL9P', iid='B000FJUMW2', r_ui=5.0, est=4.375, details={'actual_k': 0, 'was_impossible': False}),\n",
       " Prediction(uid='A3OAVWCQTCRXRL', iid='B000067O5G', r_ui=3.0, est=4.050105373397964, details={'was_impossible': True, 'reason': 'User and/or item is unkown.'}),\n",
       " Prediction(uid='A25MDLLQY1OWUZ', iid='B0001A3N6C', r_ui=5.0, est=4.050105373397964, details={'was_impossible': True, 'reason': 'User and/or item is unkown.'}),\n",
       " Prediction(uid='A39DPQ464LPGVP', iid='B00007GQLU', r_ui=4.0, est=2.5588949435889567, details={'actual_k': 1, 'was_impossible': False}),\n",
       " Prediction(uid='A1A4V8KRXAQPOT', iid='B0006N5I5I', r_ui=1.0, est=4.050105373397964, details={'was_impossible': True, 'reason': 'User and/or item is unkown.'}),\n",
       " Prediction(uid='A2WR00O16N9WLM', iid='B000GBO9IM', r_ui=1.0, est=4.050105373397964, details={'was_impossible': True, 'reason': 'User and/or item is unkown.'}),\n",
       " Prediction(uid='A38C5C3665BE7Z', iid='B000B0NC2W', r_ui=4.0, est=4.087591240875913, details={'actual_k': 0, 'was_impossible': False}),\n",
       " Prediction(uid='A2Z9OPEKK6KJC8', iid='B000F0ELOG', r_ui=5.0, est=4.050105373397964, details={'was_impossible': True, 'reason': 'User and/or item is unkown.'}),\n",
       " Prediction(uid='A27QVXGKKUI4NN', iid='B0002EXF38', r_ui=5.0, est=4.050105373397964, details={'was_impossible': True, 'reason': 'User and/or item is unkown.'}),\n",
       " Prediction(uid='A3BMVPQZHZUN32', iid='B00007EDM8', r_ui=3.0, est=4.050105373397964, details={'was_impossible': True, 'reason': 'User and/or item is unkown.'}),\n",
       " Prediction(uid='A1LUJBET90ZTD9', iid='B00009R6TA', r_ui=4.0, est=3.8982582216475823, details={'actual_k': 1, 'was_impossible': False}),\n",
       " Prediction(uid='A30H9P7JY3HUJB', iid='B00030AXNQ', r_ui=5.0, est=4.184615384615385, details={'actual_k': 0, 'was_impossible': False}),\n",
       " Prediction(uid='A1TLN04HPKHW0', iid='B00005125T', r_ui=5.0, est=4.050105373397964, details={'was_impossible': True, 'reason': 'User and/or item is unkown.'}),\n",
       " Prediction(uid='AGPQ9UTRCDEIQ', iid='B000FBF400', r_ui=5.0, est=4.050105373397964, details={'was_impossible': True, 'reason': 'User and/or item is unkown.'}),\n",
       " Prediction(uid='A39QHMN6CLXMKB', iid='B0002WPSBC', r_ui=4.0, est=4.050105373397964, details={'was_impossible': True, 'reason': 'User and/or item is unkown.'}),\n",
       " Prediction(uid='A2U4H7WAJ7VIYL', iid='B00028VKLI', r_ui=5.0, est=4.050105373397964, details={'was_impossible': True, 'reason': 'User and/or item is unkown.'}),\n",
       " Prediction(uid='A3DX0XTXZTCD6R', iid='B00000J4FS', r_ui=5.0, est=4.050105373397964, details={'was_impossible': True, 'reason': 'User and/or item is unkown.'}),\n",
       " Prediction(uid='A1Y5PKD9BTR8IC', iid='B00067LYFW', r_ui=5.0, est=4.050105373397964, details={'was_impossible': True, 'reason': 'User and/or item is unkown.'}),\n",
       " Prediction(uid='A1STMHD4RFX8NJ', iid='B000BQ7GW8', r_ui=5.0, est=4.050105373397964, details={'was_impossible': True, 'reason': 'User and/or item is unkown.'}),\n",
       " Prediction(uid='ACY3OGYCKNAUN', iid='B000066E6Y', r_ui=4.0, est=4.150278293135436, details={'actual_k': 0, 'was_impossible': False}),\n",
       " Prediction(uid='ATRJMI8PC7JMN', iid='B0002SQ0A4', r_ui=4.0, est=4.050105373397964, details={'was_impossible': True, 'reason': 'User and/or item is unkown.'}),\n",
       " Prediction(uid='A1LL1AGLE4WZTT', iid='B000EPLP3C', r_ui=1.0, est=4.050105373397964, details={'was_impossible': True, 'reason': 'User and/or item is unkown.'}),\n",
       " Prediction(uid='AWWKGFGYCJQW', iid='B0001G6UAM', r_ui=2.0, est=4.050105373397964, details={'was_impossible': True, 'reason': 'User and/or item is unkown.'}),\n",
       " Prediction(uid='A2ARDVMUGDFED6', iid='B000F34FVM', r_ui=5.0, est=4.383177570093458, details={'actual_k': 0, 'was_impossible': False}),\n",
       " Prediction(uid='A10ZZ1WKUMT1E3', iid='B000EFHPKO', r_ui=4.0, est=4.050105373397964, details={'was_impossible': True, 'reason': 'User and/or item is unkown.'}),\n",
       " Prediction(uid='A18R35CIELTGQ', iid='B0006Q7FFG', r_ui=2.0, est=4.050105373397964, details={'was_impossible': True, 'reason': 'User and/or item is unkown.'}),\n",
       " Prediction(uid='ANMB3T5Z6ELK4', iid='B000B525DY', r_ui=4.0, est=4.050105373397964, details={'was_impossible': True, 'reason': 'User and/or item is unkown.'}),\n",
       " Prediction(uid='A1MSPBEQV8JWQP', iid='B000EUGX70', r_ui=4.0, est=4.7155434915598615, details={'actual_k': 1, 'was_impossible': False}),\n",
       " Prediction(uid='A1K0BHXEOWXVZ3', iid='B0002CPBWI', r_ui=3.0, est=4.085972850678733, details={'actual_k': 0, 'was_impossible': False}),\n",
       " Prediction(uid='A21NPE5WRPYKMI', iid='B000EGGRG6', r_ui=2.0, est=4.050105373397964, details={'was_impossible': True, 'reason': 'User and/or item is unkown.'}),\n",
       " Prediction(uid='A1AOV4NYPTPROS', iid='B0001FV3C8', r_ui=5.0, est=4.050105373397964, details={'was_impossible': True, 'reason': 'User and/or item is unkown.'}),\n",
       " Prediction(uid='A18HKKXA74AQTV', iid='B0007LJHVK', r_ui=3.0, est=4.050105373397964, details={'was_impossible': True, 'reason': 'User and/or item is unkown.'}),\n",
       " Prediction(uid='A2HEVVXBTQHNVL', iid='B000BI2180', r_ui=4.0, est=4.050105373397964, details={'was_impossible': True, 'reason': 'User and/or item is unkown.'}),\n",
       " Prediction(uid='AZ3DD8030CIOZ', iid='B00006HYPV', r_ui=5.0, est=4.050105373397964, details={'was_impossible': True, 'reason': 'User and/or item is unkown.'}),\n",
       " Prediction(uid='ARAG76H44TL78', iid='B0001FTVDQ', r_ui=5.0, est=4.050105373397964, details={'was_impossible': True, 'reason': 'User and/or item is unkown.'}),\n",
       " Prediction(uid='A279EDT1H7EB85', iid='B00005T3BD', r_ui=5.0, est=4.050105373397964, details={'was_impossible': True, 'reason': 'User and/or item is unkown.'}),\n",
       " Prediction(uid='A34UKYZ9E21V6W', iid='B00006IBLQ', r_ui=4.0, est=4.372093023255814, details={'actual_k': 0, 'was_impossible': False}),\n",
       " Prediction(uid='A2LUSERBUVCNAA', iid='B0001KWGOW', r_ui=3.0, est=4.050105373397964, details={'was_impossible': True, 'reason': 'User and/or item is unkown.'}),\n",
       " Prediction(uid='A1NCK1OV50VO4Q', iid='B00004RC2D', r_ui=4.0, est=4.050105373397964, details={'was_impossible': True, 'reason': 'User and/or item is unkown.'}),\n",
       " Prediction(uid='ANLFGMXB32Q3Q', iid='B000095SB4', r_ui=4.0, est=4.050105373397964, details={'was_impossible': True, 'reason': 'User and/or item is unkown.'}),\n",
       " Prediction(uid='AEJ2ZR6IIZIMK', iid='B0000UMLYI', r_ui=3.0, est=4.050105373397964, details={'was_impossible': True, 'reason': 'User and/or item is unkown.'}),\n",
       " Prediction(uid='AON46SHF1R9YR', iid='9983891212', r_ui=1.0, est=4.050105373397964, details={'was_impossible': True, 'reason': 'User and/or item is unkown.'}),\n",
       " Prediction(uid='AU1H82XE6NW0I', iid='B00068YUPM', r_ui=5.0, est=4.050105373397964, details={'was_impossible': True, 'reason': 'User and/or item is unkown.'}),\n",
       " Prediction(uid='A3ARJL0U72QNL7', iid='B00003006E', r_ui=1.0, est=4.050105373397964, details={'was_impossible': True, 'reason': 'User and/or item is unkown.'}),\n",
       " Prediction(uid='ATJY6LLLN69A5', iid='B0001FTVEK', r_ui=5.0, est=4.050105373397964, details={'was_impossible': True, 'reason': 'User and/or item is unkown.'}),\n",
       " Prediction(uid='A2ZS3ES8HNDGE6', iid='B0000A98AC', r_ui=5.0, est=3.8609271523178808, details={'actual_k': 0, 'was_impossible': False}),\n",
       " Prediction(uid='A21K4OPRF7CWY0', iid='B000ETXOC8', r_ui=5.0, est=4.050105373397964, details={'was_impossible': True, 'reason': 'User and/or item is unkown.'}),\n",
       " Prediction(uid='A12E08V976JQ6L', iid='B00066FH1U', r_ui=4.0, est=4.050105373397964, details={'was_impossible': True, 'reason': 'User and/or item is unkown.'}),\n",
       " Prediction(uid='A32X9ZWUEU95LD', iid='B000FV8P24', r_ui=5.0, est=4.050105373397964, details={'was_impossible': True, 'reason': 'User and/or item is unkown.'}),\n",
       " Prediction(uid='A1OMCCXPQWYVMB', iid='B000204SWE', r_ui=1.0, est=4.050105373397964, details={'was_impossible': True, 'reason': 'User and/or item is unkown.'}),\n",
       " Prediction(uid='A2OEXTWJNYBTAZ', iid='B000062R4P', r_ui=5.0, est=4.050105373397964, details={'was_impossible': True, 'reason': 'User and/or item is unkown.'}),\n",
       " Prediction(uid='A3BM1M9H6MDVIX', iid='B0002JY6TK', r_ui=1.0, est=4.050105373397964, details={'was_impossible': True, 'reason': 'User and/or item is unkown.'}),\n",
       " Prediction(uid='A24T618VXKI2A6', iid='B0002LHSG6', r_ui=5.0, est=4.050105373397964, details={'was_impossible': True, 'reason': 'User and/or item is unkown.'}),\n",
       " Prediction(uid='A1EOA2N7UJFZ9T', iid='B000GJYPEC', r_ui=2.0, est=4.050105373397964, details={'was_impossible': True, 'reason': 'User and/or item is unkown.'}),\n",
       " Prediction(uid='A2D3YZXIXXGY6S', iid='B00061W8EO', r_ui=5.0, est=4.217948717948718, details={'actual_k': 0, 'was_impossible': False}),\n",
       " Prediction(uid='A1W2E80C9FX61Q', iid='B0002VM8RU', r_ui=5.0, est=4.050105373397964, details={'was_impossible': True, 'reason': 'User and/or item is unkown.'}),\n",
       " Prediction(uid='A1P7DGDY9RC1E2', iid='B000A6NV0U', r_ui=5.0, est=3.616949152542373, details={'actual_k': 0, 'was_impossible': False}),\n",
       " Prediction(uid='A379VGIWYYYK2M', iid='B0009RKL62', r_ui=5.0, est=3.6467065868263475, details={'actual_k': 0, 'was_impossible': False}),\n",
       " Prediction(uid='A1VHUD9YA2YWZ9', iid='B000087NBW', r_ui=5.0, est=4.451327433628318, details={'actual_k': 0, 'was_impossible': False}),\n",
       " Prediction(uid='A315QZJ3XH5V8E', iid='B0001FV2YM', r_ui=1.0, est=4.050105373397964, details={'was_impossible': True, 'reason': 'User and/or item is unkown.'}),\n",
       " Prediction(uid='A3V0UTK7LDLJP4', iid='B000I94FAE', r_ui=5.0, est=4.050105373397964, details={'was_impossible': True, 'reason': 'User and/or item is unkown.'}),\n",
       " Prediction(uid='AJX9A4Q19UTJU', iid='B00008OE5I', r_ui=4.0, est=4.271428571428571, details={'actual_k': 0, 'was_impossible': False}),\n",
       " Prediction(uid='A56FKMCRIVZKW', iid='B00004VX15', r_ui=5.0, est=3.336683417085427, details={'actual_k': 0, 'was_impossible': False}),\n",
       " Prediction(uid='A27T9S42B283N1', iid='B00080YK9Y', r_ui=5.0, est=4.050105373397964, details={'was_impossible': True, 'reason': 'User and/or item is unkown.'}),\n",
       " Prediction(uid='A2WIVNIP9AENCN', iid='B000058BCR', r_ui=5.0, est=3.75, details={'actual_k': 0, 'was_impossible': False}),\n",
       " Prediction(uid='A2CD6H1911O5VL', iid='B000HZEX1K', r_ui=4.0, est=4.050105373397964, details={'was_impossible': True, 'reason': 'User and/or item is unkown.'}),\n",
       " Prediction(uid='A11IZQIJOI94CV', iid='B00004ZCJE', r_ui=5.0, est=4.050105373397964, details={'was_impossible': True, 'reason': 'User and/or item is unkown.'}),\n",
       " Prediction(uid='A2BGOCFH0BEN3M', iid='B00006I53S', r_ui=5.0, est=4.050105373397964, details={'was_impossible': True, 'reason': 'User and/or item is unkown.'}),\n",
       " Prediction(uid='AF6GZ6EG2OCSP', iid='B0001VWHH2', r_ui=5.0, est=4.050105373397964, details={'was_impossible': True, 'reason': 'User and/or item is unkown.'}),\n",
       " Prediction(uid='A1JW2KPD4C1VLW', iid='B00008ZOYE', r_ui=5.0, est=4.050105373397964, details={'was_impossible': True, 'reason': 'User and/or item is unkown.'}),\n",
       " Prediction(uid='AOOYSG9IJ34ZK', iid='B0007Z1M50', r_ui=5.0, est=4.050105373397964, details={'was_impossible': True, 'reason': 'User and/or item is unkown.'}),\n",
       " Prediction(uid='A2UBK0AGJ4MFSZ', iid='B000089GN3', r_ui=5.0, est=4.050105373397964, details={'was_impossible': True, 'reason': 'User and/or item is unkown.'}),\n",
       " Prediction(uid='A2CZLNYBCKB0QT', iid='B000BQ7GW8', r_ui=5.0, est=4.050105373397964, details={'was_impossible': True, 'reason': 'User and/or item is unkown.'}),\n",
       " Prediction(uid='AVUSXQKD6A1IE', iid='B000EVS4YE', r_ui=3.0, est=4.050105373397964, details={'was_impossible': True, 'reason': 'User and/or item is unkown.'}),\n",
       " Prediction(uid='A1C71KC23S7YAZ', iid='0972683275', r_ui=5.0, est=4.050105373397964, details={'was_impossible': True, 'reason': 'User and/or item is unkown.'}),\n",
       " Prediction(uid='A186CU2OGDWIKO', iid='B0009JR82U', r_ui=4.0, est=4.050105373397964, details={'was_impossible': True, 'reason': 'User and/or item is unkown.'}),\n",
       " Prediction(uid='ARK63W7NFDVAQ', iid='B000BSLTIS', r_ui=5.0, est=4.050105373397964, details={'was_impossible': True, 'reason': 'User and/or item is unkown.'}),\n",
       " Prediction(uid='A27A2KN9QSM59G', iid='B00008J6VW', r_ui=4.0, est=4.050105373397964, details={'was_impossible': True, 'reason': 'User and/or item is unkown.'}),\n",
       " Prediction(uid='A3PQNKH8G4239D', iid='B000EIWCFE', r_ui=5.0, est=4.050105373397964, details={'was_impossible': True, 'reason': 'User and/or item is unkown.'}),\n",
       " Prediction(uid='A27HPUFJSOWS8M', iid='B000EHWCDW', r_ui=3.0, est=4.050105373397964, details={'was_impossible': True, 'reason': 'User and/or item is unkown.'}),\n",
       " Prediction(uid='AQRHTQV2KN0LD', iid='B0002KVQBA', r_ui=4.0, est=4.050105373397964, details={'was_impossible': True, 'reason': 'User and/or item is unkown.'}),\n",
       " Prediction(uid='A11X7NL48ECH12', iid='B00020S7XK', r_ui=5.0, est=4.050105373397964, details={'was_impossible': True, 'reason': 'User and/or item is unkown.'}),\n",
       " Prediction(uid='ABASDEOMY75RP', iid='B000BKJZ9Q', r_ui=1.0, est=4.050105373397964, details={'was_impossible': True, 'reason': 'User and/or item is unkown.'}),\n",
       " Prediction(uid='A1PVRW2Y8ET58R', iid='B00006ICIW', r_ui=4.0, est=4.050105373397964, details={'was_impossible': True, 'reason': 'User and/or item is unkown.'}),\n",
       " Prediction(uid='A2XB4VLOOPPTGI', iid='B000E1FYS8', r_ui=5.0, est=4.125, details={'actual_k': 0, 'was_impossible': False}),\n",
       " Prediction(uid='AL388AFUFJOLK', iid='B000EDRSGW', r_ui=5.0, est=4.050105373397964, details={'was_impossible': True, 'reason': 'User and/or item is unkown.'}),\n",
       " Prediction(uid='A39K17HSVJSYUC', iid='B0007KQWGE', r_ui=5.0, est=4.050105373397964, details={'was_impossible': True, 'reason': 'User and/or item is unkown.'}),\n",
       " Prediction(uid='A2E0QKPWFSCVVL', iid='B0002Z82XA', r_ui=5.0, est=4.050105373397964, details={'was_impossible': True, 'reason': 'User and/or item is unkown.'}),\n",
       " Prediction(uid='A15EEPF2O0FONU', iid='B000I06JLQ', r_ui=1.0, est=4.050105373397964, details={'was_impossible': True, 'reason': 'User and/or item is unkown.'}),\n",
       " Prediction(uid='ADH5HCI08FAY5', iid='B000BTCJNG', r_ui=3.0, est=4.571428571428571, details={'actual_k': 0, 'was_impossible': False}),\n",
       " Prediction(uid='AH4QUEBMT8KSD', iid='B0007UQNY0', r_ui=4.0, est=4.050105373397964, details={'was_impossible': True, 'reason': 'User and/or item is unkown.'}),\n",
       " Prediction(uid='A2JX0ACPNK4L65', iid='B000EMCZ52', r_ui=1.0, est=4.050105373397964, details={'was_impossible': True, 'reason': 'User and/or item is unkown.'}),\n",
       " Prediction(uid='A35KZKIIJRPSQO', iid='B0002L5R78', r_ui=5.0, est=4.050105373397964, details={'was_impossible': True, 'reason': 'User and/or item is unkown.'}),\n",
       " Prediction(uid='A1PN2U0AWXGVML', iid='B0000C8VEK', r_ui=5.0, est=4.544776119402985, details={'actual_k': 0, 'was_impossible': False}),\n",
       " Prediction(uid='AYRB6GV8U44TV', iid='B000BTAH62', r_ui=4.0, est=4.050105373397964, details={'was_impossible': True, 'reason': 'User and/or item is unkown.'}),\n",
       " Prediction(uid='A2QR6HLDRWE5F7', iid='B00008O35T', r_ui=3.0, est=4.050105373397964, details={'was_impossible': True, 'reason': 'User and/or item is unkown.'}),\n",
       " Prediction(uid='A1IXQVJT9W6HP8', iid='B00004TWLY', r_ui=4.0, est=4.050105373397964, details={'was_impossible': True, 'reason': 'User and/or item is unkown.'}),\n",
       " Prediction(uid='A197M4OCL9BLSA', iid='B000069EV0', r_ui=1.0, est=4.050105373397964, details={'was_impossible': True, 'reason': 'User and/or item is unkown.'}),\n",
       " Prediction(uid='A1F5CHNS5QJTOH', iid='B0001FTVEK', r_ui=5.0, est=4.050105373397964, details={'was_impossible': True, 'reason': 'User and/or item is unkown.'}),\n",
       " Prediction(uid='A3KZWX311ZB55Y', iid='B00005B70I', r_ui=2.0, est=4.050105373397964, details={'was_impossible': True, 'reason': 'User and/or item is unkown.'}),\n",
       " Prediction(uid='A17A6LCGYLVO7H', iid='B0007Y794O', r_ui=4.0, est=4.050105373397964, details={'was_impossible': True, 'reason': 'User and/or item is unkown.'}),\n",
       " Prediction(uid='A8TAJ8PJWHNVD', iid='B00006B8K2', r_ui=5.0, est=4.050105373397964, details={'was_impossible': True, 'reason': 'User and/or item is unkown.'}),\n",
       " Prediction(uid='AKK5UMUSMHE0C', iid='B00008VFCW', r_ui=4.0, est=4.217391304347826, details={'actual_k': 0, 'was_impossible': False}),\n",
       " Prediction(uid='ANWFZ5J5CQK26', iid='B0002L5R78', r_ui=4.0, est=4.445078270098169, details={'actual_k': 0, 'was_impossible': False}),\n",
       " Prediction(uid='A5EQZ9PC513BL', iid='B0001OHH0Q', r_ui=5.0, est=4.050105373397964, details={'was_impossible': True, 'reason': 'User and/or item is unkown.'}),\n",
       " Prediction(uid='A2ZQYKY30KBNLN', iid='B0002XQDSS', r_ui=5.0, est=4.050105373397964, details={'was_impossible': True, 'reason': 'User and/or item is unkown.'}),\n",
       " Prediction(uid='AZJXPSCTB22CS', iid='B0002L5R78', r_ui=5.0, est=4.050105373397964, details={'was_impossible': True, 'reason': 'User and/or item is unkown.'}),\n",
       " Prediction(uid='A5GJRJD8L4R39', iid='B0007POE6O', r_ui=1.0, est=4.050105373397964, details={'was_impossible': True, 'reason': 'User and/or item is unkown.'}),\n",
       " Prediction(uid='A12H0SKEL2EZV4', iid='B00005ML7Q', r_ui=5.0, est=4.050105373397964, details={'was_impossible': True, 'reason': 'User and/or item is unkown.'}),\n",
       " Prediction(uid='A1H5G7235ORG53', iid='B0000V3OKM', r_ui=5.0, est=3.14, details={'actual_k': 0, 'was_impossible': False}),\n",
       " Prediction(uid='A29R7MWIU2Y6CF', iid='B000I68BD4', r_ui=3.0, est=4.050105373397964, details={'was_impossible': True, 'reason': 'User and/or item is unkown.'}),\n",
       " Prediction(uid='AZ1RAP7SF84I3', iid='B00020M1U0', r_ui=5.0, est=4.780730897009967, details={'actual_k': 0, 'was_impossible': False}),\n",
       " Prediction(uid='A3AD61WKEY66UK', iid='B0002J1WTC', r_ui=5.0, est=4.2615384615384615, details={'actual_k': 0, 'was_impossible': False}),\n",
       " Prediction(uid='AIUYJL6E4MFCE', iid='B00024ENES', r_ui=5.0, est=4.050105373397964, details={'was_impossible': True, 'reason': 'User and/or item is unkown.'}),\n",
       " Prediction(uid='A11OAIQ71DZEUR', iid='B000FBK3QK', r_ui=5.0, est=4.050105373397964, details={'was_impossible': True, 'reason': 'User and/or item is unkown.'}),\n",
       " Prediction(uid='A27PKYXVBKGRHO', iid='B000A3WS84', r_ui=3.0, est=4.050105373397964, details={'was_impossible': True, 'reason': 'User and/or item is unkown.'}),\n",
       " Prediction(uid='A31CGREKRPHDA0', iid='B000G36GOK', r_ui=2.0, est=4.050105373397964, details={'was_impossible': True, 'reason': 'User and/or item is unkown.'}),\n",
       " Prediction(uid='ARTKSNA8FYLT7', iid='B0002L5R78', r_ui=5.0, est=4.050105373397964, details={'was_impossible': True, 'reason': 'User and/or item is unkown.'}),\n",
       " Prediction(uid='A2IAKEZAS8LSRQ', iid='B000ALLMI8', r_ui=5.0, est=4.050105373397964, details={'was_impossible': True, 'reason': 'User and/or item is unkown.'}),\n",
       " Prediction(uid='A17QFPTL83423S', iid='B000F2JUOK', r_ui=4.0, est=4.050105373397964, details={'was_impossible': True, 'reason': 'User and/or item is unkown.'}),\n",
       " Prediction(uid='AX34BFLMD9DW6', iid='B0002EXJ8Y', r_ui=4.0, est=4.050105373397964, details={'was_impossible': True, 'reason': 'User and/or item is unkown.'}),\n",
       " Prediction(uid='A25Z9LTDYV4XTO', iid='B0007MGG2M', r_ui=4.0, est=4.050105373397964, details={'was_impossible': True, 'reason': 'User and/or item is unkown.'}),\n",
       " Prediction(uid='A31JPDU0G3XPMR', iid='B000HGQJZW', r_ui=5.0, est=4.050105373397964, details={'was_impossible': True, 'reason': 'User and/or item is unkown.'}),\n",
       " Prediction(uid='A2PZY9PH31L6A2', iid='B00009WQS1', r_ui=5.0, est=4.050105373397964, details={'was_impossible': True, 'reason': 'User and/or item is unkown.'}),\n",
       " Prediction(uid='A2LY8V7SPDUICI', iid='B0007KQWF0', r_ui=2.0, est=4.050105373397964, details={'was_impossible': True, 'reason': 'User and/or item is unkown.'}),\n",
       " Prediction(uid='AM5PDW2IZWCVX', iid='B00065ANY2', r_ui=1.0, est=4.050105373397964, details={'was_impossible': True, 'reason': 'User and/or item is unkown.'}),\n",
       " Prediction(uid='AZZ77XYX8O2WE', iid='B0001MQUOM', r_ui=5.0, est=5, details={'actual_k': 1, 'was_impossible': False}),\n",
       " Prediction(uid='A11WM8CWCZSVW6', iid='B00007056H', r_ui=2.0, est=4.050105373397964, details={'was_impossible': True, 'reason': 'User and/or item is unkown.'}),\n",
       " Prediction(uid='A2DJX50XWRBP3X', iid='B000HVI2HU', r_ui=1.0, est=4.050105373397964, details={'was_impossible': True, 'reason': 'User and/or item is unkown.'}),\n",
       " Prediction(uid='A2F0CMDC8G7T4R', iid='B000EXS1BS', r_ui=5.0, est=4.050105373397964, details={'was_impossible': True, 'reason': 'User and/or item is unkown.'}),\n",
       " Prediction(uid='AKRTKXR56R3X0', iid='B000EHUE7I', r_ui=3.0, est=4.050105373397964, details={'was_impossible': True, 'reason': 'User and/or item is unkown.'}),\n",
       " Prediction(uid='A38D3EWPD85JAH', iid='B000DZHA6O', r_ui=1.0, est=4.050105373397964, details={'was_impossible': True, 'reason': 'User and/or item is unkown.'}),\n",
       " Prediction(uid='A3L6ZKXE115LSC', iid='B00005ATMI', r_ui=4.0, est=4.050105373397964, details={'was_impossible': True, 'reason': 'User and/or item is unkown.'}),\n",
       " Prediction(uid='A2OB0KBWF86ZZZ', iid='B0000X0VCY', r_ui=5.0, est=4.257396449704142, details={'actual_k': 0, 'was_impossible': False}),\n",
       " Prediction(uid='A3PPC0J84IOIY8', iid='B00008OT2G', r_ui=5.0, est=4.050105373397964, details={'was_impossible': True, 'reason': 'User and/or item is unkown.'}),\n",
       " Prediction(uid='AZ4L6B685SDG', iid='B00006JPKE', r_ui=4.0, est=3.3454545454545452, details={'actual_k': 0, 'was_impossible': False}),\n",
       " Prediction(uid='A2K6XDIHIEUSSB', iid='B000H72MMU', r_ui=5.0, est=4.050105373397964, details={'was_impossible': True, 'reason': 'User and/or item is unkown.'}),\n",
       " Prediction(uid='A15BZ97NST54ZP', iid='B00004WCIC', r_ui=5.0, est=4.050105373397964, details={'was_impossible': True, 'reason': 'User and/or item is unkown.'}),\n",
       " Prediction(uid='A1XRC3OE5YNDMM', iid='B00009W3DV', r_ui=1.0, est=4.050105373397964, details={'was_impossible': True, 'reason': 'User and/or item is unkown.'}),\n",
       " Prediction(uid='A19XC5G33PUPOT', iid='B000GWGHOK', r_ui=5.0, est=4.050105373397964, details={'was_impossible': True, 'reason': 'User and/or item is unkown.'}),\n",
       " Prediction(uid='AT1VHQZ9RNR1T', iid='B000F007K8', r_ui=5.0, est=3.3175675675675675, details={'actual_k': 0, 'was_impossible': False}),\n",
       " Prediction(uid='A30X750M8V1XXW', iid='B00016UVHU', r_ui=4.0, est=3.65625, details={'actual_k': 0, 'was_impossible': False}),\n",
       " Prediction(uid='A1XDU24CZ4XI1D', iid='B000231D1K', r_ui=4.0, est=4.428571428571429, details={'actual_k': 0, 'was_impossible': False}),\n",
       " Prediction(uid='AJY7667C0IHB2', iid='B00006IJO4', r_ui=2.0, est=4.050105373397964, details={'was_impossible': True, 'reason': 'User and/or item is unkown.'}),\n",
       " Prediction(uid='A2YVI60ORXXMC6', iid='B000EGI7V4', r_ui=5.0, est=4.050105373397964, details={'was_impossible': True, 'reason': 'User and/or item is unkown.'}),\n",
       " Prediction(uid='A2GVNTX6FJPWVE', iid='B00008Y0VN', r_ui=5.0, est=4.050105373397964, details={'was_impossible': True, 'reason': 'User and/or item is unkown.'}),\n",
       " Prediction(uid='A35FUTUSVXQ5PD', iid='B0002ZLZ02', r_ui=2.0, est=4.070422535211268, details={'actual_k': 0, 'was_impossible': False}),\n",
       " Prediction(uid='A3BCFTC72CKHQE', iid='B00066IJPQ', r_ui=5.0, est=4.050105373397964, details={'was_impossible': True, 'reason': 'User and/or item is unkown.'}),\n",
       " Prediction(uid='A2CQKQ5BC51X14', iid='B000AJIF4E', r_ui=5.0, est=4.050105373397964, details={'was_impossible': True, 'reason': 'User and/or item is unkown.'}),\n",
       " Prediction(uid='APD1XZ1O88YDG', iid='B000165F26', r_ui=5.0, est=4.050105373397964, details={'was_impossible': True, 'reason': 'User and/or item is unkown.'}),\n",
       " Prediction(uid='AIXQ72T0H8BOP', iid='B0002Z82XA', r_ui=3.0, est=4.050105373397964, details={'was_impossible': True, 'reason': 'User and/or item is unkown.'}),\n",
       " Prediction(uid='A1RYZ3WCLIEZHK', iid='B0000510ZO', r_ui=1.0, est=4.050105373397964, details={'was_impossible': True, 'reason': 'User and/or item is unkown.'}),\n",
       " Prediction(uid='A35OBLQL1FOXX6', iid='B0007MXZB2', r_ui=5.0, est=4.050105373397964, details={'was_impossible': True, 'reason': 'User and/or item is unkown.'}),\n",
       " Prediction(uid='A3SK40BUGRL52', iid='B00001P4ZH', r_ui=5.0, est=4.050105373397964, details={'was_impossible': True, 'reason': 'User and/or item is unkown.'}),\n",
       " Prediction(uid='A2TMXSCEKW5AFT', iid='B00022OBO2', r_ui=5.0, est=3.6954933008526187, details={'actual_k': 0, 'was_impossible': False}),\n",
       " Prediction(uid='A2U5SI4WJ02FIC', iid='B00009XVCZ', r_ui=4.0, est=3.7589464828018118, details={'actual_k': 4, 'was_impossible': False}),\n",
       " Prediction(uid='A2GYV87WW0DMSN', iid='B000FIDTYG', r_ui=5.0, est=4.6, details={'actual_k': 0, 'was_impossible': False}),\n",
       " Prediction(uid='A3KD5C0AF68LF9', iid='B000BOLHH0', r_ui=5.0, est=4.050105373397964, details={'was_impossible': True, 'reason': 'User and/or item is unkown.'}),\n",
       " Prediction(uid='A1SPOGC07UGVKT', iid='B00005T6GZ', r_ui=5.0, est=5, details={'actual_k': 1, 'was_impossible': False}),\n",
       " Prediction(uid='A3TXB86P5QKD8V', iid='B0003NN83K', r_ui=5.0, est=4.050105373397964, details={'was_impossible': True, 'reason': 'User and/or item is unkown.'}),\n",
       " Prediction(uid='A3IC1REIPOHNP0', iid='B000IF4TPY', r_ui=5.0, est=4.050105373397964, details={'was_impossible': True, 'reason': 'User and/or item is unkown.'}),\n",
       " Prediction(uid='A2SA8V62AFPHX4', iid='B0000AG92Z', r_ui=2.0, est=4.050105373397964, details={'was_impossible': True, 'reason': 'User and/or item is unkown.'}),\n",
       " Prediction(uid='A2CG88MGTAZZUF', iid='B00007056H', r_ui=2.0, est=4.050105373397964, details={'was_impossible': True, 'reason': 'User and/or item is unkown.'}),\n",
       " Prediction(uid='A3USE8WR8BQXDK', iid='B00005AW1F', r_ui=2.0, est=2.2051282051282053, details={'actual_k': 0, 'was_impossible': False}),\n",
       " Prediction(uid='A13Q5RUTC99U2A', iid='B0009NEUOA', r_ui=4.0, est=4.186046511627907, details={'actual_k': 0, 'was_impossible': False}),\n",
       " Prediction(uid='ATNYTRYVHN96F', iid='B0009P5YA2', r_ui=5.0, est=4.050105373397964, details={'was_impossible': True, 'reason': 'User and/or item is unkown.'}),\n",
       " Prediction(uid='A2FVR336Q5UOPY', iid='B000092TT0', r_ui=5.0, est=4.050105373397964, details={'was_impossible': True, 'reason': 'User and/or item is unkown.'}),\n",
       " Prediction(uid='A1RVKMX9CZKIBC', iid='B000A6NUUQ', r_ui=3.0, est=4.050105373397964, details={'was_impossible': True, 'reason': 'User and/or item is unkown.'}),\n",
       " Prediction(uid='A3P7LH5IA42HAO', iid='B00024DIDK', r_ui=5.0, est=4.050105373397964, details={'was_impossible': True, 'reason': 'User and/or item is unkown.'}),\n",
       " Prediction(uid='A358LGF1IIBYXV', iid='B0001FTVEK', r_ui=1.0, est=4.050105373397964, details={'was_impossible': True, 'reason': 'User and/or item is unkown.'}),\n",
       " Prediction(uid='A2NAO3792699ER', iid='B00009R6TA', r_ui=5.0, est=4.050105373397964, details={'was_impossible': True, 'reason': 'User and/or item is unkown.'}),\n",
       " Prediction(uid='A2DKAY4YK08LE9', iid='B0002ZLZ02', r_ui=4.0, est=4.050105373397964, details={'was_impossible': True, 'reason': 'User and/or item is unkown.'}),\n",
       " Prediction(uid='A1UYTU7VZZQRBH', iid='B000FNDWLQ', r_ui=1.0, est=4.050105373397964, details={'was_impossible': True, 'reason': 'User and/or item is unkown.'}),\n",
       " Prediction(uid='A1J2SI05VBJZX4', iid='B000I6JZGQ', r_ui=4.0, est=4.050105373397964, details={'was_impossible': True, 'reason': 'User and/or item is unkown.'}),\n",
       " Prediction(uid='A3QDRI40BEDUI5', iid='B00020S7XK', r_ui=5.0, est=4.050105373397964, details={'was_impossible': True, 'reason': 'User and/or item is unkown.'}),\n",
       " Prediction(uid='A3A7DHHV77AGL3', iid='B000BDH2Y8', r_ui=5.0, est=4.050105373397964, details={'was_impossible': True, 'reason': 'User and/or item is unkown.'}),\n",
       " Prediction(uid='AOVHI9TO0PT9', iid='B000F7JYJQ', r_ui=5.0, est=4.050105373397964, details={'was_impossible': True, 'reason': 'User and/or item is unkown.'}),\n",
       " Prediction(uid='A3QTZ165U2X47Z', iid='B000BMAL10', r_ui=4.0, est=4.050105373397964, details={'was_impossible': True, 'reason': 'User and/or item is unkown.'}),\n",
       " Prediction(uid='A23C0R77ZP9Z84', iid='1400532655', r_ui=3.0, est=3.738578680203046, details={'actual_k': 0, 'was_impossible': False}),\n",
       " Prediction(uid='A1JCXLNNHOMI3J', iid='B000BV8604', r_ui=2.0, est=4.050105373397964, details={'was_impossible': True, 'reason': 'User and/or item is unkown.'}),\n",
       " Prediction(uid='A2TW54ZAUNWRMD', iid='B0002L5R78', r_ui=5.0, est=4.050105373397964, details={'was_impossible': True, 'reason': 'User and/or item is unkown.'}),\n",
       " Prediction(uid='A207FND6OUIZC8', iid='B000051ZOA', r_ui=5.0, est=4.050105373397964, details={'was_impossible': True, 'reason': 'User and/or item is unkown.'}),\n",
       " Prediction(uid='A2N1J09AJBRTKR', iid='B00013MSUQ', r_ui=5.0, est=4.050105373397964, details={'was_impossible': True, 'reason': 'User and/or item is unkown.'}),\n",
       " Prediction(uid='A1PQK9OTGHDY08', iid='B00009R6WU', r_ui=4.0, est=4.556521739130435, details={'actual_k': 0, 'was_impossible': False}),\n",
       " Prediction(uid='A1JHH2086O15KD', iid='B000058BCR', r_ui=5.0, est=4.050105373397964, details={'was_impossible': True, 'reason': 'User and/or item is unkown.'}),\n",
       " Prediction(uid='A3J3ML0YAE8CV', iid='B00009MK5M', r_ui=1.0, est=4.050105373397964, details={'was_impossible': True, 'reason': 'User and/or item is unkown.'}),\n",
       " Prediction(uid='A1KG9HXIBFIQDK', iid='B000HQH2Y4', r_ui=5.0, est=4.050105373397964, details={'was_impossible': True, 'reason': 'User and/or item is unkown.'}),\n",
       " Prediction(uid='ADO6X633WCXTE', iid='B0002OZXGU', r_ui=1.0, est=2.502472550498701, details={'actual_k': 1, 'was_impossible': False}),\n",
       " Prediction(uid='A3VFEDPIMFE547', iid='B000HPZ97W', r_ui=4.0, est=4.5636363636363635, details={'actual_k': 0, 'was_impossible': False}),\n",
       " Prediction(uid='AICDPQE90H9QU', iid='B000I4RMOU', r_ui=5.0, est=4.050105373397964, details={'was_impossible': True, 'reason': 'User and/or item is unkown.'}),\n",
       " Prediction(uid='A1E6E411YVITOY', iid='B000EOPQ7E', r_ui=3.0, est=4.050105373397964, details={'was_impossible': True, 'reason': 'User and/or item is unkown.'}),\n",
       " Prediction(uid='A1JTN3O5V1WZSP', iid='B000E6G9RI', r_ui=5.0, est=4.050105373397964, details={'was_impossible': True, 'reason': 'User and/or item is unkown.'}),\n",
       " Prediction(uid='A372T80QWLFFW6', iid='B000BOLHH0', r_ui=5.0, est=4.050105373397964, details={'was_impossible': True, 'reason': 'User and/or item is unkown.'}),\n",
       " Prediction(uid='A1HDDF1VC21PAR', iid='B0002Z2CYU', r_ui=5.0, est=4.050105373397964, details={'was_impossible': True, 'reason': 'User and/or item is unkown.'}),\n",
       " Prediction(uid='AOM0CPZI93WMW', iid='B000A2BLEC', r_ui=3.0, est=4.050105373397964, details={'was_impossible': True, 'reason': 'User and/or item is unkown.'}),\n",
       " Prediction(uid='A1BFNJD7PBE92V', iid='B000C1Z0HA', r_ui=5.0, est=4.050105373397964, details={'was_impossible': True, 'reason': 'User and/or item is unkown.'}),\n",
       " Prediction(uid='A1FOG6KD5WXPTC', iid='B0009MX5R4', r_ui=4.0, est=4.050105373397964, details={'was_impossible': True, 'reason': 'User and/or item is unkown.'}),\n",
       " Prediction(uid='A3EJEHX10Y0S7G', iid='B00007EDZG', r_ui=1.0, est=4.050105373397964, details={'was_impossible': True, 'reason': 'User and/or item is unkown.'}),\n",
       " Prediction(uid='A26UKXC8QY9FEM', iid='B000067RBT', r_ui=5.0, est=4.050105373397964, details={'was_impossible': True, 'reason': 'User and/or item is unkown.'}),\n",
       " Prediction(uid='A6FL31U0BSI98', iid='B000BKJZ9Q', r_ui=4.0, est=4.050105373397964, details={'was_impossible': True, 'reason': 'User and/or item is unkown.'}),\n",
       " Prediction(uid='A23KSML2SCHCUM', iid='B000EDKP8U', r_ui=5.0, est=4.050105373397964, details={'was_impossible': True, 'reason': 'User and/or item is unkown.'}),\n",
       " Prediction(uid='A1Y9ESSCLPUKJA', iid='B000FJD5IA', r_ui=5.0, est=4.050105373397964, details={'was_impossible': True, 'reason': 'User and/or item is unkown.'}),\n",
       " Prediction(uid='A59J4D9GE7G8L', iid='B000BK393Y', r_ui=5.0, est=4.050105373397964, details={'was_impossible': True, 'reason': 'User and/or item is unkown.'}),\n",
       " Prediction(uid='A78537UQRSMF4', iid='B000067O5G', r_ui=5.0, est=3.7409261576971216, details={'actual_k': 0, 'was_impossible': False}),\n",
       " Prediction(uid='A10VC0DDDJWU4M', iid='B000261N6M', r_ui=4.0, est=4.050105373397964, details={'was_impossible': True, 'reason': 'User and/or item is unkown.'}),\n",
       " Prediction(uid='A2WXEQ2UN5WBOE', iid='B0009IRUKG', r_ui=5.0, est=4.050105373397964, details={'was_impossible': True, 'reason': 'User and/or item is unkown.'}),\n",
       " Prediction(uid='A20CJUHBNGHP0B', iid='B0002SQ0A4', r_ui=3.0, est=4.611702127659575, details={'actual_k': 0, 'was_impossible': False}),\n",
       " Prediction(uid='A38CL16FO4ORHQ', iid='B000AV14M2', r_ui=5.0, est=4.050105373397964, details={'was_impossible': True, 'reason': 'User and/or item is unkown.'}),\n",
       " Prediction(uid='A3SYX18VNX6O85', iid='B00006B7HB', r_ui=5.0, est=4.050105373397964, details={'was_impossible': True, 'reason': 'User and/or item is unkown.'}),\n",
       " Prediction(uid='A3LF6YLH6B8VJ4', iid='B000EEZCEG', r_ui=5.0, est=4.050105373397964, details={'was_impossible': True, 'reason': 'User and/or item is unkown.'}),\n",
       " Prediction(uid='A3SW2K5LRWKV7E', iid='B00004ZC8Y', r_ui=5.0, est=4.050105373397964, details={'was_impossible': True, 'reason': 'User and/or item is unkown.'}),\n",
       " Prediction(uid='A14HAJJ3KRWDZM', iid='B00007FGU7', r_ui=5.0, est=4.050105373397964, details={'was_impossible': True, 'reason': 'User and/or item is unkown.'}),\n",
       " Prediction(uid='A32EMUXA6WMTJP', iid='B0009HGVZW', r_ui=4.0, est=3.4566034803322845, details={'actual_k': 2, 'was_impossible': False}),\n",
       " Prediction(uid='APVGSTW9OR1MO', iid='B000HEW0KW', r_ui=5.0, est=4.050105373397964, details={'was_impossible': True, 'reason': 'User and/or item is unkown.'}),\n",
       " Prediction(uid='A3AYF9CD4PXDJR', iid='B00004WGNF', r_ui=4.0, est=4.4772727272727275, details={'actual_k': 0, 'was_impossible': False}),\n",
       " Prediction(uid='AYEO22JBW9CK5', iid='B0002GRLL8', r_ui=4.0, est=4.050105373397964, details={'was_impossible': True, 'reason': 'User and/or item is unkown.'}),\n",
       " Prediction(uid='A156E35WWLQVC0', iid='B0007UQNV8', r_ui=5.0, est=4.050105373397964, details={'was_impossible': True, 'reason': 'User and/or item is unkown.'}),\n",
       " Prediction(uid='A12ZLJ7ZP3W8JQ', iid='B00006JN3G', r_ui=4.0, est=4.050105373397964, details={'was_impossible': True, 'reason': 'User and/or item is unkown.'}),\n",
       " Prediction(uid='A25Y4KW08CXT24', iid='B00006L4F1', r_ui=3.0, est=4.507692307692308, details={'actual_k': 0, 'was_impossible': False}),\n",
       " Prediction(uid='ALSM8MHQ1U504', iid='B00000JFIF', r_ui=5.0, est=4.050105373397964, details={'was_impossible': True, 'reason': 'User and/or item is unkown.'}),\n",
       " Prediction(uid='A3U9RB47UY748X', iid='B0000ALPBJ', r_ui=1.0, est=4.050105373397964, details={'was_impossible': True, 'reason': 'User and/or item is unkown.'}),\n",
       " Prediction(uid='AWP2W628UR8SP', iid='B0002TQXJG', r_ui=3.0, est=3.6444444444444444, details={'actual_k': 0, 'was_impossible': False}),\n",
       " Prediction(uid='A2N2CFXZRSK34I', iid='B000095SB4', r_ui=5.0, est=4.050105373397964, details={'was_impossible': True, 'reason': 'User and/or item is unkown.'}),\n",
       " Prediction(uid='A32EUWVX0NHHQ5', iid='B00007E7JU', r_ui=5.0, est=4.050105373397964, details={'was_impossible': True, 'reason': 'User and/or item is unkown.'}),\n",
       " Prediction(uid='A3KS51HRF6HXNG', iid='B000F7857S', r_ui=5.0, est=4.050105373397964, details={'was_impossible': True, 'reason': 'User and/or item is unkown.'}),\n",
       " Prediction(uid='AEFWDQ3JJ57OQ', iid='B0006B486K', r_ui=5.0, est=4.050105373397964, details={'was_impossible': True, 'reason': 'User and/or item is unkown.'}),\n",
       " Prediction(uid='A96SQY96WM076', iid='B000E95T58', r_ui=5.0, est=3.6783216783216783, details={'actual_k': 0, 'was_impossible': False}),\n",
       " Prediction(uid='A2MPA7UXN5VXJN', iid='B000065BPC', r_ui=4.0, est=4.050105373397964, details={'was_impossible': True, 'reason': 'User and/or item is unkown.'}),\n",
       " Prediction(uid='A29P18627MBTQW', iid='B00007E7NH', r_ui=1.0, est=4.050105373397964, details={'was_impossible': True, 'reason': 'User and/or item is unkown.'}),\n",
       " Prediction(uid='A2PU5RZMSZBVFG', iid='B0007GIXS8', r_ui=5.0, est=4.050105373397964, details={'was_impossible': True, 'reason': 'User and/or item is unkown.'}),\n",
       " Prediction(uid='A2XEL7XVEO6D9R', iid='B000I1X3W8', r_ui=5.0, est=4.050105373397964, details={'was_impossible': True, 'reason': 'User and/or item is unkown.'}),\n",
       " Prediction(uid='A1RERWXZOKDEES', iid='B0002L5R78', r_ui=5.0, est=4.050105373397964, details={'was_impossible': True, 'reason': 'User and/or item is unkown.'}),\n",
       " Prediction(uid='A1QX6F1MD4NUE', iid='B0000A98AC', r_ui=1.0, est=4.050105373397964, details={'was_impossible': True, 'reason': 'User and/or item is unkown.'}),\n",
       " Prediction(uid='ADVJZPY2ZQA88', iid='B00006IBLQ', r_ui=5.0, est=4.050105373397964, details={'was_impossible': True, 'reason': 'User and/or item is unkown.'}),\n",
       " Prediction(uid='A67V25HLHAQ0P', iid='B0002EXF38', r_ui=3.0, est=4.050105373397964, details={'was_impossible': True, 'reason': 'User and/or item is unkown.'}),\n",
       " Prediction(uid='A3RCCAVI2MZ2NS', iid='B00009V3TT', r_ui=1.0, est=4.050105373397964, details={'was_impossible': True, 'reason': 'User and/or item is unkown.'}),\n",
       " Prediction(uid='A1WYFHXGY1GOGX', iid='B0003QER8C', r_ui=3.0, est=4.050105373397964, details={'was_impossible': True, 'reason': 'User and/or item is unkown.'}),\n",
       " Prediction(uid='A1STFE4ZQOQIFO', iid='B000067RC4', r_ui=3.0, est=4.050105373397964, details={'was_impossible': True, 'reason': 'User and/or item is unkown.'}),\n",
       " Prediction(uid='A1L7BWOHONSU2L', iid='B000065BPB', r_ui=5.0, est=4.050105373397964, details={'was_impossible': True, 'reason': 'User and/or item is unkown.'}),\n",
       " Prediction(uid='A2GM1CXK7HD5MH', iid='B000I97N4O', r_ui=5.0, est=4.050105373397964, details={'was_impossible': True, 'reason': 'User and/or item is unkown.'}),\n",
       " Prediction(uid='AH8M7RH47K1GY', iid='B00004Y7CF', r_ui=2.0, est=4.050105373397964, details={'was_impossible': True, 'reason': 'User and/or item is unkown.'}),\n",
       " Prediction(uid='A26TWRMOM4S9PA', iid='B00004ZCJE', r_ui=5.0, est=4.050105373397964, details={'was_impossible': True, 'reason': 'User and/or item is unkown.'}),\n",
       " Prediction(uid='A2SCXC0E2NJG94', iid='B000BI655U', r_ui=1.0, est=4.050105373397964, details={'was_impossible': True, 'reason': 'User and/or item is unkown.'}),\n",
       " Prediction(uid='A1W7R0FF8CBIYK', iid='B00005BC0J', r_ui=4.0, est=4.065934065934066, details={'actual_k': 0, 'was_impossible': False}),\n",
       " Prediction(uid='A3EADN8W9C5LVS', iid='B000CMS5B2', r_ui=5.0, est=4.050105373397964, details={'was_impossible': True, 'reason': 'User and/or item is unkown.'}),\n",
       " Prediction(uid='A1FVLWHLP0YCH5', iid='B0007SXHP0', r_ui=5.0, est=3.3496503496503496, details={'actual_k': 0, 'was_impossible': False}),\n",
       " Prediction(uid='A1TZ8MBYJD9B2U', iid='B0002T3UQ0', r_ui=2.0, est=3.84251968503937, details={'actual_k': 0, 'was_impossible': False}),\n",
       " Prediction(uid='A2AQXKYHCN5KNR', iid='B0008GP880', r_ui=4.0, est=4.050105373397964, details={'was_impossible': True, 'reason': 'User and/or item is unkown.'}),\n",
       " Prediction(uid='A1SAGA9WJQYJ8M', iid='B000F9NXXC', r_ui=1.0, est=4.050105373397964, details={'was_impossible': True, 'reason': 'User and/or item is unkown.'}),\n",
       " Prediction(uid='A2L35CQM9Y917N', iid='B0002SQ3Z6', r_ui=2.0, est=3.6666666666666665, details={'actual_k': 0, 'was_impossible': False}),\n",
       " Prediction(uid='A3L2W65CPM3F1Z', iid='B00024DIDK', r_ui=1.0, est=4.006802721088436, details={'actual_k': 0, 'was_impossible': False}),\n",
       " Prediction(uid='A2VHL1CQ3CZ1AZ', iid='B000EVSLRO', r_ui=5.0, est=4.050105373397964, details={'was_impossible': True, 'reason': 'User and/or item is unkown.'}),\n",
       " Prediction(uid='A3JI5EGAEOXKTA', iid='B0001FTVEA', r_ui=1.0, est=4.050105373397964, details={'was_impossible': True, 'reason': 'User and/or item is unkown.'}),\n",
       " Prediction(uid='A1QRQT1FAQX5V3', iid='B00009R6VO', r_ui=5.0, est=4.4774774774774775, details={'actual_k': 0, 'was_impossible': False}),\n",
       " Prediction(uid='A2INH5BZMX7DJ9', iid='B0002AKX6Y', r_ui=1.0, est=4.050105373397964, details={'was_impossible': True, 'reason': 'User and/or item is unkown.'}),\n",
       " Prediction(uid='A2LOI2A0449LI2', iid='B000I8FZQI', r_ui=5.0, est=4.050105373397964, details={'was_impossible': True, 'reason': 'User and/or item is unkown.'}),\n",
       " Prediction(uid='A1DOLFTE4K482S', iid='B000204SWE', r_ui=2.0, est=4.050105373397964, details={'was_impossible': True, 'reason': 'User and/or item is unkown.'}),\n",
       " Prediction(uid='AGHZXQL9F94T9', iid='B0000CBJ8J', r_ui=3.0, est=2.4423076923076925, details={'actual_k': 0, 'was_impossible': False}),\n",
       " Prediction(uid='AVJPUGJSZRWV9', iid='B00006I53W', r_ui=4.0, est=5, details={'actual_k': 1, 'was_impossible': False}),\n",
       " Prediction(uid='AIICWMROVUDVU', iid='B000A3WS84', r_ui=1.0, est=4.050105373397964, details={'was_impossible': True, 'reason': 'User and/or item is unkown.'}),\n",
       " Prediction(uid='A2JFGWMTK7H8TU', iid='B000E95T58', r_ui=4.0, est=4.050105373397964, details={'was_impossible': True, 'reason': 'User and/or item is unkown.'}),\n",
       " Prediction(uid='AIBORXGDEY8RS', iid='B00003CWDG', r_ui=5.0, est=4.050105373397964, details={'was_impossible': True, 'reason': 'User and/or item is unkown.'}),\n",
       " Prediction(uid='A24DGMBY82E69H', iid='B00006I5TD', r_ui=4.0, est=4.050105373397964, details={'was_impossible': True, 'reason': 'User and/or item is unkown.'}),\n",
       " Prediction(uid='A9JHAI2Y9IKUQ', iid='B0001FTVEK', r_ui=4.0, est=1.568684267807126, details={'actual_k': 1, 'was_impossible': False}),\n",
       " Prediction(uid='AW3086NGQUCWB', iid='B000087NBW', r_ui=5.0, est=4.050105373397964, details={'was_impossible': True, 'reason': 'User and/or item is unkown.'}),\n",
       " Prediction(uid='AJFQYHQVBJN5M', iid='B000BQ7GW8', r_ui=4.0, est=4.561927283476204, details={'actual_k': 0, 'was_impossible': False}),\n",
       " Prediction(uid='A1BKQ1PRWAZKY1', iid='B000EUGX70', r_ui=3.0, est=4.160621761658031, details={'actual_k': 0, 'was_impossible': False}),\n",
       " Prediction(uid='A155CTVWPLLXOO', iid='B0007QCO6A', r_ui=5.0, est=4.050105373397964, details={'was_impossible': True, 'reason': 'User and/or item is unkown.'}),\n",
       " Prediction(uid='A1J0P29JYU0YQE', iid='B000068UY6', r_ui=5.0, est=4.050105373397964, details={'was_impossible': True, 'reason': 'User and/or item is unkown.'}),\n",
       " Prediction(uid='A1LLYCY60A3T3S', iid='B000FHD7PI', r_ui=4.0, est=4.050105373397964, details={'was_impossible': True, 'reason': 'User and/or item is unkown.'}),\n",
       " Prediction(uid='A98AI93DVBXQU', iid='B000066E6Y', r_ui=5.0, est=4.150278293135436, details={'actual_k': 0, 'was_impossible': False}),\n",
       " Prediction(uid='A3IY316DRNF5F2', iid='B000095SB6', r_ui=5.0, est=3.0542637878701107, details={'actual_k': 1, 'was_impossible': False}),\n",
       " Prediction(uid='A3QEI51GH9UIWW', iid='B00005N6KG', r_ui=1.0, est=4.050105373397964, details={'was_impossible': True, 'reason': 'User and/or item is unkown.'}),\n",
       " Prediction(uid='A2UYXVI8GRBY8W', iid='B000BTL0OA', r_ui=2.0, est=4.050105373397964, details={'was_impossible': True, 'reason': 'User and/or item is unkown.'}),\n",
       " Prediction(uid='A301SWECORDARG', iid='B00009X3UA', r_ui=4.0, est=4.050105373397964, details={'was_impossible': True, 'reason': 'User and/or item is unkown.'}),\n",
       " Prediction(uid='A3HUXYCGOG9WD2', iid='B000ID7QNI', r_ui=2.0, est=4.050105373397964, details={'was_impossible': True, 'reason': 'User and/or item is unkown.'}),\n",
       " Prediction(uid='A39MUE0P6OSH04', iid='B00007EDZG', r_ui=5.0, est=4.3850658857979505, details={'actual_k': 0, 'was_impossible': False}),\n",
       " Prediction(uid='A2WUNT23OL86S8', iid='B000CS7U1C', r_ui=4.0, est=4.102781136638452, details={'actual_k': 0, 'was_impossible': False}),\n",
       " Prediction(uid='A1PL9WNX7LT4GA', iid='B0002TQQUW', r_ui=4.0, est=4.050105373397964, details={'was_impossible': True, 'reason': 'User and/or item is unkown.'}),\n",
       " Prediction(uid='A1YX4J53IG9M58', iid='B0002L5R78', r_ui=5.0, est=4.050105373397964, details={'was_impossible': True, 'reason': 'User and/or item is unkown.'}),\n",
       " Prediction(uid='A3FIUAGEST4JC4', iid='B0006B088W', r_ui=5.0, est=4.050105373397964, details={'was_impossible': True, 'reason': 'User and/or item is unkown.'}),\n",
       " Prediction(uid='A23RC1P5CPXCI0', iid='B00005ALB1', r_ui=4.0, est=4.050105373397964, details={'was_impossible': True, 'reason': 'User and/or item is unkown.'}),\n",
       " Prediction(uid='A1WX8FQ32CH7FX', iid='B000B55ANG', r_ui=5.0, est=4.050105373397964, details={'was_impossible': True, 'reason': 'User and/or item is unkown.'}),\n",
       " Prediction(uid='A1JFVBJEU57XWY', iid='B00008ZPED', r_ui=5.0, est=4.050105373397964, details={'was_impossible': True, 'reason': 'User and/or item is unkown.'}),\n",
       " Prediction(uid='A3BC6Y0LB9XDQ5', iid='B0002L5R78', r_ui=5.0, est=4.050105373397964, details={'was_impossible': True, 'reason': 'User and/or item is unkown.'}),\n",
       " Prediction(uid='A2Y6QPXBVBILYL', iid='B0007MXZB2', r_ui=1.0, est=4.050105373397964, details={'was_impossible': True, 'reason': 'User and/or item is unkown.'}),\n",
       " Prediction(uid='A1D1E0HIAR8GVJ', iid='B000HCT12O', r_ui=1.0, est=4.050105373397964, details={'was_impossible': True, 'reason': 'User and/or item is unkown.'}),\n",
       " Prediction(uid='A2VINNGLZ0229I', iid='B0007TJ5AK', r_ui=5.0, est=4.050105373397964, details={'was_impossible': True, 'reason': 'User and/or item is unkown.'}),\n",
       " Prediction(uid='AWWN9XK9AHTG5', iid='B000IE8Z4Q', r_ui=4.0, est=4.050105373397964, details={'was_impossible': True, 'reason': 'User and/or item is unkown.'}),\n",
       " Prediction(uid='A1HQ8E4CT6ORSN', iid='B0007MXZB2', r_ui=5.0, est=4.050105373397964, details={'was_impossible': True, 'reason': 'User and/or item is unkown.'}),\n",
       " Prediction(uid='A2JQQVWJNPABJ', iid='B000089GN2', r_ui=1.0, est=4.050105373397964, details={'was_impossible': True, 'reason': 'User and/or item is unkown.'}),\n",
       " Prediction(uid='A3GHF4Q98U8SCZ', iid='B00006HYWR', r_ui=5.0, est=4.050105373397964, details={'was_impossible': True, 'reason': 'User and/or item is unkown.'}),\n",
       " Prediction(uid='A3L5NE3OATY960', iid='B000GGQ2ZU', r_ui=5.0, est=4.050105373397964, details={'was_impossible': True, 'reason': 'User and/or item is unkown.'}),\n",
       " Prediction(uid='AI5RHECNTWYI4', iid='B0002WPSBC', r_ui=5.0, est=4.050105373397964, details={'was_impossible': True, 'reason': 'User and/or item is unkown.'}),\n",
       " Prediction(uid='A262ZXGWVDAA4K', iid='B000I2HJ1S', r_ui=5.0, est=4.050105373397964, details={'was_impossible': True, 'reason': 'User and/or item is unkown.'}),\n",
       " Prediction(uid='A38C52IWI9LM7G', iid='B0000EW9M8', r_ui=4.0, est=4.050105373397964, details={'was_impossible': True, 'reason': 'User and/or item is unkown.'}),\n",
       " Prediction(uid='A259P10TCTTYBI', iid='B000F2P31E', r_ui=4.0, est=4.050105373397964, details={'was_impossible': True, 'reason': 'User and/or item is unkown.'}),\n",
       " Prediction(uid='AA3OOWE0UAJC8', iid='B000I1IGQ6', r_ui=1.0, est=4.050105373397964, details={'was_impossible': True, 'reason': 'User and/or item is unkown.'}),\n",
       " Prediction(uid='A1RDTZCH96AMTJ', iid='B0002MQGOA', r_ui=4.0, est=4.050105373397964, details={'was_impossible': True, 'reason': 'User and/or item is unkown.'}),\n",
       " Prediction(uid='A1PE799QPHXCNY', iid='B000CS1TLE', r_ui=5.0, est=4.050105373397964, details={'was_impossible': True, 'reason': 'User and/or item is unkown.'}),\n",
       " Prediction(uid='A2IT3YL2MJXFVY', iid='B0007LJHVK', r_ui=4.0, est=4.516351118760757, details={'actual_k': 0, 'was_impossible': False}),\n",
       " Prediction(uid='A3UR35MZSGZNDI', iid='B0006G36TA', r_ui=1.0, est=4.050105373397964, details={'was_impossible': True, 'reason': 'User and/or item is unkown.'}),\n",
       " Prediction(uid='A9KOC3PXLXYSB', iid='B0006HU49Y', r_ui=5.0, est=4.425531914893617, details={'actual_k': 0, 'was_impossible': False}),\n",
       " Prediction(uid='AIJWAL4ZGCK2F', iid='0972683275', r_ui=5.0, est=4.050105373397964, details={'was_impossible': True, 'reason': 'User and/or item is unkown.'}),\n",
       " Prediction(uid='A1EAH41JKGAZ87', iid='B0009V1BEY', r_ui=4.0, est=3.5714285714285716, details={'actual_k': 0, 'was_impossible': False}),\n",
       " Prediction(uid='A179A9OMK7KAH5', iid='B00009R6TA', r_ui=5.0, est=4.473384030418251, details={'actual_k': 0, 'was_impossible': False}),\n",
       " Prediction(uid='A1Q3LON2NGBEY4', iid='B000E43GOO', r_ui=2.0, est=4.050105373397964, details={'was_impossible': True, 'reason': 'User and/or item is unkown.'}),\n",
       " Prediction(uid='ARHRSYF9YLQZF', iid='B000I68BD4', r_ui=1.0, est=4.050105373397964, details={'was_impossible': True, 'reason': 'User and/or item is unkown.'}),\n",
       " Prediction(uid='AJS2RBNGSKZ6X', iid='B0001FTVEA', r_ui=5.0, est=4.050105373397964, details={'was_impossible': True, 'reason': 'User and/or item is unkown.'}),\n",
       " Prediction(uid='AVMGIBL2X6LWP', iid='B000GBO9IM', r_ui=5.0, est=4.050105373397964, details={'was_impossible': True, 'reason': 'User and/or item is unkown.'}),\n",
       " Prediction(uid='A2T4NPGR6ASXTJ', iid='B000EF1820', r_ui=4.0, est=4.050105373397964, details={'was_impossible': True, 'reason': 'User and/or item is unkown.'}),\n",
       " Prediction(uid='A1W8BW9YVTXKEX', iid='B000I1X3W8', r_ui=4.0, est=4.596328483974419, details={'actual_k': 3, 'was_impossible': False}),\n",
       " Prediction(uid='A11ZVBC0R1Q3OH', iid='B0002SQ2P2', r_ui=4.0, est=4.568904593639576, details={'actual_k': 0, 'was_impossible': False}),\n",
       " Prediction(uid='A70JJQCQGLQT8', iid='B000B9RI14', r_ui=5.0, est=4.050105373397964, details={'was_impossible': True, 'reason': 'User and/or item is unkown.'}),\n",
       " Prediction(uid='A1LRHGPGG7B09', iid='B0000A98AC', r_ui=2.0, est=4.050105373397964, details={'was_impossible': True, 'reason': 'User and/or item is unkown.'}),\n",
       " Prediction(uid='A1WQSL8B740Q6H', iid='B00007E7C8', r_ui=4.0, est=4.050105373397964, details={'was_impossible': True, 'reason': 'User and/or item is unkown.'}),\n",
       " Prediction(uid='A2T0ZELSN9LKWC', iid='B000ENRQ3M', r_ui=3.0, est=4.050105373397964, details={'was_impossible': True, 'reason': 'User and/or item is unkown.'}),\n",
       " Prediction(uid='A3EBW8LLACU073', iid='B0006B486K', r_ui=5.0, est=4.050105373397964, details={'was_impossible': True, 'reason': 'User and/or item is unkown.'}),\n",
       " Prediction(uid='A3M7UZZQDPE0UG', iid='B00022OBO2', r_ui=1.0, est=4.050105373397964, details={'was_impossible': True, 'reason': 'User and/or item is unkown.'}),\n",
       " Prediction(uid='A260WFMQC1SXMX', iid='B00081NX5U', r_ui=5.0, est=4.327868852459017, details={'actual_k': 0, 'was_impossible': False}),\n",
       " Prediction(uid='A1JMG0CH7QQ0D9', iid='B0007VRPZA', r_ui=1.0, est=3.795454545454546, details={'actual_k': 1, 'was_impossible': False}),\n",
       " Prediction(uid='A3DLQ8WXBGFVWF', iid='B00006412G', r_ui=5.0, est=4.382716049382716, details={'actual_k': 0, 'was_impossible': False}),\n",
       " Prediction(uid='A1T6JTHPP3VPCG', iid='B000BDH2Y8', r_ui=4.0, est=4.0761421319796955, details={'actual_k': 0, 'was_impossible': False}),\n",
       " Prediction(uid='A1E31LPLZBVAGI', iid='B0002OF2FC', r_ui=5.0, est=3.677165354330709, details={'actual_k': 0, 'was_impossible': False}),\n",
       " Prediction(uid='A3G1LDGT74BCA7', iid='B0002IQ1I0', r_ui=5.0, est=4.050105373397964, details={'was_impossible': True, 'reason': 'User and/or item is unkown.'}),\n",
       " Prediction(uid='A2LEV99Z38YKEJ', iid='B00009WQS1', r_ui=1.0, est=4.050105373397964, details={'was_impossible': True, 'reason': 'User and/or item is unkown.'}),\n",
       " Prediction(uid='AX6NK8D5CFDR6', iid='B0000DHVOJ', r_ui=5.0, est=4.050105373397964, details={'was_impossible': True, 'reason': 'User and/or item is unkown.'}),\n",
       " Prediction(uid='A1F839SJQUOGB9', iid='B0009K9FZW', r_ui=5.0, est=4.163141993957704, details={'actual_k': 0, 'was_impossible': False}),\n",
       " Prediction(uid='AUFI651V6VOH0', iid='B0002AHT0M', r_ui=1.0, est=4.050105373397964, details={'was_impossible': True, 'reason': 'User and/or item is unkown.'}),\n",
       " Prediction(uid='A8WXLST0944GZ', iid='B000EVSLRO', r_ui=5.0, est=4.173151750972763, details={'actual_k': 0, 'was_impossible': False}),\n",
       " Prediction(uid='A2MLJ5V56ARI9U', iid='B000B9RI14', r_ui=5.0, est=4.050105373397964, details={'was_impossible': True, 'reason': 'User and/or item is unkown.'}),\n",
       " Prediction(uid='A2U6BA26J1G7FP', iid='B00005YXZE', r_ui=1.0, est=4.050105373397964, details={'was_impossible': True, 'reason': 'User and/or item is unkown.'}),\n",
       " Prediction(uid='A16XVWG0QNR5KN', iid='B000B9RI14', r_ui=5.0, est=4.050105373397964, details={'was_impossible': True, 'reason': 'User and/or item is unkown.'}),\n",
       " Prediction(uid='A1X9QU66J0QWJW', iid='B0008D5FRW', r_ui=5.0, est=4.050105373397964, details={'was_impossible': True, 'reason': 'User and/or item is unkown.'}),\n",
       " Prediction(uid='A14JP8KI4J1P1X', iid='B0006I09MK', r_ui=5.0, est=4.050105373397964, details={'was_impossible': True, 'reason': 'User and/or item is unkown.'}),\n",
       " Prediction(uid='A1MMH3KCTCT521', iid='B0006B088W', r_ui=4.0, est=4.050105373397964, details={'was_impossible': True, 'reason': 'User and/or item is unkown.'}),\n",
       " Prediction(uid='A6YVCP35SRGHS', iid='B0001A967W', r_ui=5.0, est=4.050105373397964, details={'was_impossible': True, 'reason': 'User and/or item is unkown.'}),\n",
       " Prediction(uid='A1A9JAT94V26OG', iid='B00005T3G0', r_ui=5.0, est=4.050105373397964, details={'was_impossible': True, 'reason': 'User and/or item is unkown.'}),\n",
       " Prediction(uid='A1YQQZ2K6L5LCM', iid='B0001EZN52', r_ui=4.0, est=4.050105373397964, details={'was_impossible': True, 'reason': 'User and/or item is unkown.'}),\n",
       " Prediction(uid='A18F20V24B5WLF', iid='B000F28DP2', r_ui=5.0, est=4.050105373397964, details={'was_impossible': True, 'reason': 'User and/or item is unkown.'}),\n",
       " Prediction(uid='A36J0VHZ1295R4', iid='B000HC8Q70', r_ui=5.0, est=4.3090909090909095, details={'actual_k': 0, 'was_impossible': False}),\n",
       " Prediction(uid='A2BJD2DIXCTRW', iid='B00081A2KY', r_ui=5.0, est=4.050105373397964, details={'was_impossible': True, 'reason': 'User and/or item is unkown.'}),\n",
       " Prediction(uid='A22LDVZWQ37ZW2', iid='B0007M3PKS', r_ui=2.0, est=4.050105373397964, details={'was_impossible': True, 'reason': 'User and/or item is unkown.'}),\n",
       " Prediction(uid='A3FA33RI6EGGUL', iid='B000H859RE', r_ui=1.0, est=3.3516483516483517, details={'actual_k': 0, 'was_impossible': False}),\n",
       " Prediction(uid='A2R6RA8FRBS608', iid='B000087NBU', r_ui=4.0, est=4.552631578947368, details={'actual_k': 0, 'was_impossible': False}),\n",
       " Prediction(uid='A368399LVJISFC', iid='B000EYRLXQ', r_ui=5.0, est=4.050105373397964, details={'was_impossible': True, 'reason': 'User and/or item is unkown.'}),\n",
       " Prediction(uid='A2ZDZQIIJWK15P', iid='B000HE6OAE', r_ui=5.0, est=4.050105373397964, details={'was_impossible': True, 'reason': 'User and/or item is unkown.'}),\n",
       " Prediction(uid='A32Q6GQHZYUZQR', iid='B00006BBAC', r_ui=3.0, est=4.050105373397964, details={'was_impossible': True, 'reason': 'User and/or item is unkown.'}),\n",
       " Prediction(uid='A3H7ADUP07D93H', iid='B0006HTZ76', r_ui=3.0, est=3.4423076923076925, details={'actual_k': 0, 'was_impossible': False}),\n",
       " Prediction(uid='A3EXI2ONDDLZ5O', iid='B000EVLS4C', r_ui=4.0, est=4.699282311908934, details={'actual_k': 3, 'was_impossible': False}),\n",
       " Prediction(uid='A1E66MQ8DX546L', iid='B00005NCWM', r_ui=4.0, est=3.844155844155844, details={'actual_k': 0, 'was_impossible': False}),\n",
       " Prediction(uid='A8SZ2NMYOU3L2', iid='B00003006K', r_ui=5.0, est=4.050105373397964, details={'was_impossible': True, 'reason': 'User and/or item is unkown.'}),\n",
       " Prediction(uid='A120IXHDWZLKRE', iid='B0001FTVEK', r_ui=5.0, est=4.050105373397964, details={'was_impossible': True, 'reason': 'User and/or item is unkown.'}),\n",
       " Prediction(uid='A2OCE7E781070D', iid='B0002D03ZW', r_ui=4.0, est=4.26161369193154, details={'actual_k': 0, 'was_impossible': False}),\n",
       " Prediction(uid='A104KDXA8NQOUV', iid='B00005ATMB', r_ui=4.0, est=4.050105373397964, details={'was_impossible': True, 'reason': 'User and/or item is unkown.'}),\n",
       " Prediction(uid='AWGI6LN06FQX7', iid='B0002YY9PG', r_ui=5.0, est=4.050105373397964, details={'was_impossible': True, 'reason': 'User and/or item is unkown.'}),\n",
       " Prediction(uid='AWYC9OV435J67', iid='B000BFNOT8', r_ui=1.0, est=4.050105373397964, details={'was_impossible': True, 'reason': 'User and/or item is unkown.'}),\n",
       " Prediction(uid='A11F4ZL0ODNZDW', iid='B000FMPGJ8', r_ui=4.0, est=4.050105373397964, details={'was_impossible': True, 'reason': 'User and/or item is unkown.'}),\n",
       " Prediction(uid='AJQRCNKQLHIBJ', iid='B000I6P1UA', r_ui=1.0, est=4.050105373397964, details={'was_impossible': True, 'reason': 'User and/or item is unkown.'}),\n",
       " Prediction(uid='A38RXEYY2KHLT0', iid='B000067S60', r_ui=5.0, est=5, details={'actual_k': 1, 'was_impossible': False}),\n",
       " Prediction(uid='A3MI46735OL7L', iid='B0000DZFVT', r_ui=3.0, est=4.050105373397964, details={'was_impossible': True, 'reason': 'User and/or item is unkown.'}),\n",
       " Prediction(uid='A2UGHHTJIF58SG', iid='B0000510ZO', r_ui=5.0, est=4.050105373397964, details={'was_impossible': True, 'reason': 'User and/or item is unkown.'}),\n",
       " Prediction(uid='A3OCJXHU1DK1GX', iid='B000066R6M', r_ui=4.0, est=4.050105373397964, details={'was_impossible': True, 'reason': 'User and/or item is unkown.'}),\n",
       " Prediction(uid='A8TVDM5E4481I', iid='B00009R6TA', r_ui=5.0, est=4.050105373397964, details={'was_impossible': True, 'reason': 'User and/or item is unkown.'}),\n",
       " Prediction(uid='A2IAOGHU1LIP5S', iid='B00022OBO2', r_ui=2.0, est=4.050105373397964, details={'was_impossible': True, 'reason': 'User and/or item is unkown.'}),\n",
       " Prediction(uid='A1XOWMKB1BFBAH', iid='B000BI7NHY', r_ui=1.0, est=4.050105373397964, details={'was_impossible': True, 'reason': 'User and/or item is unkown.'}),\n",
       " Prediction(uid='A24VQ2P3DS2V1K', iid='1400532655', r_ui=1.0, est=4.050105373397964, details={'was_impossible': True, 'reason': 'User and/or item is unkown.'}),\n",
       " Prediction(uid='A32U4SAYULLKZ', iid='B000F7857S', r_ui=5.0, est=3.5163934426229506, details={'actual_k': 0, 'was_impossible': False}),\n",
       " Prediction(uid='AI90NQAFHZ9ZO', iid='B000058BCQ', r_ui=4.0, est=4.050105373397964, details={'was_impossible': True, 'reason': 'User and/or item is unkown.'}),\n",
       " Prediction(uid='A2RGEO5S4OLS2Z', iid='B000HZ9CCA', r_ui=3.0, est=4.068403908794788, details={'actual_k': 0, 'was_impossible': False}),\n",
       " Prediction(uid='A2RMXOGA18ZOVD', iid='B0002L5R78', r_ui=4.0, est=4.050105373397964, details={'was_impossible': True, 'reason': 'User and/or item is unkown.'}),\n",
       " Prediction(uid='A3CNBWMK7WWIXV', iid='B000A6PPOK', r_ui=5.0, est=4.050105373397964, details={'was_impossible': True, 'reason': 'User and/or item is unkown.'}),\n",
       " Prediction(uid='A6NC9FJXK6D7S', iid='B00018Q4GA', r_ui=4.0, est=4.159090909090909, details={'actual_k': 0, 'was_impossible': False}),\n",
       " Prediction(uid='A1VXFBN7ID57F2', iid='B00006HYPV', r_ui=5.0, est=4.050105373397964, details={'was_impossible': True, 'reason': 'User and/or item is unkown.'}),\n",
       " Prediction(uid='A1EVAEA5KWWAKI', iid='B00009R6TA', r_ui=5.0, est=4.050105373397964, details={'was_impossible': True, 'reason': 'User and/or item is unkown.'}),\n",
       " Prediction(uid='ALJWAR9SZMP4S', iid='B0002855KK', r_ui=5.0, est=4.050105373397964, details={'was_impossible': True, 'reason': 'User and/or item is unkown.'}),\n",
       " Prediction(uid='A12QFTYDRN3EYM', iid='B0000DZEZB', r_ui=5.0, est=4.050105373397964, details={'was_impossible': True, 'reason': 'User and/or item is unkown.'}),\n",
       " Prediction(uid='A2NEBYNQ2B5T4U', iid='B00005T39Y', r_ui=5.0, est=4.050105373397964, details={'was_impossible': True, 'reason': 'User and/or item is unkown.'}),\n",
       " Prediction(uid='A1ITXFX7GG8I60', iid='B0009YJXMS', r_ui=5.0, est=4.914843525696239, details={'actual_k': 1, 'was_impossible': False}),\n",
       " Prediction(uid='A321UWX6A3K66B', iid='B00004TS16', r_ui=5.0, est=4.530769230769231, details={'actual_k': 0, 'was_impossible': False}),\n",
       " Prediction(uid='A2KPWSYOB5R5ZI', iid='B000FKP7TY', r_ui=3.0, est=4.050105373397964, details={'was_impossible': True, 'reason': 'User and/or item is unkown.'}),\n",
       " Prediction(uid='A2S438IU674NZB', iid='B00006IRS3', r_ui=5.0, est=4.050105373397964, details={'was_impossible': True, 'reason': 'User and/or item is unkown.'}),\n",
       " Prediction(uid='AHFCU6XDM08GD', iid='B0002MQGOK', r_ui=5.0, est=4.050105373397964, details={'was_impossible': True, 'reason': 'User and/or item is unkown.'}),\n",
       " Prediction(uid='A29XFUPL4QT1OR', iid='B0007U9SOC', r_ui=4.0, est=4.050105373397964, details={'was_impossible': True, 'reason': 'User and/or item is unkown.'}),\n",
       " Prediction(uid='A77H5GNRWHQ6D', iid='B000AAM1XO', r_ui=5.0, est=4.050105373397964, details={'was_impossible': True, 'reason': 'User and/or item is unkown.'}),\n",
       " Prediction(uid='A2PALJ65XH83QM', iid='B00012F6A6', r_ui=5.0, est=4.050105373397964, details={'was_impossible': True, 'reason': 'User and/or item is unkown.'}),\n",
       " Prediction(uid='A2YJDAPA4D803M', iid='B0006GCCWW', r_ui=5.0, est=4.44, details={'actual_k': 0, 'was_impossible': False}),\n",
       " Prediction(uid='A1HTJGF0W3STML', iid='B000BMXJR8', r_ui=3.0, est=4.050105373397964, details={'was_impossible': True, 'reason': 'User and/or item is unkown.'}),\n",
       " Prediction(uid='AHSCVPDBG2JDA', iid='B0006DPMU4', r_ui=5.0, est=4.050105373397964, details={'was_impossible': True, 'reason': 'User and/or item is unkown.'}),\n",
       " Prediction(uid='AO4N4DHEQKPML', iid='B0007MWE1E', r_ui=5.0, est=4.050105373397964, details={'was_impossible': True, 'reason': 'User and/or item is unkown.'}),\n",
       " Prediction(uid='A3DNMHOFD84KFP', iid='B000H12VI6', r_ui=4.0, est=4.050105373397964, details={'was_impossible': True, 'reason': 'User and/or item is unkown.'}),\n",
       " Prediction(uid='A16JUH39HXQA9Y', iid='B000BP50AY', r_ui=5.0, est=4.050105373397964, details={'was_impossible': True, 'reason': 'User and/or item is unkown.'}),\n",
       " Prediction(uid='A2MPZCKWKYKLOW', iid='B00009R6TA', r_ui=5.0, est=4.050105373397964, details={'was_impossible': True, 'reason': 'User and/or item is unkown.'}),\n",
       " Prediction(uid='A24QNC39YHAF8U', iid='B0002L5R78', r_ui=5.0, est=4.050105373397964, details={'was_impossible': True, 'reason': 'User and/or item is unkown.'}),\n",
       " Prediction(uid='A1KXJCXS6HFRQZ', iid='B000F1O0X2', r_ui=5.0, est=4.258426966292135, details={'actual_k': 0, 'was_impossible': False}),\n",
       " Prediction(uid='A20M1X21OMP79E', iid='B000EUGX70', r_ui=5.0, est=4.050105373397964, details={'was_impossible': True, 'reason': 'User and/or item is unkown.'}),\n",
       " Prediction(uid='AL6I0HX5FDCDQ', iid='B00009LI55', r_ui=4.0, est=4.050105373397964, details={'was_impossible': True, 'reason': 'User and/or item is unkown.'}),\n",
       " Prediction(uid='A11ZSVQGNB0LGF', iid='B0009Q4UBK', r_ui=5.0, est=4.180555555555555, details={'actual_k': 0, 'was_impossible': False}),\n",
       " Prediction(uid='A14OEAZ9P9Y9LW', iid='B00009KH63', r_ui=5.0, est=3.9987325728770595, details={'actual_k': 0, 'was_impossible': False}),\n",
       " Prediction(uid='A29V754TP68LZL', iid='B00064X4QM', r_ui=5.0, est=4.190042075736326, details={'actual_k': 1, 'was_impossible': False}),\n",
       " Prediction(uid='A3FIBEGHD55M5I', iid='B0001FTVEK', r_ui=5.0, est=4.050105373397964, details={'was_impossible': True, 'reason': 'User and/or item is unkown.'}),\n",
       " Prediction(uid='A348WBVA0S0Q9Y', iid='B000GK8LVE', r_ui=4.0, est=4.050105373397964, details={'was_impossible': True, 'reason': 'User and/or item is unkown.'}),\n",
       " Prediction(uid='AYQOTZF3SJJEA', iid='B000I3XIEE', r_ui=5.0, est=4.050105373397964, details={'was_impossible': True, 'reason': 'User and/or item is unkown.'}),\n",
       " Prediction(uid='A3A3PBSVKLQSPK', iid='B00006HYPV', r_ui=5.0, est=4.050105373397964, details={'was_impossible': True, 'reason': 'User and/or item is unkown.'}),\n",
       " Prediction(uid='A3AYR8596N5AKU', iid='B0007NWL70', r_ui=4.0, est=4.050105373397964, details={'was_impossible': True, 'reason': 'User and/or item is unkown.'}),\n",
       " Prediction(uid='A32X7BIJSA8P5A', iid='B000HZDF8W', r_ui=5.0, est=4.050105373397964, details={'was_impossible': True, 'reason': 'User and/or item is unkown.'}),\n",
       " Prediction(uid='AB9W57P9UGQA9', iid='B000092YQW', r_ui=5.0, est=4.050105373397964, details={'was_impossible': True, 'reason': 'User and/or item is unkown.'}),\n",
       " Prediction(uid='AU28QZ8TC7TI3', iid='B000EXS1BS', r_ui=5.0, est=4.050105373397964, details={'was_impossible': True, 'reason': 'User and/or item is unkown.'}),\n",
       " Prediction(uid='A12BUKR6ZSOMXT', iid='B000EOMXM0', r_ui=3.0, est=4.478048780487805, details={'actual_k': 0, 'was_impossible': False}),\n",
       " Prediction(uid='A1ZO08AT2NP1B0', iid='B0001FTVEK', r_ui=2.0, est=4.050105373397964, details={'was_impossible': True, 'reason': 'User and/or item is unkown.'}),\n",
       " Prediction(uid='A2TGFXEPTH9GSL', iid='B000CKVOOY', r_ui=4.0, est=4.050105373397964, details={'was_impossible': True, 'reason': 'User and/or item is unkown.'}),\n",
       " Prediction(uid='A3FOUTGYV8E2BG', iid='B000BP8AY2', r_ui=4.0, est=4.050105373397964, details={'was_impossible': True, 'reason': 'User and/or item is unkown.'}),\n",
       " Prediction(uid='A36S82L04X6RZU', iid='B000EN81ZE', r_ui=4.0, est=4.050105373397964, details={'was_impossible': True, 'reason': 'User and/or item is unkown.'}),\n",
       " Prediction(uid='AM4SZXB9RWFH4', iid='B00007LTBA', r_ui=5.0, est=4.050105373397964, details={'was_impossible': True, 'reason': 'User and/or item is unkown.'}),\n",
       " Prediction(uid='A1IQUAUSHJPFUC', iid='B00006JQ06', r_ui=5.0, est=4.217257318952234, details={'actual_k': 0, 'was_impossible': False}),\n",
       " Prediction(uid='A144QL6NC4AW3Z', iid='B000FDOWQK', r_ui=5.0, est=3.129032258064516, details={'actual_k': 0, 'was_impossible': False}),\n",
       " Prediction(uid='A2Q7M0MYMB9RRJ', iid='B0009VKJH4', r_ui=1.0, est=4.050105373397964, details={'was_impossible': True, 'reason': 'User and/or item is unkown.'}),\n",
       " Prediction(uid='A3KQV7PMPACGMK', iid='B0000C0XS0', r_ui=5.0, est=4.050105373397964, details={'was_impossible': True, 'reason': 'User and/or item is unkown.'}),\n",
       " Prediction(uid='AGCAGB13VVRE0', iid='B000HDJT4S', r_ui=4.0, est=4.050105373397964, details={'was_impossible': True, 'reason': 'User and/or item is unkown.'}),\n",
       " Prediction(uid='A36PWQU9Z1IN1A', iid='B00020H1TG', r_ui=5.0, est=4.050105373397964, details={'was_impossible': True, 'reason': 'User and/or item is unkown.'}),\n",
       " Prediction(uid='A1COTC1X2WAGB0', iid='B00006JN3G', r_ui=4.0, est=4.050105373397964, details={'was_impossible': True, 'reason': 'User and/or item is unkown.'}),\n",
       " Prediction(uid='A1MVPVKACK6K7B', iid='B0002ZW5W4', r_ui=5.0, est=3.9094292803970223, details={'actual_k': 0, 'was_impossible': False}),\n",
       " Prediction(uid='A3HHGNZ37O35ZY', iid='B000F007K8', r_ui=4.0, est=4.050105373397964, details={'was_impossible': True, 'reason': 'User and/or item is unkown.'}),\n",
       " Prediction(uid='AS3RZOSU1T18T', iid='B00007AKDL', r_ui=5.0, est=4.050105373397964, details={'was_impossible': True, 'reason': 'User and/or item is unkown.'}),\n",
       " Prediction(uid='A16IIML37LKCTV', iid='B0002M0Q1E', r_ui=5.0, est=4.050105373397964, details={'was_impossible': True, 'reason': 'User and/or item is unkown.'}),\n",
       " Prediction(uid='A6OFZ076OQ9CM', iid='B0002BRMNA', r_ui=5.0, est=4.050105373397964, details={'was_impossible': True, 'reason': 'User and/or item is unkown.'}),\n",
       " Prediction(uid='A254ZJ2ATP0IP6', iid='B000F28DP2', r_ui=5.0, est=4.38833746898263, details={'actual_k': 0, 'was_impossible': False}),\n",
       " Prediction(uid='A2FI0KJL5HHEKU', iid='B0000BYRIN', r_ui=5.0, est=4.050105373397964, details={'was_impossible': True, 'reason': 'User and/or item is unkown.'}),\n",
       " Prediction(uid='AAJGG6HSSJZNF', iid='B00008SCFL', r_ui=5.0, est=3.205983889528193, details={'actual_k': 0, 'was_impossible': False}),\n",
       " Prediction(uid='A30M8R4T8LXEVU', iid='B00004Y3UY', r_ui=5.0, est=4.520833333333333, details={'actual_k': 0, 'was_impossible': False}),\n",
       " Prediction(uid='A1ZYF0DP17PG9Q', iid='B000HP3IS4', r_ui=5.0, est=3.606060606060606, details={'actual_k': 0, 'was_impossible': False}),\n",
       " Prediction(uid='A2XMXUBHNE9TND', iid='B0000642RX', r_ui=4.0, est=4.050105373397964, details={'was_impossible': True, 'reason': 'User and/or item is unkown.'}),\n",
       " Prediction(uid='A2K1RE0L37YDND', iid='B00005Q4ZV', r_ui=1.0, est=4.050105373397964, details={'was_impossible': True, 'reason': 'User and/or item is unkown.'}),\n",
       " Prediction(uid='A22XNLKF7XOGU2', iid='B00009R94Q', r_ui=5.0, est=4.310077519379845, details={'actual_k': 0, 'was_impossible': False}),\n",
       " Prediction(uid='A25P593LUL5U2P', iid='B00009VQJZ', r_ui=5.0, est=4.050105373397964, details={'was_impossible': True, 'reason': 'User and/or item is unkown.'}),\n",
       " Prediction(uid='A3BHX7QHXA3HMV', iid='B0007R4LI8', r_ui=5.0, est=4.050105373397964, details={'was_impossible': True, 'reason': 'User and/or item is unkown.'}),\n",
       " Prediction(uid='A29B0LYFQTNYH6', iid='B000E8X5Z0', r_ui=5.0, est=4.050105373397964, details={'was_impossible': True, 'reason': 'User and/or item is unkown.'}),\n",
       " Prediction(uid='A2Q2KUXZ1BEX9F', iid='B0007VMROE', r_ui=5.0, est=4.050105373397964, details={'was_impossible': True, 'reason': 'User and/or item is unkown.'}),\n",
       " Prediction(uid='A2CY2JU34II126', iid='B000CQ73PW', r_ui=5.0, est=4.050105373397964, details={'was_impossible': True, 'reason': 'User and/or item is unkown.'}),\n",
       " Prediction(uid='A2QM6BPA3MO462', iid='B000EF3D4Q', r_ui=4.0, est=4.050105373397964, details={'was_impossible': True, 'reason': 'User and/or item is unkown.'}),\n",
       " Prediction(uid='A3CETDX5A13R36', iid='B0006VYGRG', r_ui=3.0, est=4.050105373397964, details={'was_impossible': True, 'reason': 'User and/or item is unkown.'}),\n",
       " Prediction(uid='A1DH3QDZX8Z7GO', iid='B00005T3N0', r_ui=5.0, est=4.130434782608695, details={'actual_k': 0, 'was_impossible': False}),\n",
       " Prediction(uid='A31VENV9V0MUDT', iid='B000CH3IIW', r_ui=5.0, est=4.050105373397964, details={'was_impossible': True, 'reason': 'User and/or item is unkown.'}),\n",
       " Prediction(uid='A21FT86WW7RPNX', iid='B0001DYXOU', r_ui=2.0, est=4.050105373397964, details={'was_impossible': True, 'reason': 'User and/or item is unkown.'}),\n",
       " Prediction(uid='A2Q6KMIMN6TXXE', iid='B00006HZ0L', r_ui=5.0, est=4.050105373397964, details={'was_impossible': True, 'reason': 'User and/or item is unkown.'}),\n",
       " Prediction(uid='A1ESY41I7CG2LW', iid='B0000658CE', r_ui=3.0, est=4.050105373397964, details={'was_impossible': True, 'reason': 'User and/or item is unkown.'}),\n",
       " Prediction(uid='A3V5F050GVZ56Q', iid='B000I1X6PM', r_ui=1.0, est=3.456896551724138, details={'actual_k': 0, 'was_impossible': False}),\n",
       " Prediction(uid='A3T8J6ZK2LAUGI', iid='B0002A4M4I', r_ui=5.0, est=4.050105373397964, details={'was_impossible': True, 'reason': 'User and/or item is unkown.'}),\n",
       " Prediction(uid='A3F3NGCBWVW7VD', iid='B000A5TAT2', r_ui=5.0, est=4.050105373397964, details={'was_impossible': True, 'reason': 'User and/or item is unkown.'}),\n",
       " Prediction(uid='A1Y1R4SJAOA5JI', iid='B00008NJEP', r_ui=4.0, est=4.050105373397964, details={'was_impossible': True, 'reason': 'User and/or item is unkown.'}),\n",
       " Prediction(uid='A1S293S0G0UXLI', iid='B00065H0QQ', r_ui=4.0, est=4.050105373397964, details={'was_impossible': True, 'reason': 'User and/or item is unkown.'}),\n",
       " Prediction(uid='AE55ZYNOXOERC', iid='B00003006E', r_ui=4.0, est=4.346666666666667, details={'actual_k': 0, 'was_impossible': False}),\n",
       " Prediction(uid='A1LXR1Q2QZJA24', iid='B000652M6Y', r_ui=5.0, est=4.050105373397964, details={'was_impossible': True, 'reason': 'User and/or item is unkown.'}),\n",
       " Prediction(uid='A22LTF11NNV730', iid='B000B63KSM', r_ui=5.0, est=4.050105373397964, details={'was_impossible': True, 'reason': 'User and/or item is unkown.'}),\n",
       " Prediction(uid='A2UZCKBEWOLE4E', iid='B00009W3TY', r_ui=4.0, est=4.050105373397964, details={'was_impossible': True, 'reason': 'User and/or item is unkown.'}),\n",
       " Prediction(uid='A22IDP8YERZ79X', iid='B00001P4ZH', r_ui=5.0, est=4.472222222222222, details={'actual_k': 0, 'was_impossible': False}),\n",
       " Prediction(uid='A3FOFTWG3FNWI7', iid='B000FHFPHG', r_ui=4.0, est=4.050105373397964, details={'was_impossible': True, 'reason': 'User and/or item is unkown.'}),\n",
       " Prediction(uid='A3FQSYRHBRF09K', iid='B00009R6WO', r_ui=5.0, est=4.050105373397964, details={'was_impossible': True, 'reason': 'User and/or item is unkown.'}),\n",
       " Prediction(uid='A20GZFBHU4Y3NB', iid='B000BNY64C', r_ui=5.0, est=4.685714285714286, details={'actual_k': 0, 'was_impossible': False}),\n",
       " Prediction(uid='A30M16A7MY5YH6', iid='B0002LEMWE', r_ui=5.0, est=4.050105373397964, details={'was_impossible': True, 'reason': 'User and/or item is unkown.'}),\n",
       " Prediction(uid='AE5O47T8CPU35', iid='B000BKICZY', r_ui=4.0, est=3.706896551724138, details={'actual_k': 0, 'was_impossible': False}),\n",
       " Prediction(uid='A2PVSILOPCDJL2', iid='B000B622CW', r_ui=1.0, est=4.050105373397964, details={'was_impossible': True, 'reason': 'User and/or item is unkown.'}),\n",
       " Prediction(uid='AWIIDKKH1K2AM', iid='B000AZ57M6', r_ui=1.0, est=5, details={'actual_k': 1, 'was_impossible': False}),\n",
       " Prediction(uid='A1YO9YJAF1UNAO', iid='B00020S7XK', r_ui=5.0, est=4.050105373397964, details={'was_impossible': True, 'reason': 'User and/or item is unkown.'}),\n",
       " Prediction(uid='A3UWCD7WYGKVU1', iid='B00005T3VT', r_ui=4.0, est=4.050105373397964, details={'was_impossible': True, 'reason': 'User and/or item is unkown.'}),\n",
       " Prediction(uid='A31SSI327K3P41', iid='B00005T39Y', r_ui=5.0, est=4.050105373397964, details={'was_impossible': True, 'reason': 'User and/or item is unkown.'}),\n",
       " Prediction(uid='A22PHBWO4LWILF', iid='B0000UXOHG', r_ui=5.0, est=4.050105373397964, details={'was_impossible': True, 'reason': 'User and/or item is unkown.'}),\n",
       " Prediction(uid='A2TX6UGBIPMIB4', iid='B000A6PPOK', r_ui=5.0, est=1, details={'actual_k': 1, 'was_impossible': False}),\n",
       " Prediction(uid='A3M48WAMSNYFGF', iid='B0000AZK27', r_ui=4.0, est=4.050105373397964, details={'was_impossible': True, 'reason': 'User and/or item is unkown.'}),\n",
       " Prediction(uid='AROGQ7FNOKEFN', iid='B000F0DUT8', r_ui=5.0, est=4.050105373397964, details={'was_impossible': True, 'reason': 'User and/or item is unkown.'}),\n",
       " Prediction(uid='A1U6BXB89VDHLQ', iid='B000F3PBG0', r_ui=5.0, est=4.181818181818182, details={'actual_k': 0, 'was_impossible': False}),\n",
       " Prediction(uid='A1XZRI9693K0N5', iid='B0001FTVDQ', r_ui=5.0, est=5, details={'actual_k': 1, 'was_impossible': False}),\n",
       " Prediction(uid='A2DRO0LXVNONQZ', iid='B000089GN3', r_ui=5.0, est=4.050105373397964, details={'was_impossible': True, 'reason': 'User and/or item is unkown.'}),\n",
       " Prediction(uid='A3UVQQDD2GA1NE', iid='B000GVTX6U', r_ui=1.0, est=3.161290322580645, details={'actual_k': 0, 'was_impossible': False}),\n",
       " Prediction(uid='A1KXJCXS6HFRQZ', iid='B0002L5R78', r_ui=3.0, est=4.208289150135232, details={'actual_k': 2, 'was_impossible': False}),\n",
       " Prediction(uid='A1SBLLUNN8JGRL', iid='B000FTLOL0', r_ui=1.0, est=4.050105373397964, details={'was_impossible': True, 'reason': 'User and/or item is unkown.'}),\n",
       " Prediction(uid='A2VLGHG5DIYZCM', iid='B000H6AY6M', r_ui=3.0, est=4.050105373397964, details={'was_impossible': True, 'reason': 'User and/or item is unkown.'}),\n",
       " Prediction(uid='A3LIRKSHS4F9SV', iid='B0002L5R78', r_ui=5.0, est=4.050105373397964, details={'was_impossible': True, 'reason': 'User and/or item is unkown.'}),\n",
       " Prediction(uid='A3CR4C2UVUVNYY', iid='B0000A1VS3', r_ui=2.0, est=4.050105373397964, details={'was_impossible': True, 'reason': 'User and/or item is unkown.'}),\n",
       " Prediction(uid='A2SPHWZWS6HGPJ', iid='B000058E2B', r_ui=4.0, est=4.236111111111111, details={'actual_k': 0, 'was_impossible': False}),\n",
       " Prediction(uid='A3KSVX5QL3SCV', iid='B0002L5R78', r_ui=5.0, est=4.050105373397964, details={'was_impossible': True, 'reason': 'User and/or item is unkown.'}),\n",
       " Prediction(uid='AMPV2QQJFW6HJ', iid='B00004Z5VS', r_ui=5.0, est=4.050105373397964, details={'was_impossible': True, 'reason': 'User and/or item is unkown.'}),\n",
       " Prediction(uid='A38XIYGVCAX6UI', iid='B00080CM30', r_ui=5.0, est=4.803030303030303, details={'actual_k': 0, 'was_impossible': False}),\n",
       " Prediction(uid='A2F6V1AZHXKGWI', iid='B0002ZAIM8', r_ui=5.0, est=4.050105373397964, details={'was_impossible': True, 'reason': 'User and/or item is unkown.'}),\n",
       " Prediction(uid='ACKRKMDNKLJV', iid='B000HVHGI6', r_ui=4.0, est=4.050105373397964, details={'was_impossible': True, 'reason': 'User and/or item is unkown.'}),\n",
       " Prediction(uid='A32H8H1PC8W81D', iid='B00007IFED', r_ui=1.0, est=4.050105373397964, details={'was_impossible': True, 'reason': 'User and/or item is unkown.'}),\n",
       " Prediction(uid='A34TC14MCJXDK7', iid='B00002SWUE', r_ui=5.0, est=4.050105373397964, details={'was_impossible': True, 'reason': 'User and/or item is unkown.'}),\n",
       " Prediction(uid='A3M5ZNPJ00WCF7', iid='B0002ZPF6W', r_ui=1.0, est=3.0, details={'actual_k': 0, 'was_impossible': False}),\n",
       " Prediction(uid='A3I767K76YIFJQ', iid='B000EYRLXQ', r_ui=2.0, est=4.050105373397964, details={'was_impossible': True, 'reason': 'User and/or item is unkown.'}),\n",
       " Prediction(uid='A26FV4F0F0WF44', iid='B000BQ7GW8', r_ui=3.0, est=4.050105373397964, details={'was_impossible': True, 'reason': 'User and/or item is unkown.'}),\n",
       " Prediction(uid='A1NU446IUKZAG8', iid='B0002MQGOA', r_ui=4.0, est=4.050105373397964, details={'was_impossible': True, 'reason': 'User and/or item is unkown.'}),\n",
       " Prediction(uid='AVY535P74UNHO', iid='B0000A1VS3', r_ui=1.0, est=4.050105373397964, details={'was_impossible': True, 'reason': 'User and/or item is unkown.'}),\n",
       " Prediction(uid='A1O1EKKR970GP4', iid='B0000645RH', r_ui=1.0, est=4.050105373397964, details={'was_impossible': True, 'reason': 'User and/or item is unkown.'}),\n",
       " Prediction(uid='A2MES38W17ZV9D', iid='B00004WCGF', r_ui=5.0, est=4.050105373397964, details={'was_impossible': True, 'reason': 'User and/or item is unkown.'}),\n",
       " Prediction(uid='A3AFME9HB1EJOX', iid='B0002YE6G8', r_ui=5.0, est=4.050105373397964, details={'was_impossible': True, 'reason': 'User and/or item is unkown.'}),\n",
       " Prediction(uid='A2TVARJYQJD6HA', iid='B0002SQ2P2', r_ui=5.0, est=5, details={'actual_k': 2, 'was_impossible': False}),\n",
       " Prediction(uid='A24CM25AE5TWTI', iid='B00006B8K2', r_ui=1.0, est=4.050105373397964, details={'was_impossible': True, 'reason': 'User and/or item is unkown.'}),\n",
       " Prediction(uid='A14XHCO44SHNUX', iid='B000BR3OHI', r_ui=5.0, est=4.050105373397964, details={'was_impossible': True, 'reason': 'User and/or item is unkown.'}),\n",
       " Prediction(uid='AINNBQ3DYG1Y2', iid='B000F28DP2', r_ui=4.0, est=4.050105373397964, details={'was_impossible': True, 'reason': 'User and/or item is unkown.'}),\n",
       " Prediction(uid='A3KK4HQM3Q9DY3', iid='B0007N55PA', r_ui=2.0, est=4.395348837209302, details={'actual_k': 0, 'was_impossible': False}),\n",
       " Prediction(uid='A3GP4WVEMBPJXK', iid='B00009R6UU', r_ui=4.0, est=4.542521994134897, details={'actual_k': 1, 'was_impossible': False}),\n",
       " Prediction(uid='A78WCPGC84X2X', iid='B0007MWE28', r_ui=5.0, est=4.050105373397964, details={'was_impossible': True, 'reason': 'User and/or item is unkown.'}),\n",
       " Prediction(uid='A6QVOUYFGYAFH', iid='B00006JPKE', r_ui=1.0, est=3.3454545454545452, details={'actual_k': 0, 'was_impossible': False}),\n",
       " Prediction(uid='A1VVGHEE5CM1LE', iid='B000AJIF4E', r_ui=4.0, est=4.050105373397964, details={'was_impossible': True, 'reason': 'User and/or item is unkown.'}),\n",
       " Prediction(uid='A2KDJPCQWT6FF', iid='B00000JBAT', r_ui=5.0, est=4.050105373397964, details={'was_impossible': True, 'reason': 'User and/or item is unkown.'}),\n",
       " Prediction(uid='A1SPH5XHWNUO5S', iid='B00005ATMB', r_ui=5.0, est=4.354399008674101, details={'actual_k': 0, 'was_impossible': False}),\n",
       " Prediction(uid='A36MH93NC7VYHV', iid='B000F7857S', r_ui=5.0, est=4.050105373397964, details={'was_impossible': True, 'reason': 'User and/or item is unkown.'}),\n",
       " Prediction(uid='A1SIS556DJABXR', iid='B000BKBYY0', r_ui=5.0, est=4.050105373397964, details={'was_impossible': True, 'reason': 'User and/or item is unkown.'}),\n",
       " Prediction(uid='A2K7GZRL7EZVBZ', iid='B00067TMGA', r_ui=3.0, est=4.050105373397964, details={'was_impossible': True, 'reason': 'User and/or item is unkown.'}),\n",
       " Prediction(uid='A189F1K0BHVMBB', iid='B00005TQ08', r_ui=5.0, est=4.050105373397964, details={'was_impossible': True, 'reason': 'User and/or item is unkown.'}),\n",
       " Prediction(uid='A9L34455SL55M', iid='B00007EDM8', r_ui=5.0, est=4.050105373397964, details={'was_impossible': True, 'reason': 'User and/or item is unkown.'}),\n",
       " Prediction(uid='A2P070E5ZDEP4Q', iid='B000H312RK', r_ui=5.0, est=4.050105373397964, details={'was_impossible': True, 'reason': 'User and/or item is unkown.'}),\n",
       " Prediction(uid='A17TAG48PVWT16', iid='B000F2KUK8', r_ui=4.0, est=4.050105373397964, details={'was_impossible': True, 'reason': 'User and/or item is unkown.'}),\n",
       " Prediction(uid='A12D1N2BWFL9ZM', iid='B00012EYNG', r_ui=5.0, est=4.050105373397964, details={'was_impossible': True, 'reason': 'User and/or item is unkown.'}),\n",
       " Prediction(uid='A2G4IVBF7IKPZH', iid='B00005ARK3', r_ui=5.0, est=4.050105373397964, details={'was_impossible': True, 'reason': 'User and/or item is unkown.'}),\n",
       " Prediction(uid='A1FSMTUCATYLJW', iid='B0006GCCO0', r_ui=5.0, est=3.8202320696897702, details={'actual_k': 1, 'was_impossible': False}),\n",
       " Prediction(uid='A1L9ME91JY6V37', iid='B000BV8604', r_ui=1.0, est=4.050105373397964, details={'was_impossible': True, 'reason': 'User and/or item is unkown.'}),\n",
       " Prediction(uid='A26TWEWE7X9WIS', iid='B00028OP2Y', r_ui=5.0, est=4.674698795180723, details={'actual_k': 0, 'was_impossible': False}),\n",
       " Prediction(uid='A1IGDASTK7KMZO', iid='B0007MXZB2', r_ui=2.0, est=4.050105373397964, details={'was_impossible': True, 'reason': 'User and/or item is unkown.'}),\n",
       " Prediction(uid='A27TP9YEIBOURS', iid='B000CSOXTO', r_ui=5.0, est=4.050105373397964, details={'was_impossible': True, 'reason': 'User and/or item is unkown.'}),\n",
       " Prediction(uid='A29T08Y1IXKUKG', iid='B000062VUO', r_ui=1.0, est=4.050105373397964, details={'was_impossible': True, 'reason': 'User and/or item is unkown.'}),\n",
       " Prediction(uid='A3U75OQGO4589V', iid='B000A6PPOK', r_ui=5.0, est=4.050105373397964, details={'was_impossible': True, 'reason': 'User and/or item is unkown.'}),\n",
       " Prediction(uid='A7DGB35U3DLU6', iid='B0001BXVA4', r_ui=5.0, est=2.926829268292683, details={'actual_k': 0, 'was_impossible': False}),\n",
       " Prediction(uid='A36N4VG8ZTJTXT', iid='B0006ON0QQ', r_ui=5.0, est=4.050105373397964, details={'was_impossible': True, 'reason': 'User and/or item is unkown.'}),\n",
       " Prediction(uid='A2J6SR4LK01WVI', iid='B000HCGAFK', r_ui=5.0, est=4.050105373397964, details={'was_impossible': True, 'reason': 'User and/or item is unkown.'}),\n",
       " Prediction(uid='A19G5WWF1OKL7', iid='B000089GN4', r_ui=5.0, est=4.050105373397964, details={'was_impossible': True, 'reason': 'User and/or item is unkown.'}),\n",
       " Prediction(uid='A2D59KBT80LZ7L', iid='B000066R6M', r_ui=5.0, est=4.015748031496063, details={'actual_k': 0, 'was_impossible': False}),\n",
       " Prediction(uid='A1E4AM6P96AZGY', iid='B00009R9A1', r_ui=4.0, est=4.050105373397964, details={'was_impossible': True, 'reason': 'User and/or item is unkown.'}),\n",
       " Prediction(uid='A10617JO68KVFC', iid='B000HKGK8Y', r_ui=1.0, est=1.3906865002609683, details={'actual_k': 1, 'was_impossible': False}),\n",
       " Prediction(uid='AMB6OQ0L5CP89', iid='B000I68BD4', r_ui=4.0, est=4.050105373397964, details={'was_impossible': True, 'reason': 'User and/or item is unkown.'}),\n",
       " Prediction(uid='A2AJ41VX5NDSLI', iid='B00009UT9B', r_ui=5.0, est=4.050105373397964, details={'was_impossible': True, 'reason': 'User and/or item is unkown.'}),\n",
       " Prediction(uid='A38D36K7RZD4CF', iid='B00023C6SE', r_ui=5.0, est=4.050105373397964, details={'was_impossible': True, 'reason': 'User and/or item is unkown.'}),\n",
       " Prediction(uid='A2CY5MIWTP7XPC', iid='B00009KH63', r_ui=3.0, est=4.050105373397964, details={'was_impossible': True, 'reason': 'User and/or item is unkown.'}),\n",
       " Prediction(uid='A1OLHLCS7N43IR', iid='B00001P4ZH', r_ui=4.0, est=4.050105373397964, details={'was_impossible': True, 'reason': 'User and/or item is unkown.'}),\n",
       " Prediction(uid='A13LFYMZ300K69', iid='B0009N5MCY', r_ui=5.0, est=4.451882845188284, details={'actual_k': 0, 'was_impossible': False}),\n",
       " Prediction(uid='A2K9E1JBKATL10', iid='B00009R6V0', r_ui=4.0, est=4.5514018691588785, details={'actual_k': 0, 'was_impossible': False}),\n",
       " Prediction(uid='AIAPK5B4YUCF7', iid='B00003WGP5', r_ui=5.0, est=4.050105373397964, details={'was_impossible': True, 'reason': 'User and/or item is unkown.'}),\n",
       " Prediction(uid='A3Q8VY068Y5O79', iid='B0001FTVEK', r_ui=5.0, est=4.050105373397964, details={'was_impossible': True, 'reason': 'User and/or item is unkown.'}),\n",
       " Prediction(uid='A28ZTOSAAUTI1E', iid='B0006DPMU4', r_ui=2.0, est=4.050105373397964, details={'was_impossible': True, 'reason': 'User and/or item is unkown.'}),\n",
       " Prediction(uid='A2M775WAM2DXTD', iid='B000F28DP2', r_ui=5.0, est=4.38833746898263, details={'actual_k': 0, 'was_impossible': False}),\n",
       " Prediction(uid='A2KL91N87MYQW9', iid='B00005U23R', r_ui=2.0, est=4.050105373397964, details={'was_impossible': True, 'reason': 'User and/or item is unkown.'}),\n",
       " Prediction(uid='A2YM47RBZPA2CP', iid='B00005853Z', r_ui=5.0, est=4.050105373397964, details={'was_impossible': True, 'reason': 'User and/or item is unkown.'}),\n",
       " Prediction(uid='A2MZU7K5R8G4F2', iid='B00006I5SQ', r_ui=4.0, est=4.050105373397964, details={'was_impossible': True, 'reason': 'User and/or item is unkown.'}),\n",
       " Prediction(uid='A1C82S9IYXSHJD', iid='B000065BPB', r_ui=5.0, est=4.050105373397964, details={'was_impossible': True, 'reason': 'User and/or item is unkown.'}),\n",
       " Prediction(uid='A4QEXAGYZAMUI', iid='B00008OE46', r_ui=5.0, est=4.050105373397964, details={'was_impossible': True, 'reason': 'User and/or item is unkown.'}),\n",
       " Prediction(uid='AR9I9VV1UM0AX', iid='B0000513O4', r_ui=5.0, est=4.780701754385965, details={'actual_k': 0, 'was_impossible': False}),\n",
       " Prediction(uid='AT3WTTVOV39AF', iid='B00007EDM8', r_ui=2.0, est=4.050105373397964, details={'was_impossible': True, 'reason': 'User and/or item is unkown.'}),\n",
       " Prediction(uid='A37MH7ICH80QOX', iid='B000BQ7GW8', r_ui=4.0, est=5, details={'actual_k': 1, 'was_impossible': False}),\n",
       " Prediction(uid='A2VZCBU3EVVJS0', iid='B0008G1VCC', r_ui=4.0, est=2.7771084337349397, details={'actual_k': 0, 'was_impossible': False}),\n",
       " Prediction(uid='A3RSQS5RE3IATN', iid='B000ERD6HS', r_ui=1.0, est=4.050105373397964, details={'was_impossible': True, 'reason': 'User and/or item is unkown.'}),\n",
       " Prediction(uid='AHV9J8CG6NA4M', iid='B000GL3MOY', r_ui=4.0, est=4.050105373397964, details={'was_impossible': True, 'reason': 'User and/or item is unkown.'}),\n",
       " Prediction(uid='A1OBCE5GZCZVVH', iid='B000BNJWQE', r_ui=1.0, est=4.050105373397964, details={'was_impossible': True, 'reason': 'User and/or item is unkown.'}),\n",
       " Prediction(uid='A1O2VT8H8X0NQ4', iid='B0000CDJPQ', r_ui=5.0, est=4.050105373397964, details={'was_impossible': True, 'reason': 'User and/or item is unkown.'}),\n",
       " Prediction(uid='A32LX4XJ2LU740', iid='B00006B9CR', r_ui=5.0, est=3.8660714285714284, details={'actual_k': 0, 'was_impossible': False}),\n",
       " Prediction(uid='A28JHT2HHJB4ZK', iid='B0000YD2JC', r_ui=4.0, est=4.666666666666667, details={'actual_k': 0, 'was_impossible': False}),\n",
       " Prediction(uid='A2N29TFP511B4L', iid='B000FJEZ0C', r_ui=2.0, est=4.050105373397964, details={'was_impossible': True, 'reason': 'User and/or item is unkown.'}),\n",
       " Prediction(uid='A2HPKZUJY07LDP', iid='B000BSJFJS', r_ui=4.0, est=4.050105373397964, details={'was_impossible': True, 'reason': 'User and/or item is unkown.'}),\n",
       " Prediction(uid='A1DFQ651K7CMNU', iid='B0006B486K', r_ui=4.0, est=4.050105373397964, details={'was_impossible': True, 'reason': 'User and/or item is unkown.'}),\n",
       " Prediction(uid='ACXE1UD3X7N8P', iid='B000BKJZ9Q', r_ui=4.0, est=4.050105373397964, details={'was_impossible': True, 'reason': 'User and/or item is unkown.'}),\n",
       " Prediction(uid='ACETSRI9PDV95', iid='B0007Y798U', r_ui=1.0, est=4.050105373397964, details={'was_impossible': True, 'reason': 'User and/or item is unkown.'}),\n",
       " Prediction(uid='A1PNKA3PQBKHPW', iid='B0009STJIW', r_ui=5.0, est=4.050105373397964, details={'was_impossible': True, 'reason': 'User and/or item is unkown.'}),\n",
       " Prediction(uid='AGE30NTN3QEV0', iid='B0002OD3JY', r_ui=4.0, est=4.251612903225807, details={'actual_k': 0, 'was_impossible': False}),\n",
       " Prediction(uid='A3ABTGXHS37J7L', iid='B0007XXU3E', r_ui=4.0, est=4.050105373397964, details={'was_impossible': True, 'reason': 'User and/or item is unkown.'}),\n",
       " Prediction(uid='A2W3889XFMCPMV', iid='B000EPHPPE', r_ui=4.0, est=4.050105373397964, details={'was_impossible': True, 'reason': 'User and/or item is unkown.'}),\n",
       " Prediction(uid='A9RJJD5FKQ1IE', iid='B000GGQ2ZU', r_ui=3.0, est=4.050105373397964, details={'was_impossible': True, 'reason': 'User and/or item is unkown.'}),\n",
       " Prediction(uid='A2XMTHAXLGBL5X', iid='B00007E7JU', r_ui=4.0, est=4.050105373397964, details={'was_impossible': True, 'reason': 'User and/or item is unkown.'}),\n",
       " Prediction(uid='A3AMY3GMDPJNLU', iid='B00067OF80', r_ui=5.0, est=4.050105373397964, details={'was_impossible': True, 'reason': 'User and/or item is unkown.'}),\n",
       " Prediction(uid='A2BVT5QJSEEQI8', iid='B00066IJPQ', r_ui=3.0, est=4.050105373397964, details={'was_impossible': True, 'reason': 'User and/or item is unkown.'}),\n",
       " Prediction(uid='A1RL0KUPWRQTK1', iid='B0001FTVE0', r_ui=5.0, est=4.050105373397964, details={'was_impossible': True, 'reason': 'User and/or item is unkown.'}),\n",
       " Prediction(uid='ARKMN3KFA6I29', iid='B000EEZCEG', r_ui=4.0, est=4.050105373397964, details={'was_impossible': True, 'reason': 'User and/or item is unkown.'}),\n",
       " Prediction(uid='A1RKUHHWHC9TPB', iid='B0006N3EVS', r_ui=3.0, est=4.050105373397964, details={'was_impossible': True, 'reason': 'User and/or item is unkown.'}),\n",
       " Prediction(uid='A13O3AYJ8FN05U', iid='B000IELOY4', r_ui=4.0, est=4.050105373397964, details={'was_impossible': True, 'reason': 'User and/or item is unkown.'}),\n",
       " Prediction(uid='A16U1DUN76UJWF', iid='B0001LTT5K', r_ui=4.0, est=4.152380952380953, details={'actual_k': 0, 'was_impossible': False}),\n",
       " Prediction(uid='A19CPDSGS17QWN', iid='B0002L5R78', r_ui=5.0, est=4.050105373397964, details={'was_impossible': True, 'reason': 'User and/or item is unkown.'}),\n",
       " Prediction(uid='A39ROCH6WDEYW3', iid='B00009RDIF', r_ui=5.0, est=4.050105373397964, details={'was_impossible': True, 'reason': 'User and/or item is unkown.'}),\n",
       " Prediction(uid='ABT82RWRGGZPK', iid='B0000DBJ8A', r_ui=5.0, est=3.782051282051282, details={'actual_k': 0, 'was_impossible': False}),\n",
       " Prediction(uid='A913XW85IM4GE', iid='B000AA2RCY', r_ui=5.0, est=4.050105373397964, details={'was_impossible': True, 'reason': 'User and/or item is unkown.'}),\n",
       " Prediction(uid='A3JVUZ86D5OIH6', iid='B0009YJXMS', r_ui=4.0, est=4.752675171096164, details={'actual_k': 1, 'was_impossible': False}),\n",
       " Prediction(uid='A20BLBIRG2LVII', iid='B000BMVITE', r_ui=1.0, est=4.050105373397964, details={'was_impossible': True, 'reason': 'User and/or item is unkown.'}),\n",
       " Prediction(uid='A2569RGGA6WQFG', iid='B00077AA5Q', r_ui=1.0, est=4.050105373397964, details={'was_impossible': True, 'reason': 'User and/or item is unkown.'}),\n",
       " Prediction(uid='A2I2GVRL2HN8U4', iid='B00009UT28', r_ui=4.0, est=4.050105373397964, details={'was_impossible': True, 'reason': 'User and/or item is unkown.'}),\n",
       " Prediction(uid='AXHQ5GHX2OTTE', iid='B0001DBEM4', r_ui=5.0, est=4.050105373397964, details={'was_impossible': True, 'reason': 'User and/or item is unkown.'}),\n",
       " Prediction(uid='A2GBXIJFHPYQ2V', iid='B000EOPQ7E', r_ui=4.0, est=4.050105373397964, details={'was_impossible': True, 'reason': 'User and/or item is unkown.'}),\n",
       " Prediction(uid='A18MQWHBYS6MLN', iid='B000065BP9', r_ui=3.0, est=4.206772334293948, details={'actual_k': 0, 'was_impossible': False}),\n",
       " Prediction(uid='A20QCH5FQUMVOW', iid='B0006B3QY0', r_ui=4.0, est=4.050105373397964, details={'was_impossible': True, 'reason': 'User and/or item is unkown.'}),\n",
       " Prediction(uid='AN3ZGGQSZKWBN', iid='B0007Y794O', r_ui=5.0, est=4.5152284263959395, details={'actual_k': 0, 'was_impossible': False}),\n",
       " Prediction(uid='AOXATWZWZM5B', iid='B00005ABC5', r_ui=5.0, est=4.050105373397964, details={'was_impossible': True, 'reason': 'User and/or item is unkown.'}),\n",
       " Prediction(uid='A34ATB4KQ7ZJAX', iid='B000BONJXU', r_ui=5.0, est=4.050105373397964, details={'was_impossible': True, 'reason': 'User and/or item is unkown.'}),\n",
       " Prediction(uid='A2AP1G59FWTZTO', iid='B0002MQGOA', r_ui=4.0, est=4.050105373397964, details={'was_impossible': True, 'reason': 'User and/or item is unkown.'}),\n",
       " Prediction(uid='A1VAC7JAFSIHCZ', iid='B0009FUFPG', r_ui=5.0, est=4.050105373397964, details={'was_impossible': True, 'reason': 'User and/or item is unkown.'}),\n",
       " Prediction(uid='A2EPN0N3WPVN3W', iid='B00067TTY0', r_ui=1.0, est=4.050105373397964, details={'was_impossible': True, 'reason': 'User and/or item is unkown.'}),\n",
       " Prediction(uid='A29FIG1BL3DHQU', iid='B00009V332', r_ui=5.0, est=4.050105373397964, details={'was_impossible': True, 'reason': 'User and/or item is unkown.'}),\n",
       " Prediction(uid='A22DFQ1007K51V', iid='B00008X5DD', r_ui=1.0, est=4.050105373397964, details={'was_impossible': True, 'reason': 'User and/or item is unkown.'}),\n",
       " Prediction(uid='A6YJ3SIYGQHV7', iid='B000F0ELOG', r_ui=5.0, est=4.050105373397964, details={'was_impossible': True, 'reason': 'User and/or item is unkown.'}),\n",
       " Prediction(uid='A3K7VN5Q9M7HN4', iid='B00023KG40', r_ui=5.0, est=4.050105373397964, details={'was_impossible': True, 'reason': 'User and/or item is unkown.'}),\n",
       " Prediction(uid='AGH2XYTGXDSMW', iid='B00001WRSJ', r_ui=5.0, est=4.050105373397964, details={'was_impossible': True, 'reason': 'User and/or item is unkown.'}),\n",
       " Prediction(uid='AJ8SL4RC7WUNS', iid='B000BKJZ9Q', r_ui=1.0, est=4.050105373397964, details={'was_impossible': True, 'reason': 'User and/or item is unkown.'}),\n",
       " Prediction(uid='A3KLP2DDU7FN24', iid='B000EXT5AY', r_ui=5.0, est=4.289655172413793, details={'actual_k': 0, 'was_impossible': False}),\n",
       " Prediction(uid='ALAO6E0XMX0E1', iid='B000BYCKUI', r_ui=1.0, est=4.475609756097561, details={'actual_k': 0, 'was_impossible': False}),\n",
       " Prediction(uid='ALR3XL3DJO17G', iid='B000BP8AY2', r_ui=4.0, est=4.050105373397964, details={'was_impossible': True, 'reason': 'User and/or item is unkown.'}),\n",
       " Prediction(uid='A1Y5HUF0O017PK', iid='B000BTGVUS', r_ui=5.0, est=4.050105373397964, details={'was_impossible': True, 'reason': 'User and/or item is unkown.'}),\n",
       " Prediction(uid='AJWAFRQBHSEKJ', iid='B000BGVYYE', r_ui=2.0, est=3.3260869565217392, details={'actual_k': 0, 'was_impossible': False}),\n",
       " Prediction(uid='A1PUGUYNJYIY29', iid='B000HJPK2C', r_ui=5.0, est=5, details={'actual_k': 5, 'was_impossible': False}),\n",
       " Prediction(uid='A12W1J5P559PYW', iid='B00005853X', r_ui=5.0, est=4.050105373397964, details={'was_impossible': True, 'reason': 'User and/or item is unkown.'}),\n",
       " Prediction(uid='A665SACHPFJR', iid='B0009SCMKY', r_ui=5.0, est=4.050105373397964, details={'was_impossible': True, 'reason': 'User and/or item is unkown.'}),\n",
       " Prediction(uid='A2RY7J030LJ6LG', iid='B0002WPSCG', r_ui=5.0, est=4.050105373397964, details={'was_impossible': True, 'reason': 'User and/or item is unkown.'}),\n",
       " Prediction(uid='A1O7Y6WK71XXSD', iid='B0009SUEX6', r_ui=5.0, est=4.377358490566038, details={'actual_k': 0, 'was_impossible': False}),\n",
       " Prediction(uid='A3OMVJ3E0WJN04', iid='B000BKJZ9Q', r_ui=4.0, est=4.050105373397964, details={'was_impossible': True, 'reason': 'User and/or item is unkown.'}),\n",
       " Prediction(uid='AHMO4RIUXW33H', iid='B0002Y5WZC', r_ui=5.0, est=4.050105373397964, details={'was_impossible': True, 'reason': 'User and/or item is unkown.'}),\n",
       " Prediction(uid='A3F2NSR3N0UKP0', iid='B000CSWCQA', r_ui=3.0, est=4.432843385707045, details={'actual_k': 0, 'was_impossible': False}),\n",
       " Prediction(uid='A53BRV8ZKZHPA', iid='B0009ON12G', r_ui=5.0, est=4.050105373397964, details={'was_impossible': True, 'reason': 'User and/or item is unkown.'}),\n",
       " Prediction(uid='A37GPMC0OXCKYD', iid='B0009SCMKY', r_ui=5.0, est=4.050105373397964, details={'was_impossible': True, 'reason': 'User and/or item is unkown.'}),\n",
       " Prediction(uid='A1RJC768ZQSKNR', iid='B00028VKLI', r_ui=5.0, est=4.050105373397964, details={'was_impossible': True, 'reason': 'User and/or item is unkown.'}),\n",
       " Prediction(uid='A24Y4T8OCYTDYQ', iid='B0002JY712', r_ui=4.0, est=4.71513353115727, details={'actual_k': 0, 'was_impossible': False}),\n",
       " Prediction(uid='A18EU4GV8OLOBB', iid='B00003CWDG', r_ui=5.0, est=4.08, details={'actual_k': 0, 'was_impossible': False}),\n",
       " Prediction(uid='A26AJWGWS6DJOY', iid='B0001FTVEK', r_ui=2.0, est=4.050105373397964, details={'was_impossible': True, 'reason': 'User and/or item is unkown.'}),\n",
       " Prediction(uid='AJWR1YOPKAMXR', iid='B000AJIF4E', r_ui=5.0, est=4.050105373397964, details={'was_impossible': True, 'reason': 'User and/or item is unkown.'}),\n",
       " Prediction(uid='A1OUD06DNINZWA', iid='B00005A3MB', r_ui=4.0, est=4.050105373397964, details={'was_impossible': True, 'reason': 'User and/or item is unkown.'}),\n",
       " Prediction(uid='A1Z7U9K6X3FEOU', iid='B00004T8R2', r_ui=5.0, est=4.314884068810771, details={'actual_k': 0, 'was_impossible': False}),\n",
       " Prediction(uid='AIJCNH9IQ4CDX', iid='B000087NBW', r_ui=5.0, est=4.050105373397964, details={'was_impossible': True, 'reason': 'User and/or item is unkown.'}),\n",
       " Prediction(uid='A3EJAOTS7WJ0J7', iid='B000097O5F', r_ui=5.0, est=4.050105373397964, details={'was_impossible': True, 'reason': 'User and/or item is unkown.'}),\n",
       " Prediction(uid='A2WBF0ASGS7GRH', iid='B000F9YN22', r_ui=5.0, est=4.050105373397964, details={'was_impossible': True, 'reason': 'User and/or item is unkown.'}),\n",
       " Prediction(uid='AED0QYOGWOOIL', iid='B0000BZL0G', r_ui=5.0, est=4.050105373397964, details={'was_impossible': True, 'reason': 'User and/or item is unkown.'}),\n",
       " Prediction(uid='A2D74FN9ZIXYF0', iid='B0001MQUOM', r_ui=5.0, est=4.050105373397964, details={'was_impossible': True, 'reason': 'User and/or item is unkown.'}),\n",
       " Prediction(uid='A30JIBOZUL18A7', iid='B0007V5X4U', r_ui=5.0, est=4.050105373397964, details={'was_impossible': True, 'reason': 'User and/or item is unkown.'}),\n",
       " Prediction(uid='A19GL3G3RD1ZJN', iid='B0007NWL70', r_ui=5.0, est=4.050105373397964, details={'was_impossible': True, 'reason': 'User and/or item is unkown.'}),\n",
       " Prediction(uid='A2ZVZ3VDH4RDQE', iid='B0001D3K8A', r_ui=5.0, est=4.050105373397964, details={'was_impossible': True, 'reason': 'User and/or item is unkown.'}),\n",
       " Prediction(uid='A7MQT92H5U10O', iid='B0002L5R78', r_ui=5.0, est=4.050105373397964, details={'was_impossible': True, 'reason': 'User and/or item is unkown.'}),\n",
       " Prediction(uid='A3FH41KWOXJOVF', iid='B000FFISV8', r_ui=5.0, est=5, details={'actual_k': 1, 'was_impossible': False}),\n",
       " Prediction(uid='A2ZBZDU8J6R0W2', iid='B0006VT1TY', r_ui=5.0, est=4.050105373397964, details={'was_impossible': True, 'reason': 'User and/or item is unkown.'}),\n",
       " Prediction(uid='A3IVDOBQ3X5HHT', iid='B0000APONO', r_ui=3.0, est=4.050105373397964, details={'was_impossible': True, 'reason': 'User and/or item is unkown.'}),\n",
       " Prediction(uid='A177TP6E8ZLVJ', iid='B0000WKYU4', r_ui=5.0, est=4.050105373397964, details={'was_impossible': True, 'reason': 'User and/or item is unkown.'}),\n",
       " Prediction(uid='A1XJHPYI0RN97E', iid='B0006B486K', r_ui=4.0, est=4.050105373397964, details={'was_impossible': True, 'reason': 'User and/or item is unkown.'}),\n",
       " Prediction(uid='A2X9AXCWH4MT4I', iid='B000E95SQS', r_ui=2.0, est=4.050105373397964, details={'was_impossible': True, 'reason': 'User and/or item is unkown.'}),\n",
       " Prediction(uid='A3E4DQ85ZXKRCK', iid='B0002L5R78', r_ui=5.0, est=4.050105373397964, details={'was_impossible': True, 'reason': 'User and/or item is unkown.'}),\n",
       " Prediction(uid='A1IA0NOPWFTJHS', iid='B000ANCPNM', r_ui=3.0, est=4.050105373397964, details={'was_impossible': True, 'reason': 'User and/or item is unkown.'}),\n",
       " Prediction(uid='A2OFZSW0HEVICY', iid='B00005T406', r_ui=3.0, est=4.050105373397964, details={'was_impossible': True, 'reason': 'User and/or item is unkown.'}),\n",
       " Prediction(uid='AHYGEKXCUY3LD', iid='B00028ONIA', r_ui=4.0, est=4.050105373397964, details={'was_impossible': True, 'reason': 'User and/or item is unkown.'}),\n",
       " Prediction(uid='A3QYD590LUP5QZ', iid='B000FL5OIW', r_ui=5.0, est=4.050105373397964, details={'was_impossible': True, 'reason': 'User and/or item is unkown.'}),\n",
       " Prediction(uid='A3CO0ZCKSZVLH5', iid='B00006JKW5', r_ui=4.0, est=4.414634146341464, details={'actual_k': 0, 'was_impossible': False}),\n",
       " Prediction(uid='A3ARUSXUCQFI7T', iid='B0002F513E', r_ui=5.0, est=4.050105373397964, details={'was_impossible': True, 'reason': 'User and/or item is unkown.'}),\n",
       " Prediction(uid='A28NW3KBGGNE3M', iid='B000CSWCQA', r_ui=5.0, est=4.050105373397964, details={'was_impossible': True, 'reason': 'User and/or item is unkown.'}),\n",
       " Prediction(uid='AW4ZR3T63NCP0', iid='B0000511U7', r_ui=5.0, est=4.050105373397964, details={'was_impossible': True, 'reason': 'User and/or item is unkown.'}),\n",
       " Prediction(uid='A1TC2QW41HJ37H', iid='B0006I1TRY', r_ui=5.0, est=4.050105373397964, details={'was_impossible': True, 'reason': 'User and/or item is unkown.'}),\n",
       " Prediction(uid='AF89SHGVBIE5O', iid='B000095SB6', r_ui=5.0, est=4.050105373397964, details={'was_impossible': True, 'reason': 'User and/or item is unkown.'}),\n",
       " Prediction(uid='ANS906E4EOXB3', iid='B000H9054A', r_ui=5.0, est=4.171428571428572, details={'actual_k': 0, 'was_impossible': False}),\n",
       " Prediction(uid='A1R7K7GR41Q6CO', iid='B0001GRTK2', r_ui=4.0, est=4.7846153846153845, details={'actual_k': 0, 'was_impossible': False}),\n",
       " Prediction(uid='A3OAPBEMR0B3JV', iid='B000AM6QHE', r_ui=3.0, est=4.507462686567164, details={'actual_k': 0, 'was_impossible': False}),\n",
       " Prediction(uid='A2GOHNFBHUU3UI', iid='B000EJVWGS', r_ui=4.0, est=4.540229885057471, details={'actual_k': 0, 'was_impossible': False}),\n",
       " Prediction(uid='A1MMKUKK16T8J2', iid='B000FCFYT0', r_ui=5.0, est=4.050105373397964, details={'was_impossible': True, 'reason': 'User and/or item is unkown.'}),\n",
       " Prediction(uid='AQ5HS8HPE3TNS', iid='B000B63KSM', r_ui=3.0, est=4.050105373397964, details={'was_impossible': True, 'reason': 'User and/or item is unkown.'}),\n",
       " Prediction(uid='A36E2GIFHCC1CG', iid='B000AJIF4E', r_ui=4.0, est=4.641938674579624, details={'actual_k': 0, 'was_impossible': False}),\n",
       " Prediction(uid='A2HRNZNOMJ1Q0M', iid='B00006HSML', r_ui=4.0, est=4.050105373397964, details={'was_impossible': True, 'reason': 'User and/or item is unkown.'}),\n",
       " Prediction(uid='AF6NPHMU004VG', iid='B0002KVQBA', r_ui=5.0, est=4.050105373397964, details={'was_impossible': True, 'reason': 'User and/or item is unkown.'}),\n",
       " Prediction(uid='A2IM3PW1R1WLDQ', iid='B00007EDZG', r_ui=5.0, est=4.050105373397964, details={'was_impossible': True, 'reason': 'User and/or item is unkown.'}),\n",
       " Prediction(uid='A2YL701K4ILF0O', iid='B0002XN3VS', r_ui=5.0, est=3.834710743801653, details={'actual_k': 0, 'was_impossible': False}),\n",
       " Prediction(uid='A26O7ICWPWQOSR', iid='B000068O3T', r_ui=5.0, est=4.050105373397964, details={'was_impossible': True, 'reason': 'User and/or item is unkown.'}),\n",
       " Prediction(uid='A1QJGHUDZ1IPWW', iid='B000FJEYZS', r_ui=5.0, est=4.050105373397964, details={'was_impossible': True, 'reason': 'User and/or item is unkown.'}),\n",
       " Prediction(uid='A3LXY4594J0EBV', iid='B000BQ7GW8', r_ui=5.0, est=4.561927283476204, details={'actual_k': 0, 'was_impossible': False}),\n",
       " Prediction(uid='A1DETMN64D54LQ', iid='B00007E7JU', r_ui=5.0, est=4.050105373397964, details={'was_impossible': True, 'reason': 'User and/or item is unkown.'}),\n",
       " Prediction(uid='A3U0DX8MFOB1XX', iid='B00001WRSJ', r_ui=5.0, est=4.050105373397964, details={'was_impossible': True, 'reason': 'User and/or item is unkown.'}),\n",
       " Prediction(uid='A10OF3TV894N41', iid='B000G36GOK', r_ui=1.0, est=4.050105373397964, details={'was_impossible': True, 'reason': 'User and/or item is unkown.'}),\n",
       " Prediction(uid='A118R8MCZ8WNV4', iid='B00004VUGJ', r_ui=5.0, est=4.050105373397964, details={'was_impossible': True, 'reason': 'User and/or item is unkown.'}),\n",
       " Prediction(uid='AUOPHMA0UE3QD', iid='B000A6PTHI', r_ui=5.0, est=4.050105373397964, details={'was_impossible': True, 'reason': 'User and/or item is unkown.'}),\n",
       " Prediction(uid='A22FY6FPTT6ST7', iid='B000BI1XNE', r_ui=4.0, est=3.346820809248555, details={'actual_k': 0, 'was_impossible': False}),\n",
       " Prediction(uid='AU7Y1YA7ETDZQ', iid='B000BI2180', r_ui=5.0, est=4.050105373397964, details={'was_impossible': True, 'reason': 'User and/or item is unkown.'}),\n",
       " Prediction(uid='A1V6OFTU6FI8CV', iid='B00006HZ0K', r_ui=1.0, est=4.52808988764045, details={'actual_k': 0, 'was_impossible': False}),\n",
       " Prediction(uid='A252FODFMPLVCJ', iid='B000093IRC', r_ui=1.0, est=3.0454545454545454, details={'actual_k': 0, 'was_impossible': False}),\n",
       " Prediction(uid='A98SJDKO71C68', iid='B00030CHRQ', r_ui=5.0, est=4.050105373397964, details={'was_impossible': True, 'reason': 'User and/or item is unkown.'}),\n",
       " Prediction(uid='A1239KXZ5MH7E0', iid='B000HRYV38', r_ui=1.0, est=4.050105373397964, details={'was_impossible': True, 'reason': 'User and/or item is unkown.'}),\n",
       " Prediction(uid='A1C6SAT3RUZLYQ', iid='B0007RV3IE', r_ui=5.0, est=4.050105373397964, details={'was_impossible': True, 'reason': 'User and/or item is unkown.'}),\n",
       " Prediction(uid='A2AJ1WR8CTSAHB', iid='B0007WZLDC', r_ui=4.0, est=4.050105373397964, details={'was_impossible': True, 'reason': 'User and/or item is unkown.'}),\n",
       " Prediction(uid='A1PJZ8FPHUDDM7', iid='B00006JINY', r_ui=4.0, est=4.050105373397964, details={'was_impossible': True, 'reason': 'User and/or item is unkown.'}),\n",
       " Prediction(uid='A3EFHC536R7MC', iid='B00000JI4F', r_ui=1.0, est=4.050105373397964, details={'was_impossible': True, 'reason': 'User and/or item is unkown.'}),\n",
       " Prediction(uid='A3HIEMJQ38283W', iid='B000EXU4YK', r_ui=5.0, est=4.303333333333334, details={'actual_k': 0, 'was_impossible': False}),\n",
       " Prediction(uid='A20L4R03X2YTX1', iid='B00006346W', r_ui=5.0, est=4.050105373397964, details={'was_impossible': True, 'reason': 'User and/or item is unkown.'}),\n",
       " Prediction(uid='A2V3YW8GVOJ4HC', iid='B000FFISV8', r_ui=5.0, est=4.050105373397964, details={'was_impossible': True, 'reason': 'User and/or item is unkown.'}),\n",
       " Prediction(uid='A32VSCFH9L71CY', iid='B00006IRR4', r_ui=5.0, est=4.050105373397964, details={'was_impossible': True, 'reason': 'User and/or item is unkown.'}),\n",
       " Prediction(uid='A24CDJ9H78X04C', iid='B0006ON0QQ', r_ui=5.0, est=4.050105373397964, details={'was_impossible': True, 'reason': 'User and/or item is unkown.'}),\n",
       " Prediction(uid='A2ULUKU7CQFSCH', iid='B000I2WF6W', r_ui=5.0, est=4.050105373397964, details={'was_impossible': True, 'reason': 'User and/or item is unkown.'}),\n",
       " Prediction(uid='A1XWY4WKG8VDFL', iid='B00004TL5Q', r_ui=5.0, est=4.050105373397964, details={'was_impossible': True, 'reason': 'User and/or item is unkown.'}),\n",
       " Prediction(uid='A3OKWUA466UZ67', iid='B00009KH63', r_ui=5.0, est=4.050105373397964, details={'was_impossible': True, 'reason': 'User and/or item is unkown.'}),\n",
       " Prediction(uid='A7Y4AKP3JLD6T', iid='B000HGMMH6', r_ui=1.0, est=4.050105373397964, details={'was_impossible': True, 'reason': 'User and/or item is unkown.'}),\n",
       " Prediction(uid='A24BHEOTZOUXHO', iid='B000EYRIGQ', r_ui=1.0, est=4.050105373397964, details={'was_impossible': True, 'reason': 'User and/or item is unkown.'}),\n",
       " Prediction(uid='A1A306IAZ3TM1', iid='B0009VKJH4', r_ui=5.0, est=4.333333333333333, details={'actual_k': 0, 'was_impossible': False}),\n",
       " Prediction(uid='ABI43FKMP1ZKB', iid='B000ETVKHE', r_ui=5.0, est=4.050105373397964, details={'was_impossible': True, 'reason': 'User and/or item is unkown.'}),\n",
       " Prediction(uid='AS5X64W21W15P', iid='B0007QKXYU', r_ui=5.0, est=4.188356164383562, details={'actual_k': 0, 'was_impossible': False}),\n",
       " Prediction(uid='A1RITETQWE4TD2', iid='B0002OZXHO', r_ui=5.0, est=4.050105373397964, details={'was_impossible': True, 'reason': 'User and/or item is unkown.'}),\n",
       " Prediction(uid='A1QLF7PKV34HIK', iid='B0002L5R78', r_ui=4.0, est=4.050105373397964, details={'was_impossible': True, 'reason': 'User and/or item is unkown.'}),\n",
       " Prediction(uid='AP76U923K286Q', iid='B000ETVKHE', r_ui=5.0, est=4.037369207772795, details={'actual_k': 0, 'was_impossible': False}),\n",
       " Prediction(uid='A2F2SB7MM540WA', iid='B00004WCGF', r_ui=5.0, est=4.050105373397964, details={'was_impossible': True, 'reason': 'User and/or item is unkown.'}),\n",
       " Prediction(uid='ABRG8N7G301VW', iid='B0001H29OW', r_ui=5.0, est=4.050105373397964, details={'was_impossible': True, 'reason': 'User and/or item is unkown.'}),\n",
       " Prediction(uid='AKWMG9L6C8EB3', iid='B000CQCGSG', r_ui=1.0, est=4.050105373397964, details={'was_impossible': True, 'reason': 'User and/or item is unkown.'}),\n",
       " Prediction(uid='A3BH7RTYUU54BP', iid='B00064ABSG', r_ui=2.0, est=4.050105373397964, details={'was_impossible': True, 'reason': 'User and/or item is unkown.'}),\n",
       " Prediction(uid='A2QFXOT2411K67', iid='B0002MQGKO', r_ui=2.0, est=4.269230769230769, details={'actual_k': 0, 'was_impossible': False}),\n",
       " Prediction(uid='A2RUPT61KCIF4V', iid='B0001F1ZY4', r_ui=1.0, est=3.977272727272727, details={'actual_k': 0, 'was_impossible': False}),\n",
       " Prediction(uid='A1XP4HYNRWP2Q9', iid='B0000BVYTV', r_ui=5.0, est=3.9555808656036446, details={'actual_k': 0, 'was_impossible': False}),\n",
       " Prediction(uid='APEN91QZH7RA', iid='B00022OBO2', r_ui=5.0, est=4.050105373397964, details={'was_impossible': True, 'reason': 'User and/or item is unkown.'}),\n",
       " Prediction(uid='A371FY8SJ3ZZ1J', iid='B000FKYQFA', r_ui=4.0, est=4.467625899280575, details={'actual_k': 0, 'was_impossible': False}),\n",
       " Prediction(uid='APO2Q77TABHCD', iid='B000067RT6', r_ui=4.0, est=4.050105373397964, details={'was_impossible': True, 'reason': 'User and/or item is unkown.'}),\n",
       " Prediction(uid='A18MJ3P85M2XMS', iid='B0009N5MCY', r_ui=5.0, est=4.050105373397964, details={'was_impossible': True, 'reason': 'User and/or item is unkown.'}),\n",
       " Prediction(uid='A35FLRT1MWWWD1', iid='B000A6PPOK', r_ui=5.0, est=4.050105373397964, details={'was_impossible': True, 'reason': 'User and/or item is unkown.'}),\n",
       " Prediction(uid='AUMTCRN8IXPST', iid='B0002D03ZW', r_ui=5.0, est=4.050105373397964, details={'was_impossible': True, 'reason': 'User and/or item is unkown.'}),\n",
       " Prediction(uid='AI7TNFWKO9GIJ', iid='B00006B9CR', r_ui=5.0, est=4.050105373397964, details={'was_impossible': True, 'reason': 'User and/or item is unkown.'}),\n",
       " Prediction(uid='A22ZLW9C5B9PE3', iid='B00004YRVY', r_ui=4.0, est=4.050105373397964, details={'was_impossible': True, 'reason': 'User and/or item is unkown.'}),\n",
       " Prediction(uid='A2OG5YI72RNRER', iid='B000I4RMOU', r_ui=5.0, est=3.585294117647059, details={'actual_k': 0, 'was_impossible': False}),\n",
       " Prediction(uid='A1HNT9IJ01S0SV', iid='B000AA2RCY', r_ui=5.0, est=4.050105373397964, details={'was_impossible': True, 'reason': 'User and/or item is unkown.'}),\n",
       " Prediction(uid='A166TZDSHAWKBA', iid='B0002BEUYO', r_ui=4.0, est=4.050105373397964, details={'was_impossible': True, 'reason': 'User and/or item is unkown.'}),\n",
       " Prediction(uid='A38OCEOMU8XOX4', iid='B0002KVQBA', r_ui=4.0, est=4.568256578947368, details={'actual_k': 0, 'was_impossible': False}),\n",
       " Prediction(uid='ASTE2P3Z3CE2P', iid='B0002L5R78', r_ui=5.0, est=4.050105373397964, details={'was_impossible': True, 'reason': 'User and/or item is unkown.'}),\n",
       " Prediction(uid='A3MU33YJNP2FNB', iid='B000EHYG9K', r_ui=5.0, est=4.311475409836065, details={'actual_k': 0, 'was_impossible': False}),\n",
       " Prediction(uid='A2XJCAQNOLXDZA', iid='B00009UTQK', r_ui=2.0, est=4.5423728813559325, details={'actual_k': 0, 'was_impossible': False}),\n",
       " Prediction(uid='A1YIDB98E0LOKC', iid='B00007EDM8', r_ui=4.0, est=4.050105373397964, details={'was_impossible': True, 'reason': 'User and/or item is unkown.'}),\n",
       " Prediction(uid='A2ZX2F9LSPTNLJ', iid='B00009R6WO', r_ui=5.0, est=4.8513095423412205, details={'actual_k': 1, 'was_impossible': False}),\n",
       " Prediction(uid='A3F0LRVU4EP68O', iid='B0002L5R78', r_ui=5.0, est=4.050105373397964, details={'was_impossible': True, 'reason': 'User and/or item is unkown.'}),\n",
       " Prediction(uid='A3UCEVK5UUQRY2', iid='B000C12GH2', r_ui=3.0, est=4.050105373397964, details={'was_impossible': True, 'reason': 'User and/or item is unkown.'}),\n",
       " Prediction(uid='A23CBLMXJCU56J', iid='B0000VYJRY', r_ui=5.0, est=4.050105373397964, details={'was_impossible': True, 'reason': 'User and/or item is unkown.'}),\n",
       " Prediction(uid='A1DTUK2TX8XW0S', iid='B0001FTVEK', r_ui=5.0, est=4.050105373397964, details={'was_impossible': True, 'reason': 'User and/or item is unkown.'}),\n",
       " Prediction(uid='A2YBV3Z8RIKJTP', iid='B000EVM5DU', r_ui=1.0, est=4.050105373397964, details={'was_impossible': True, 'reason': 'User and/or item is unkown.'}),\n",
       " Prediction(uid='A3J5N9BZK3F61', iid='B0007Y798U', r_ui=3.0, est=4.275229357798165, details={'actual_k': 0, 'was_impossible': False}),\n",
       " Prediction(uid='A369PTENWYZBT3', iid='B0006B486K', r_ui=5.0, est=4.050105373397964, details={'was_impossible': True, 'reason': 'User and/or item is unkown.'}),\n",
       " Prediction(uid='A3AVWE26TRE35Y', iid='B000EVWC9C', r_ui=4.0, est=4.050105373397964, details={'was_impossible': True, 'reason': 'User and/or item is unkown.'}),\n",
       " Prediction(uid='A2KIB5GE55P4YA', iid='B000EVQ0OU', r_ui=5.0, est=4.050105373397964, details={'was_impossible': True, 'reason': 'User and/or item is unkown.'}),\n",
       " Prediction(uid='A3RLNYY0TGETO5', iid='B00004WCID', r_ui=5.0, est=4.050105373397964, details={'was_impossible': True, 'reason': 'User and/or item is unkown.'}),\n",
       " Prediction(uid='A51K24HT21EN3', iid='B0002CZHN6', r_ui=5.0, est=4.050105373397964, details={'was_impossible': True, 'reason': 'User and/or item is unkown.'}),\n",
       " Prediction(uid='A1GNGPG42CNV6D', iid='B00005I9RU', r_ui=4.0, est=4.050105373397964, details={'was_impossible': True, 'reason': 'User and/or item is unkown.'}),\n",
       " Prediction(uid='A378S31S3GBJPR', iid='B00004VX15', r_ui=5.0, est=4.050105373397964, details={'was_impossible': True, 'reason': 'User and/or item is unkown.'}),\n",
       " Prediction(uid='A2LVUKWQ589H8I', iid='B000AL8JKW', r_ui=5.0, est=4.050105373397964, details={'was_impossible': True, 'reason': 'User and/or item is unkown.'}),\n",
       " Prediction(uid='A78RXPIE3IA55', iid='B00004SB92', r_ui=3.0, est=4.050105373397964, details={'was_impossible': True, 'reason': 'User and/or item is unkown.'}),\n",
       " Prediction(uid='AG966EP34CN5R', iid='B0009RTGFY', r_ui=5.0, est=4.050105373397964, details={'was_impossible': True, 'reason': 'User and/or item is unkown.'}),\n",
       " Prediction(uid='A3GSI87AXQQ5H4', iid='B000G3KLPA', r_ui=4.0, est=4.753123653597587, details={'actual_k': 1, 'was_impossible': False}),\n",
       " Prediction(uid='A1R7K6IV1TFE5', iid='B000EMWBT2', r_ui=4.0, est=4.050105373397964, details={'was_impossible': True, 'reason': 'User and/or item is unkown.'}),\n",
       " Prediction(uid='A2JUMVMPQWSJPW', iid='B000FJEZ0C', r_ui=5.0, est=4.050105373397964, details={'was_impossible': True, 'reason': 'User and/or item is unkown.'}),\n",
       " Prediction(uid='A2TWW9LDI1Z1BQ', iid='B000FBK3QK', r_ui=5.0, est=4.3991477272727275, details={'actual_k': 0, 'was_impossible': False}),\n",
       " Prediction(uid='A3A4N27Z4EDEGI', iid='B000BMZHX2', r_ui=5.0, est=4.050105373397964, details={'was_impossible': True, 'reason': 'User and/or item is unkown.'}),\n",
       " Prediction(uid='A2KN0CYASJQ0KW', iid='B0000BVYTV', r_ui=5.0, est=4.050105373397964, details={'was_impossible': True, 'reason': 'User and/or item is unkown.'}),\n",
       " Prediction(uid='A2T72DF4SV2QPU', iid='B00009X6PH', r_ui=5.0, est=3.6180904522613067, details={'actual_k': 0, 'was_impossible': False}),\n",
       " Prediction(uid='A23IMK1MB5AQ5K', iid='B00028A1Z4', r_ui=5.0, est=4.050105373397964, details={'was_impossible': True, 'reason': 'User and/or item is unkown.'}),\n",
       " Prediction(uid='A3SKOVR37Q74QJ', iid='B000050AUJ', r_ui=5.0, est=4.050105373397964, details={'was_impossible': True, 'reason': 'User and/or item is unkown.'}),\n",
       " Prediction(uid='AZZP66WEYSNFL', iid='B00021Z98A', r_ui=1.0, est=4.050105373397964, details={'was_impossible': True, 'reason': 'User and/or item is unkown.'}),\n",
       " Prediction(uid='A1BIRUES7MNM92', iid='B000EOOU6M', r_ui=4.0, est=4.050105373397964, details={'was_impossible': True, 'reason': 'User and/or item is unkown.'}),\n",
       " Prediction(uid='A65BNV5IQ2H30', iid='B000071A7U', r_ui=3.0, est=4.050105373397964, details={'was_impossible': True, 'reason': 'User and/or item is unkown.'}),\n",
       " Prediction(uid='A30Y058CBBWJNP', iid='B0006BHCEK', r_ui=5.0, est=4.050105373397964, details={'was_impossible': True, 'reason': 'User and/or item is unkown.'}),\n",
       " Prediction(uid='A39E0Z7OGWDCQK', iid='B000BBYH8O', r_ui=5.0, est=4.050105373397964, details={'was_impossible': True, 'reason': 'User and/or item is unkown.'}),\n",
       " Prediction(uid='A36V6X0TU2ZMIE', iid='B000IE8Z4Q', r_ui=5.0, est=4.050105373397964, details={'was_impossible': True, 'reason': 'User and/or item is unkown.'}),\n",
       " Prediction(uid='AQST8MFLVD9T6', iid='B000BNHM0C', r_ui=2.0, est=4.050105373397964, details={'was_impossible': True, 'reason': 'User and/or item is unkown.'}),\n",
       " Prediction(uid='A36O2QTULMUUO4', iid='B0000645RH', r_ui=5.0, est=4.050105373397964, details={'was_impossible': True, 'reason': 'User and/or item is unkown.'}),\n",
       " Prediction(uid='A32CQ23727FKOI', iid='B000068P8W', r_ui=5.0, est=4.092198581560283, details={'actual_k': 0, 'was_impossible': False}),\n",
       " Prediction(uid='ANSFQ5YERHTI3', iid='B0002KMQJ6', r_ui=3.0, est=4.050105373397964, details={'was_impossible': True, 'reason': 'User and/or item is unkown.'}),\n",
       " Prediction(uid='ANF5BP1SD3Z3O', iid='B000ETXOC8', r_ui=5.0, est=4.078947368421052, details={'actual_k': 0, 'was_impossible': False}),\n",
       " Prediction(uid='ACIUVE0BZKW0U', iid='B0009PEU3Y', r_ui=5.0, est=4.050105373397964, details={'was_impossible': True, 'reason': 'User and/or item is unkown.'}),\n",
       " Prediction(uid='AJ09UL0F16IT6', iid='B0000BZL5A', r_ui=4.0, est=4.050105373397964, details={'was_impossible': True, 'reason': 'User and/or item is unkown.'}),\n",
       " Prediction(uid='A6NIISVY1H0JZ', iid='B00004VX3T', r_ui=5.0, est=4.3907284768211925, details={'actual_k': 0, 'was_impossible': False}),\n",
       " Prediction(uid='A3JNCCXHRBISGO', iid='B000I68BD4', r_ui=4.0, est=4.050105373397964, details={'was_impossible': True, 'reason': 'User and/or item is unkown.'}),\n",
       " Prediction(uid='A39TVXCX0BI5AO', iid='B00007KDVI', r_ui=3.0, est=3.467186447691492, details={'actual_k': 1, 'was_impossible': False}),\n",
       " Prediction(uid='A2BOK4468JJMFD', iid='B00004SPUN', r_ui=5.0, est=4.050105373397964, details={'was_impossible': True, 'reason': 'User and/or item is unkown.'}),\n",
       " Prediction(uid='A3XHR1XPMDYPG', iid='B0009H62Q0', r_ui=5.0, est=4.050105373397964, details={'was_impossible': True, 'reason': 'User and/or item is unkown.'}),\n",
       " Prediction(uid='A1HPAL36VD0AAK', iid='B000AMDOEM', r_ui=3.0, est=4.050105373397964, details={'was_impossible': True, 'reason': 'User and/or item is unkown.'}),\n",
       " Prediction(uid='A1H0J42OGSJUI', iid='B000EGQS5G', r_ui=1.0, est=4.050105373397964, details={'was_impossible': True, 'reason': 'User and/or item is unkown.'}),\n",
       " Prediction(uid='A3I0JE64AWRZ0M', iid='B000F28DP2', r_ui=4.0, est=4.050105373397964, details={'was_impossible': True, 'reason': 'User and/or item is unkown.'}),\n",
       " Prediction(uid='A1C7OND1J2PFEE', iid='B000095SB6', r_ui=4.0, est=3.5526315789473686, details={'actual_k': 0, 'was_impossible': False}),\n",
       " Prediction(uid='A6TWCKSGRLMJZ', iid='B000F34O1S', r_ui=1.0, est=4.050105373397964, details={'was_impossible': True, 'reason': 'User and/or item is unkown.'}),\n",
       " Prediction(uid='A3JXFQQWGX5BC9', iid='B00024DIDK', r_ui=5.0, est=4.050105373397964, details={'was_impossible': True, 'reason': 'User and/or item is unkown.'}),\n",
       " Prediction(uid='A23AR9JODMW7PB', iid='B000HKGK8Y', r_ui=1.0, est=4.050105373397964, details={'was_impossible': True, 'reason': 'User and/or item is unkown.'}),\n",
       " Prediction(uid='A35YRKTIBLBDVN', iid='B000BFNOT8', r_ui=5.0, est=4.050105373397964, details={'was_impossible': True, 'reason': 'User and/or item is unkown.'}),\n",
       " Prediction(uid='AQS8ZTQ2RV0N4', iid='B000H866BM', r_ui=5.0, est=4.050105373397964, details={'was_impossible': True, 'reason': 'User and/or item is unkown.'}),\n",
       " Prediction(uid='A1EW2XDJFKUNM3', iid='B0002J28NQ', r_ui=4.0, est=3.755020080321285, details={'actual_k': 0, 'was_impossible': False}),\n",
       " Prediction(uid='AN3NJOV264UM3', iid='B0007KQWDM', r_ui=1.0, est=4.050105373397964, details={'was_impossible': True, 'reason': 'User and/or item is unkown.'}),\n",
       " Prediction(uid='A3NXB9WGWI3ZIM', iid='B00006HOL1', r_ui=4.0, est=4.050105373397964, details={'was_impossible': True, 'reason': 'User and/or item is unkown.'}),\n",
       " Prediction(uid='A2OFTBSMJC0YFD', iid='B0002AHT0M', r_ui=5.0, est=3.59805510534846, details={'actual_k': 0, 'was_impossible': False}),\n",
       " Prediction(uid='A3JTC3GFSOI2MP', iid='B00000K135', r_ui=5.0, est=4.050105373397964, details={'was_impossible': True, 'reason': 'User and/or item is unkown.'}),\n",
       " Prediction(uid='A13HXD7FFDF0QN', iid='B00065L5TE', r_ui=5.0, est=4.050105373397964, details={'was_impossible': True, 'reason': 'User and/or item is unkown.'}),\n",
       " Prediction(uid='A3S0N3CJPUJ2HC', iid='B00009KH63', r_ui=5.0, est=3.9987325728770595, details={'actual_k': 0, 'was_impossible': False}),\n",
       " Prediction(uid='A3V615S2N29P3B', iid='B000065BPB', r_ui=4.0, est=4.050105373397964, details={'was_impossible': True, 'reason': 'User and/or item is unkown.'}),\n",
       " Prediction(uid='A2QP2GWP5LB4RU', iid='B00005A3MB', r_ui=5.0, est=4.050105373397964, details={'was_impossible': True, 'reason': 'User and/or item is unkown.'}),\n",
       " Prediction(uid='A1MP1S1GK7R8YT', iid='B00005ABC5', r_ui=5.0, est=4.827160493827161, details={'actual_k': 0, 'was_impossible': False}),\n",
       " Prediction(uid='A2MYHU0N6H7WIF', iid='B00024BK2G', r_ui=5.0, est=4.050105373397964, details={'was_impossible': True, 'reason': 'User and/or item is unkown.'}),\n",
       " Prediction(uid='A2P9KNX5JRKPKH', iid='B000GDAY6Q', r_ui=5.0, est=4.556818181818182, details={'actual_k': 0, 'was_impossible': False}),\n",
       " Prediction(uid='AXE2SM4JHC50N', iid='B000BQ7GW8', r_ui=5.0, est=4.050105373397964, details={'was_impossible': True, 'reason': 'User and/or item is unkown.'}),\n",
       " Prediction(uid='A1E1HKPICYVK4V', iid='B000085BD7', r_ui=5.0, est=4.844099913867356, details={'actual_k': 1, 'was_impossible': False}),\n",
       " Prediction(uid='A33JJRB8ZAU2LF', iid='B00005NIMJ', r_ui=5.0, est=4.519444444444445, details={'actual_k': 0, 'was_impossible': False}),\n",
       " Prediction(uid='A4Z66O0LCXSAF', iid='B000EMCZ52', r_ui=1.0, est=3.3518518518518516, details={'actual_k': 0, 'was_impossible': False}),\n",
       " Prediction(uid='A3J6WK4QJ1WFYE', iid='B000I5LU60', r_ui=5.0, est=4.58, details={'actual_k': 0, 'was_impossible': False}),\n",
       " Prediction(uid='A1G4DSKF6E4XKY', iid='B00004Y3UY', r_ui=5.0, est=4.050105373397964, details={'was_impossible': True, 'reason': 'User and/or item is unkown.'}),\n",
       " Prediction(uid='A22V1O605SJFI8', iid='B0002BEWZQ', r_ui=5.0, est=4.275067557957616, details={'actual_k': 1, 'was_impossible': False}),\n",
       " Prediction(uid='ALLZI1R70MDHL', iid='B000A6NV0U', r_ui=5.0, est=4.050105373397964, details={'was_impossible': True, 'reason': 'User and/or item is unkown.'}),\n",
       " Prediction(uid='A1NIX2WA2ZKLV7', iid='B00004ZCJE', r_ui=4.0, est=4.055033951856487, details={'actual_k': 3, 'was_impossible': False}),\n",
       " Prediction(uid='AC3FVXMYSB211', iid='B0001FTVEK', r_ui=5.0, est=4.050105373397964, details={'was_impossible': True, 'reason': 'User and/or item is unkown.'}),\n",
       " Prediction(uid='AX39P2USL5AVZ', iid='B000HDJXNA', r_ui=1.0, est=4.050105373397964, details={'was_impossible': True, 'reason': 'User and/or item is unkown.'}),\n",
       " Prediction(uid='A3CAI35E7PDPMX', iid='B0007LJHVA', r_ui=4.0, est=4.050105373397964, details={'was_impossible': True, 'reason': 'User and/or item is unkown.'}),\n",
       " Prediction(uid='A3QDY9I0CNMD2W', iid='B00009R6FV', r_ui=4.0, est=4.766666666666667, details={'actual_k': 0, 'was_impossible': False}),\n",
       " Prediction(uid='A3CQO0LG1I0VGJ', iid='B000EUJ1Q0', r_ui=4.0, est=4.050105373397964, details={'was_impossible': True, 'reason': 'User and/or item is unkown.'}),\n",
       " Prediction(uid='A1O1TTL9PPFO12', iid='B0001H27PS', r_ui=5.0, est=4.050105373397964, details={'was_impossible': True, 'reason': 'User and/or item is unkown.'}),\n",
       " Prediction(uid='A26L136RXPJ437', iid='B000652M6Y', r_ui=5.0, est=4.050105373397964, details={'was_impossible': True, 'reason': 'User and/or item is unkown.'}),\n",
       " Prediction(uid='A2OBHNUW2ECUP5', iid='B00007JDRV', r_ui=1.0, est=4.050105373397964, details={'was_impossible': True, 'reason': 'User and/or item is unkown.'}),\n",
       " Prediction(uid='A2TLXAF4WLT7K9', iid='B000BKJZ9Q', r_ui=5.0, est=4.050105373397964, details={'was_impossible': True, 'reason': 'User and/or item is unkown.'}),\n",
       " Prediction(uid='AEDZHM42BPRHE', iid='B0007ZFM38', r_ui=5.0, est=3.596330275229358, details={'actual_k': 0, 'was_impossible': False}),\n",
       " Prediction(uid='A2LIS0CUFYQTZY', iid='B000FJEYZS', r_ui=4.0, est=4.050105373397964, details={'was_impossible': True, 'reason': 'User and/or item is unkown.'}),\n",
       " Prediction(uid='A2PGX2KZ1O5U2V', iid='B0001FTVEK', r_ui=5.0, est=4.050105373397964, details={'was_impossible': True, 'reason': 'User and/or item is unkown.'}),\n",
       " Prediction(uid='A133J60ROJ7XF1', iid='B00005111L', r_ui=5.0, est=4.476190476190476, details={'actual_k': 0, 'was_impossible': False}),\n",
       " Prediction(uid='A2DY6EF19J4BOD', iid='B0002L5R78', r_ui=5.0, est=4.050105373397964, details={'was_impossible': True, 'reason': 'User and/or item is unkown.'}),\n",
       " Prediction(uid='AG2L50US15KRC', iid='B00006HVLW', r_ui=2.0, est=4.050105373397964, details={'was_impossible': True, 'reason': 'User and/or item is unkown.'}),\n",
       " Prediction(uid='A3OIKVDGMA4AAM', iid='B0001DQ5YG', r_ui=4.0, est=4.220779220779221, details={'actual_k': 0, 'was_impossible': False}),\n",
       " Prediction(uid='A2JSZMXHOMCDUC', iid='B000095SB4', r_ui=3.0, est=4.050105373397964, details={'was_impossible': True, 'reason': 'User and/or item is unkown.'}),\n",
       " Prediction(uid='A10AQ3YM84N61L', iid='B000B69WVG', r_ui=5.0, est=4.362068965517241, details={'actual_k': 0, 'was_impossible': False}),\n",
       " Prediction(uid='AA0D0BUXFNQR0', iid='B00019068G', r_ui=4.0, est=5, details={'actual_k': 1, 'was_impossible': False}),\n",
       " Prediction(uid='A2SFCR06IOWTO9', iid='B000HZ9CCA', r_ui=5.0, est=4.050105373397964, details={'was_impossible': True, 'reason': 'User and/or item is unkown.'}),\n",
       " Prediction(uid='A1JFYR3L2H7YWI', iid='B0002L5R78', r_ui=5.0, est=4.445078270098169, details={'actual_k': 0, 'was_impossible': False}),\n",
       " Prediction(uid='A2QMQPPWG8TL0M', iid='B0001NA3S0', r_ui=3.0, est=4.050105373397964, details={'was_impossible': True, 'reason': 'User and/or item is unkown.'}),\n",
       " Prediction(uid='A2G6JXR8ED9I1L', iid='B0002JY712', r_ui=5.0, est=4.050105373397964, details={'was_impossible': True, 'reason': 'User and/or item is unkown.'}),\n",
       " Prediction(uid='A28TL4PI0TGE8Z', iid='B00005ATMB', r_ui=5.0, est=4.050105373397964, details={'was_impossible': True, 'reason': 'User and/or item is unkown.'}),\n",
       " Prediction(uid='A209A1RI85ODN4', iid='B0007XXU3E', r_ui=5.0, est=4.050105373397964, details={'was_impossible': True, 'reason': 'User and/or item is unkown.'}),\n",
       " Prediction(uid='A1EOCFEOUGQUH2', iid='B000095SB4', r_ui=1.0, est=4.050105373397964, details={'was_impossible': True, 'reason': 'User and/or item is unkown.'}),\n",
       " Prediction(uid='AJYBN3TULL0XR', iid='B000F2BLTM', r_ui=5.0, est=4.050105373397964, details={'was_impossible': True, 'reason': 'User and/or item is unkown.'}),\n",
       " Prediction(uid='A37W2D4CBQAD8D', iid='B000F28DP2', r_ui=4.0, est=4.050105373397964, details={'was_impossible': True, 'reason': 'User and/or item is unkown.'}),\n",
       " Prediction(uid='A2D0WZFHNR25UB', iid='B00001P4ZH', r_ui=4.0, est=4.050105373397964, details={'was_impossible': True, 'reason': 'User and/or item is unkown.'}),\n",
       " Prediction(uid='A3BAUOI8M4NQ2S', iid='B000EGI7V4', r_ui=5.0, est=4.400523560209424, details={'actual_k': 0, 'was_impossible': False}),\n",
       " Prediction(uid='A31DHTCP01VA60', iid='B00028Y826', r_ui=5.0, est=4.050105373397964, details={'was_impossible': True, 'reason': 'User and/or item is unkown.'}),\n",
       " Prediction(uid='A2UR34OLZP2MUV', iid='B0002L5R78', r_ui=5.0, est=4.050105373397964, details={'was_impossible': True, 'reason': 'User and/or item is unkown.'}),\n",
       " Prediction(uid='A273BT5RH8W0LD', iid='B00012F6A6', r_ui=4.0, est=3.3472906403940885, details={'actual_k': 0, 'was_impossible': False}),\n",
       " Prediction(uid='AHDVW145V48BW', iid='B0009VFOME', r_ui=5.0, est=4.050105373397964, details={'was_impossible': True, 'reason': 'User and/or item is unkown.'}),\n",
       " Prediction(uid='A2F9NV91KF5SE4', iid='B0006GWIJO', r_ui=1.0, est=4.050105373397964, details={'was_impossible': True, 'reason': 'User and/or item is unkown.'}),\n",
       " Prediction(uid='A2BHFWTAPI5DC8', iid='B000AYDQB6', r_ui=5.0, est=4.050105373397964, details={'was_impossible': True, 'reason': 'User and/or item is unkown.'}),\n",
       " Prediction(uid='A02977001Y87C1B9PA6WX', iid='B000FNKV2Y', r_ui=5.0, est=4.050105373397964, details={'was_impossible': True, 'reason': 'User and/or item is unkown.'}),\n",
       " Prediction(uid='A3VLXKCRUD1DSF', iid='B0007ZFM38', r_ui=3.0, est=3.596330275229358, details={'actual_k': 0, 'was_impossible': False}),\n",
       " Prediction(uid='A1BYVQGJTQTQG3', iid='B000085BD8', r_ui=5.0, est=4.050105373397964, details={'was_impossible': True, 'reason': 'User and/or item is unkown.'}),\n",
       " Prediction(uid='AL2KR7DC30K0X', iid='B00008XETO', r_ui=2.0, est=4.050105373397964, details={'was_impossible': True, 'reason': 'User and/or item is unkown.'}),\n",
       " Prediction(uid='A2L35CQM9Y917N', iid='B0007ZFLYI', r_ui=5.0, est=3.92090395480226, details={'actual_k': 0, 'was_impossible': False}),\n",
       " Prediction(uid='AECPBT70K9QOO', iid='B000EPRG6W', r_ui=4.0, est=4.050105373397964, details={'was_impossible': True, 'reason': 'User and/or item is unkown.'}),\n",
       " Prediction(uid='A15ZC39H13JEQ4', iid='B000B6JJNC', r_ui=1.0, est=4.050105373397964, details={'was_impossible': True, 'reason': 'User and/or item is unkown.'}),\n",
       " Prediction(uid='A1Q85P9IXQR5YE', iid='B0001A99MO', r_ui=4.0, est=3.935828877005348, details={'actual_k': 0, 'was_impossible': False}),\n",
       " Prediction(uid='AT1D58DIY4EGJ', iid='B0002UB2P0', r_ui=2.0, est=4.050105373397964, details={'was_impossible': True, 'reason': 'User and/or item is unkown.'}),\n",
       " Prediction(uid='AP1F9PS85Y9IS', iid='B00008L3HY', r_ui=5.0, est=4.050105373397964, details={'was_impossible': True, 'reason': 'User and/or item is unkown.'}),\n",
       " Prediction(uid='A19301DGULWNXU', iid='B000BQ7GW8', r_ui=5.0, est=4.561927283476204, details={'actual_k': 0, 'was_impossible': False}),\n",
       " Prediction(uid='A3SYSVQ6XN7DJY', iid='B000A5TAT2', r_ui=5.0, est=4.050105373397964, details={'was_impossible': True, 'reason': 'User and/or item is unkown.'}),\n",
       " Prediction(uid='AX3GW980CDILP', iid='B000652M6Y', r_ui=5.0, est=4.050105373397964, details={'was_impossible': True, 'reason': 'User and/or item is unkown.'}),\n",
       " Prediction(uid='A2QCZZLU3EWU1D', iid='B0002Y5WZM', r_ui=5.0, est=4.050105373397964, details={'was_impossible': True, 'reason': 'User and/or item is unkown.'}),\n",
       " Prediction(uid='AWMUNWNDEMQYT', iid='B0007N55LO', r_ui=4.0, est=4.050105373397964, details={'was_impossible': True, 'reason': 'User and/or item is unkown.'}),\n",
       " Prediction(uid='A37QSWVMJXAHSF', iid='B0001F1ZY4', r_ui=4.0, est=4.050105373397964, details={'was_impossible': True, 'reason': 'User and/or item is unkown.'}),\n",
       " Prediction(uid='AJ1JWP6PH3WGJ', iid='B0007U9SOC', r_ui=5.0, est=4.050105373397964, details={'was_impossible': True, 'reason': 'User and/or item is unkown.'}),\n",
       " Prediction(uid='AE55RB3B1XN02', iid='B000BV8604', r_ui=5.0, est=3.8281535648994516, details={'actual_k': 0, 'was_impossible': False}),\n",
       " Prediction(uid='A12Q5TXEQTGZPY', iid='B000F744T6', r_ui=5.0, est=4.050105373397964, details={'was_impossible': True, 'reason': 'User and/or item is unkown.'}),\n",
       " Prediction(uid='AB31FF0JMPOUP', iid='0972683275', r_ui=5.0, est=4.050105373397964, details={'was_impossible': True, 'reason': 'User and/or item is unkown.'}),\n",
       " Prediction(uid='AKA1KVZVI7JUA', iid='B0000EI9VU', r_ui=5.0, est=4.298245614035087, details={'actual_k': 0, 'was_impossible': False}),\n",
       " Prediction(uid='A32T6HWSM88DMP', iid='B0002Z82XA', r_ui=5.0, est=4.050105373397964, details={'was_impossible': True, 'reason': 'User and/or item is unkown.'}),\n",
       " Prediction(uid='A2G3HNPBVWPEKH', iid='B0009P5YA2', r_ui=4.0, est=4.050105373397964, details={'was_impossible': True, 'reason': 'User and/or item is unkown.'}),\n",
       " Prediction(uid='A3BVSAZREDP9RH', iid='B0002A0206', r_ui=3.0, est=3.668965517241379, details={'actual_k': 0, 'was_impossible': False}),\n",
       " Prediction(uid='A1XMMIP11MZCGN', iid='B00008W7LS', r_ui=4.0, est=5, details={'actual_k': 1, 'was_impossible': False}),\n",
       " Prediction(uid='AI8KN64ZFL1LO', iid='B00067OS0A', r_ui=5.0, est=4.050105373397964, details={'was_impossible': True, 'reason': 'User and/or item is unkown.'}),\n",
       " Prediction(uid='A3ARBQO08FLF1J', iid='B000087BXU', r_ui=4.0, est=4.050105373397964, details={'was_impossible': True, 'reason': 'User and/or item is unkown.'}),\n",
       " Prediction(uid='AJOD9QBI283QR', iid='B000B9RI14', r_ui=5.0, est=4.050105373397964, details={'was_impossible': True, 'reason': 'User and/or item is unkown.'}),\n",
       " Prediction(uid='A2RXV2OG9D8CCL', iid='B000FBH35E', r_ui=2.0, est=4.050105373397964, details={'was_impossible': True, 'reason': 'User and/or item is unkown.'}),\n",
       " Prediction(uid='A2P2E7N2HQ7KRZ', iid='B000062VUO', r_ui=4.0, est=4.305521472392638, details={'actual_k': 0, 'was_impossible': False}),\n",
       " Prediction(uid='AYWZ3TUVGV7KP', iid='B00076SC4S', r_ui=5.0, est=4.050105373397964, details={'was_impossible': True, 'reason': 'User and/or item is unkown.'}),\n",
       " Prediction(uid='A38BSTIGE87KQ1', iid='B0006G10V6', r_ui=4.0, est=4.050105373397964, details={'was_impossible': True, 'reason': 'User and/or item is unkown.'}),\n",
       " Prediction(uid='A3VKD29SRLTGAS', iid='B0002L5R78', r_ui=3.0, est=4.050105373397964, details={'was_impossible': True, 'reason': 'User and/or item is unkown.'}),\n",
       " Prediction(uid='AQ55H30MZSV0Q', iid='B000HPV3RW', r_ui=3.0, est=4.511930585683297, details={'actual_k': 0, 'was_impossible': False}),\n",
       " Prediction(uid='A142S5COU2WXUK', iid='B00093IIRA', r_ui=5.0, est=4.050105373397964, details={'was_impossible': True, 'reason': 'User and/or item is unkown.'}),\n",
       " Prediction(uid='A11GI7PB58S0IX', iid='B000I1ZWRC', r_ui=5.0, est=4.578571428571428, details={'actual_k': 0, 'was_impossible': False}),\n",
       " Prediction(uid='A33L98LAZ3WZT5', iid='B000HE6OAE', r_ui=5.0, est=4.050105373397964, details={'was_impossible': True, 'reason': 'User and/or item is unkown.'}),\n",
       " Prediction(uid='A3SLQ0A3DET82E', iid='B0001LTT5K', r_ui=4.0, est=4.152380952380953, details={'actual_k': 0, 'was_impossible': False}),\n",
       " Prediction(uid='A21EEKLPCHK491', iid='B00007AKC1', r_ui=5.0, est=4.447368421052632, details={'actual_k': 0, 'was_impossible': False}),\n",
       " Prediction(uid='A2UHX3928QLLXL', iid='B000BQ7GW8', r_ui=1.0, est=4.050105373397964, details={'was_impossible': True, 'reason': 'User and/or item is unkown.'}),\n",
       " ...]"
      ]
     },
     "execution_count": 100,
     "metadata": {},
     "output_type": "execute_result"
    }
   ],
   "source": [
    "# run the trained model against the testset\n",
    "test_pred = algo.test(testset)\n",
    "test_pred"
   ]
  },
  {
   "cell_type": "markdown",
   "metadata": {},
   "source": [
    "## 3.2) Model-based Collaborative Filtering "
   ]
  },
  {
   "cell_type": "code",
   "execution_count": 119,
   "metadata": {},
   "outputs": [
    {
     "data": {
      "text/html": [
       "<div>\n",
       "<style scoped>\n",
       "    .dataframe tbody tr th:only-of-type {\n",
       "        vertical-align: middle;\n",
       "    }\n",
       "\n",
       "    .dataframe tbody tr th {\n",
       "        vertical-align: top;\n",
       "    }\n",
       "\n",
       "    .dataframe thead th {\n",
       "        text-align: right;\n",
       "    }\n",
       "</style>\n",
       "<table border=\"1\" class=\"dataframe\">\n",
       "  <thead>\n",
       "    <tr style=\"text-align: right;\">\n",
       "      <th>userID</th>\n",
       "      <th>A01852072Z7B68UHLI5UG</th>\n",
       "      <th>A0266076X6KPZ6CCHGVS</th>\n",
       "      <th>A0293130VTX2ZXA70JQS</th>\n",
       "      <th>A030530627MK66BD8V4LN</th>\n",
       "      <th>A0571176384K8RBNKGF8O</th>\n",
       "      <th>A0590501PZ7HOWJKBGQ4</th>\n",
       "      <th>A0641581307AKT5MAOU0Q</th>\n",
       "      <th>A076219533YHEV2LJO988</th>\n",
       "      <th>A0821988FXKFYX53V4QG</th>\n",
       "      <th>A099626739FNCRNHIKBCG</th>\n",
       "      <th>...</th>\n",
       "      <th>AZWOPBY75SGAM</th>\n",
       "      <th>AZX0ZDVAFMN78</th>\n",
       "      <th>AZX5LAN9JEAFF</th>\n",
       "      <th>AZX7I110AF0W2</th>\n",
       "      <th>AZXKUK895VGSM</th>\n",
       "      <th>AZXP46IB63PU8</th>\n",
       "      <th>AZYTSU42BZ7TP</th>\n",
       "      <th>AZZGJ2KMWB7R</th>\n",
       "      <th>AZZMV5VT9W7Y8</th>\n",
       "      <th>AZZST8OYL5P4Q</th>\n",
       "    </tr>\n",
       "    <tr>\n",
       "      <th>productID</th>\n",
       "      <th></th>\n",
       "      <th></th>\n",
       "      <th></th>\n",
       "      <th></th>\n",
       "      <th></th>\n",
       "      <th></th>\n",
       "      <th></th>\n",
       "      <th></th>\n",
       "      <th></th>\n",
       "      <th></th>\n",
       "      <th></th>\n",
       "      <th></th>\n",
       "      <th></th>\n",
       "      <th></th>\n",
       "      <th></th>\n",
       "      <th></th>\n",
       "      <th></th>\n",
       "      <th></th>\n",
       "      <th></th>\n",
       "      <th></th>\n",
       "      <th></th>\n",
       "    </tr>\n",
       "  </thead>\n",
       "  <tbody>\n",
       "    <tr>\n",
       "      <td>0972683275</td>\n",
       "      <td>0</td>\n",
       "      <td>0</td>\n",
       "      <td>5</td>\n",
       "      <td>4</td>\n",
       "      <td>0</td>\n",
       "      <td>0</td>\n",
       "      <td>0</td>\n",
       "      <td>0</td>\n",
       "      <td>0</td>\n",
       "      <td>0</td>\n",
       "      <td>...</td>\n",
       "      <td>0</td>\n",
       "      <td>0</td>\n",
       "      <td>0</td>\n",
       "      <td>0</td>\n",
       "      <td>0</td>\n",
       "      <td>0</td>\n",
       "      <td>0</td>\n",
       "      <td>0</td>\n",
       "      <td>0</td>\n",
       "      <td>0</td>\n",
       "    </tr>\n",
       "    <tr>\n",
       "      <td>1400501466</td>\n",
       "      <td>0</td>\n",
       "      <td>0</td>\n",
       "      <td>0</td>\n",
       "      <td>0</td>\n",
       "      <td>0</td>\n",
       "      <td>0</td>\n",
       "      <td>0</td>\n",
       "      <td>0</td>\n",
       "      <td>0</td>\n",
       "      <td>0</td>\n",
       "      <td>...</td>\n",
       "      <td>0</td>\n",
       "      <td>0</td>\n",
       "      <td>0</td>\n",
       "      <td>0</td>\n",
       "      <td>0</td>\n",
       "      <td>0</td>\n",
       "      <td>0</td>\n",
       "      <td>0</td>\n",
       "      <td>0</td>\n",
       "      <td>0</td>\n",
       "    </tr>\n",
       "    <tr>\n",
       "      <td>1400501520</td>\n",
       "      <td>0</td>\n",
       "      <td>0</td>\n",
       "      <td>0</td>\n",
       "      <td>0</td>\n",
       "      <td>0</td>\n",
       "      <td>0</td>\n",
       "      <td>0</td>\n",
       "      <td>0</td>\n",
       "      <td>0</td>\n",
       "      <td>3</td>\n",
       "      <td>...</td>\n",
       "      <td>0</td>\n",
       "      <td>0</td>\n",
       "      <td>0</td>\n",
       "      <td>0</td>\n",
       "      <td>0</td>\n",
       "      <td>0</td>\n",
       "      <td>0</td>\n",
       "      <td>0</td>\n",
       "      <td>0</td>\n",
       "      <td>0</td>\n",
       "    </tr>\n",
       "    <tr>\n",
       "      <td>1400501776</td>\n",
       "      <td>0</td>\n",
       "      <td>0</td>\n",
       "      <td>0</td>\n",
       "      <td>0</td>\n",
       "      <td>0</td>\n",
       "      <td>0</td>\n",
       "      <td>0</td>\n",
       "      <td>0</td>\n",
       "      <td>0</td>\n",
       "      <td>0</td>\n",
       "      <td>...</td>\n",
       "      <td>0</td>\n",
       "      <td>0</td>\n",
       "      <td>0</td>\n",
       "      <td>0</td>\n",
       "      <td>0</td>\n",
       "      <td>0</td>\n",
       "      <td>0</td>\n",
       "      <td>0</td>\n",
       "      <td>1</td>\n",
       "      <td>0</td>\n",
       "    </tr>\n",
       "    <tr>\n",
       "      <td>1400532620</td>\n",
       "      <td>0</td>\n",
       "      <td>0</td>\n",
       "      <td>0</td>\n",
       "      <td>0</td>\n",
       "      <td>0</td>\n",
       "      <td>0</td>\n",
       "      <td>0</td>\n",
       "      <td>0</td>\n",
       "      <td>0</td>\n",
       "      <td>0</td>\n",
       "      <td>...</td>\n",
       "      <td>0</td>\n",
       "      <td>0</td>\n",
       "      <td>0</td>\n",
       "      <td>0</td>\n",
       "      <td>0</td>\n",
       "      <td>0</td>\n",
       "      <td>0</td>\n",
       "      <td>0</td>\n",
       "      <td>0</td>\n",
       "      <td>0</td>\n",
       "    </tr>\n",
       "  </tbody>\n",
       "</table>\n",
       "<p>5 rows × 9832 columns</p>\n",
       "</div>"
      ],
      "text/plain": [
       "userID      A01852072Z7B68UHLI5UG  A0266076X6KPZ6CCHGVS  A0293130VTX2ZXA70JQS  \\\n",
       "productID                                                                       \n",
       "0972683275                      0                     0                     5   \n",
       "1400501466                      0                     0                     0   \n",
       "1400501520                      0                     0                     0   \n",
       "1400501776                      0                     0                     0   \n",
       "1400532620                      0                     0                     0   \n",
       "\n",
       "userID      A030530627MK66BD8V4LN  A0571176384K8RBNKGF8O  \\\n",
       "productID                                                  \n",
       "0972683275                      4                      0   \n",
       "1400501466                      0                      0   \n",
       "1400501520                      0                      0   \n",
       "1400501776                      0                      0   \n",
       "1400532620                      0                      0   \n",
       "\n",
       "userID      A0590501PZ7HOWJKBGQ4  A0641581307AKT5MAOU0Q  \\\n",
       "productID                                                 \n",
       "0972683275                     0                      0   \n",
       "1400501466                     0                      0   \n",
       "1400501520                     0                      0   \n",
       "1400501776                     0                      0   \n",
       "1400532620                     0                      0   \n",
       "\n",
       "userID      A076219533YHEV2LJO988  A0821988FXKFYX53V4QG  \\\n",
       "productID                                                 \n",
       "0972683275                      0                     0   \n",
       "1400501466                      0                     0   \n",
       "1400501520                      0                     0   \n",
       "1400501776                      0                     0   \n",
       "1400532620                      0                     0   \n",
       "\n",
       "userID      A099626739FNCRNHIKBCG  ...  AZWOPBY75SGAM  AZX0ZDVAFMN78  \\\n",
       "productID                          ...                                 \n",
       "0972683275                      0  ...              0              0   \n",
       "1400501466                      0  ...              0              0   \n",
       "1400501520                      3  ...              0              0   \n",
       "1400501776                      0  ...              0              0   \n",
       "1400532620                      0  ...              0              0   \n",
       "\n",
       "userID      AZX5LAN9JEAFF  AZX7I110AF0W2  AZXKUK895VGSM  AZXP46IB63PU8  \\\n",
       "productID                                                                \n",
       "0972683275              0              0              0              0   \n",
       "1400501466              0              0              0              0   \n",
       "1400501520              0              0              0              0   \n",
       "1400501776              0              0              0              0   \n",
       "1400532620              0              0              0              0   \n",
       "\n",
       "userID      AZYTSU42BZ7TP  AZZGJ2KMWB7R  AZZMV5VT9W7Y8  AZZST8OYL5P4Q  \n",
       "productID                                                              \n",
       "0972683275              0             0              0              0  \n",
       "1400501466              0             0              0              0  \n",
       "1400501520              0             0              0              0  \n",
       "1400501776              0             0              1              0  \n",
       "1400532620              0             0              0              0  \n",
       "\n",
       "[5 rows x 9832 columns]"
      ]
     },
     "execution_count": 119,
     "metadata": {},
     "output_type": "execute_result"
    }
   ],
   "source": [
    "# sampling & creating ratings matrix\n",
    "new = popular_data.head(10000)\n",
    "ratings_matrix = new.pivot_table(values='Rating', index='userID', columns='productID', fill_value=0).T\n",
    "ratings_matrix.head()"
   ]
  },
  {
   "cell_type": "code",
   "execution_count": 120,
   "metadata": {},
   "outputs": [
    {
     "data": {
      "text/plain": [
       "(76, 9832)"
      ]
     },
     "execution_count": 120,
     "metadata": {},
     "output_type": "execute_result"
    }
   ],
   "source": [
    "# matrix shape\n",
    "ratings_matrix.shape"
   ]
  },
  {
   "cell_type": "code",
   "execution_count": 150,
   "metadata": {},
   "outputs": [
    {
     "data": {
      "text/plain": [
       "(76, 10)"
      ]
     },
     "execution_count": 150,
     "metadata": {},
     "output_type": "execute_result"
    }
   ],
   "source": [
    "# decomposing the Matrix\n",
    "from sklearn.decomposition import TruncatedSVD\n",
    "SVD = TruncatedSVD(n_components=10)\n",
    "decomposed_matrix = SVD.fit_transform(ratings_matrix)\n",
    "decomposed_matrix.shape"
   ]
  },
  {
   "cell_type": "code",
   "execution_count": 122,
   "metadata": {},
   "outputs": [
    {
     "data": {
      "text/plain": [
       "(76, 76)"
      ]
     },
     "execution_count": 122,
     "metadata": {},
     "output_type": "execute_result"
    }
   ],
   "source": [
    "# creating correlation matrix\n",
    "correlation_matrix = np.corrcoef(decomposed_matrix)\n",
    "correlation_matrix.shape"
   ]
  },
  {
   "cell_type": "code",
   "execution_count": 126,
   "metadata": {},
   "outputs": [
    {
     "data": {
      "text/plain": [
       "'B00000K135'"
      ]
     },
     "execution_count": 126,
     "metadata": {},
     "output_type": "execute_result"
    }
   ],
   "source": [
    "# productID purchased by customer on the 75th index\n",
    "ratings_matrix.index[75]"
   ]
  },
  {
   "cell_type": "code",
   "execution_count": 127,
   "metadata": {},
   "outputs": [
    {
     "data": {
      "text/plain": [
       "75"
      ]
     },
     "execution_count": 127,
     "metadata": {},
     "output_type": "execute_result"
    }
   ],
   "source": [
    "# index of productID purchased by customer\n",
    "\n",
    "i = \"B00000K135\"\n",
    "product_names = list(ratings_matrix.index)\n",
    "product_ID = product_names.index(i)\n",
    "product_ID"
   ]
  },
  {
   "cell_type": "code",
   "execution_count": 128,
   "metadata": {},
   "outputs": [
    {
     "data": {
      "text/plain": [
       "(76,)"
      ]
     },
     "execution_count": 128,
     "metadata": {},
     "output_type": "execute_result"
    }
   ],
   "source": [
    "# correlation for all items with the item purchased by this customer based on items rated by other customers people who bought the same product\n",
    "correlation_product_ID = correlation_matrix[product_ID]\n",
    "correlation_product_ID.shape"
   ]
  },
  {
   "cell_type": "code",
   "execution_count": 137,
   "metadata": {},
   "outputs": [
    {
     "data": {
      "text/plain": [
       "['B000001OM4',\n",
       " 'B00000IGBF',\n",
       " 'B00000J1U8',\n",
       " 'B00000J3NF',\n",
       " 'B00000JCT8',\n",
       " 'B00000JD34',\n",
       " 'B00000JDF6',\n",
       " 'B00000JFE3',\n",
       " 'B00000JHWX',\n",
       " 'B00000JMUG']"
      ]
     },
     "execution_count": 137,
     "metadata": {},
     "output_type": "execute_result"
    }
   ],
   "source": [
    "# recommending a list that has correlation value > 0.65\n",
    "Recommend = list(ratings_matrix.index[correlation_product_ID > 0.65])\n",
    "\n",
    "# removes the item already bought by the customer\n",
    "Recommend.remove(i) \n",
    "\n",
    "# recommends top 10 items to buy\n",
    "Recommend[:10]"
   ]
  },
  {
   "cell_type": "code",
   "execution_count": null,
   "metadata": {},
   "outputs": [],
   "source": []
  }
 ],
 "metadata": {
  "kernelspec": {
   "display_name": "Python 3",
   "language": "python",
   "name": "python3"
  },
  "language_info": {
   "codemirror_mode": {
    "name": "ipython",
    "version": 3
   },
   "file_extension": ".py",
   "mimetype": "text/x-python",
   "name": "python",
   "nbconvert_exporter": "python",
   "pygments_lexer": "ipython3",
   "version": "3.7.4"
  }
 },
 "nbformat": 4,
 "nbformat_minor": 2
}
